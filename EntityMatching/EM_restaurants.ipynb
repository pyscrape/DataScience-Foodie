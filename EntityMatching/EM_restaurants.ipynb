{
 "cells": [
  {
   "cell_type": "markdown",
   "metadata": {
    "deletable": true,
    "editable": true
   },
   "source": [
    "<h1>Project Stage3 Entity Matching Workflow for Restaurant Data set"
   ]
  },
  {
   "cell_type": "markdown",
   "metadata": {
    "deletable": true,
    "editable": true
   },
   "source": [
    "**Introduction**\n",
    "\n",
    "This IPython notebook explains a basic workflow two tables using py_entitymatching. \n",
    "Our goal is to come up with a workflow to match restaurants from Yelp and Zomato sites.\n",
    "Specifically, we want to have precision of atleast 90 percent and as high recall as possible.\n",
    "\n",
    "First, we need to import py_entitymatching package and other libraries as follows:"
   ]
  },
  {
   "cell_type": "code",
   "execution_count": 1,
   "metadata": {
    "collapsed": false,
    "deletable": true,
    "editable": true
   },
   "outputs": [],
   "source": [
    "import sys\n",
    "sys.path.append('/usr/local/lib/python2.7/dist-packages/')\n",
    "\n",
    "import py_entitymatching as em\n",
    "import pandas as pd\n",
    "import os,sys\n",
    "import math"
   ]
  },
  {
   "cell_type": "code",
   "execution_count": 2,
   "metadata": {
    "collapsed": false,
    "deletable": true,
    "editable": true
   },
   "outputs": [
    {
     "name": "stdout",
     "output_type": "stream",
     "text": [
      "python version: 2.7.12 (default, Nov 19 2016, 06:48:10) \n",
      "[GCC 5.4.0 20160609]\n",
      "pandas version: 0.19.2\n",
      "magellan version: 0.1.0\n"
     ]
    }
   ],
   "source": [
    "##Display the versions\n",
    "print('python version: ' + sys.version )\n",
    "print('pandas version: ' + pd.__version__ )\n",
    "print('magellan version: ' + em.__version__ )"
   ]
  },
  {
   "cell_type": "markdown",
   "metadata": {
    "deletable": true,
    "editable": true
   },
   "source": [
    "**Matching two tables typically consists of the following three steps**\n",
    "\n",
    "1. Reading the input tables\n",
    "\n",
    "2. Blocking the input tables to get a candidate set\n",
    "\n",
    "3. Matching the tuple pairs in the candidate set\n"
   ]
  },
  {
   "cell_type": "markdown",
   "metadata": {
    "deletable": true,
    "editable": true
   },
   "source": [
    "<h1> Read the input tables </h1>\n",
    "\n",
    "We begin by loading the input tables"
   ]
  },
  {
   "cell_type": "code",
   "execution_count": 3,
   "metadata": {
    "collapsed": false,
    "deletable": true,
    "editable": true
   },
   "outputs": [
    {
     "name": "stderr",
     "output_type": "stream",
     "text": [
      "No handlers could be found for logger \"py_entitymatching.io.parsers\"\n"
     ]
    },
    {
     "data": {
      "text/plain": [
       "True"
      ]
     },
     "execution_count": 3,
     "metadata": {},
     "output_type": "execute_result"
    }
   ],
   "source": [
    "## Reading csv tables into pandas dataframe and set the key attribute in the dataframe\n",
    "\n",
    "A=em.read_csv_metadata('../Data/csv/yelp_list.csv')\n",
    "A['ID'] = range(0,len(A))\n",
    "em.set_key(A,'ID')\n",
    "\n",
    "\n",
    "B=em.read_csv_metadata('../Data/csv/zomato_list.csv')\n",
    "B['ID'] = range(0,len(B))\n",
    "em.set_key(B,'ID')"
   ]
  },
  {
   "cell_type": "code",
   "execution_count": 4,
   "metadata": {
    "collapsed": false,
    "deletable": true,
    "editable": true
   },
   "outputs": [
    {
     "name": "stdout",
     "output_type": "stream",
     "text": [
      "Number of tuples in A: 3248\n",
      "Number of tuples in B: 3244\n",
      "Number of tuples in A X B (i.e the cartesian product): 10536512\n"
     ]
    }
   ],
   "source": [
    "print('Number of tuples in A: ' + str(len(A)))\n",
    "print('Number of tuples in B: ' + str(len(B)))\n",
    "print('Number of tuples in A X B (i.e the cartesian product): ' + str(len(A)*len(B)))"
   ]
  },
  {
   "cell_type": "code",
   "execution_count": 80,
   "metadata": {
    "collapsed": false,
    "deletable": true,
    "editable": true
   },
   "outputs": [
    {
     "data": {
      "text/html": [
       "<div>\n",
       "<table border=\"1\" class=\"dataframe\">\n",
       "  <thead>\n",
       "    <tr style=\"text-align: right;\">\n",
       "      <th></th>\n",
       "      <th>number_of_reviews</th>\n",
       "      <th>price_range</th>\n",
       "      <th>ratingValue</th>\n",
       "      <th>name</th>\n",
       "      <th>address</th>\n",
       "      <th>ID</th>\n",
       "    </tr>\n",
       "  </thead>\n",
       "  <tbody>\n",
       "    <tr>\n",
       "      <th>0</th>\n",
       "      <td>125</td>\n",
       "      <td>$11-30</td>\n",
       "      <td>5.0</td>\n",
       "      <td>DEE DEE</td>\n",
       "      <td>1906 E Cesar Chavez St Austin TX 78702</td>\n",
       "      <td>0</td>\n",
       "    </tr>\n",
       "    <tr>\n",
       "      <th>1</th>\n",
       "      <td>1041</td>\n",
       "      <td>Above $61</td>\n",
       "      <td>4.0</td>\n",
       "      <td>Canlis</td>\n",
       "      <td>2576 Aurora Ave N Seattle WA 98109</td>\n",
       "      <td>1</td>\n",
       "    </tr>\n",
       "  </tbody>\n",
       "</table>\n",
       "</div>"
      ],
      "text/plain": [
       "   number_of_reviews price_range  ratingValue     name  \\\n",
       "0                125      $11-30          5.0  DEE DEE   \n",
       "1               1041   Above $61          4.0   Canlis   \n",
       "\n",
       "                                  address  ID  \n",
       "0  1906 E Cesar Chavez St Austin TX 78702   0  \n",
       "1      2576 Aurora Ave N Seattle WA 98109   1  "
      ]
     },
     "execution_count": 80,
     "metadata": {},
     "output_type": "execute_result"
    }
   ],
   "source": [
    "## Sample tuples in A ( yelp_list )\n",
    "A.head(2)"
   ]
  },
  {
   "cell_type": "code",
   "execution_count": 81,
   "metadata": {
    "collapsed": false,
    "deletable": true,
    "editable": true
   },
   "outputs": [
    {
     "data": {
      "text/html": [
       "<div>\n",
       "<table border=\"1\" class=\"dataframe\">\n",
       "  <thead>\n",
       "    <tr style=\"text-align: right;\">\n",
       "      <th></th>\n",
       "      <th>number_of_reviews</th>\n",
       "      <th>price_range</th>\n",
       "      <th>ratingValue</th>\n",
       "      <th>name</th>\n",
       "      <th>address</th>\n",
       "      <th>ID</th>\n",
       "    </tr>\n",
       "  </thead>\n",
       "  <tbody>\n",
       "    <tr>\n",
       "      <th>0</th>\n",
       "      <td>24 reviews</td>\n",
       "      <td>$20</td>\n",
       "      <td>4.6</td>\n",
       "      <td>La Victoria Taqueria</td>\n",
       "      <td>140 East San Carlos Street, San Jose, CA 95112</td>\n",
       "      <td>0</td>\n",
       "    </tr>\n",
       "    <tr>\n",
       "      <th>1</th>\n",
       "      <td>19 reviews</td>\n",
       "      <td>$40</td>\n",
       "      <td>4.6</td>\n",
       "      <td>The Counter</td>\n",
       "      <td>Santana Row, 3055 Olin Avenue, Suite 1035, San Jose, CA 95128</td>\n",
       "      <td>1</td>\n",
       "    </tr>\n",
       "  </tbody>\n",
       "</table>\n",
       "</div>"
      ],
      "text/plain": [
       "  number_of_reviews price_range ratingValue                  name  \\\n",
       "0        24 reviews         $20         4.6  La Victoria Taqueria   \n",
       "1        19 reviews         $40         4.6           The Counter   \n",
       "\n",
       "                                                         address  ID  \n",
       "0                 140 East San Carlos Street, San Jose, CA 95112   0  \n",
       "1  Santana Row, 3055 Olin Avenue, Suite 1035, San Jose, CA 95128   1  "
      ]
     },
     "execution_count": 81,
     "metadata": {},
     "output_type": "execute_result"
    }
   ],
   "source": [
    "## Sample tuples in B (zomato_list)\n",
    "B.head(2)"
   ]
  },
  {
   "cell_type": "code",
   "execution_count": 82,
   "metadata": {
    "collapsed": false,
    "deletable": true,
    "editable": true
   },
   "outputs": [
    {
     "data": {
      "text/plain": [
       "('ID', 'ID')"
      ]
     },
     "execution_count": 82,
     "metadata": {},
     "output_type": "execute_result"
    }
   ],
   "source": [
    "# Display the keys of the input tables\n",
    "em.get_key(A), em.get_key(B)"
   ]
  },
  {
   "cell_type": "markdown",
   "metadata": {
    "deletable": true,
    "editable": true
   },
   "source": [
    "<h1> Data Cleaning "
   ]
  },
  {
   "cell_type": "markdown",
   "metadata": {
    "deletable": true,
    "editable": true
   },
   "source": [
    "Some attributes of the table are cleaned for easier comparison. \n",
    "Examples : \n",
    "    * Price Range of yelp list is converted into a number (as it is in zomato)\n",
    "    * If the word \"restaurant\" appears as a last word in the restaurant name, it is removed."
   ]
  },
  {
   "cell_type": "code",
   "execution_count": 5,
   "metadata": {
    "collapsed": false,
    "deletable": true,
    "editable": true
   },
   "outputs": [],
   "source": [
    "##Data Cleaning1: Converting  price range to an absolute number. Will be applied for yelp list \n",
    "\n",
    "\n",
    "def clean_price_range( price_str ):\n",
    "\n",
    "    avg_price = ''\n",
    "    \n",
    "    if not isinstance(price_str,basestring)  and  math.isnan(price_str):\n",
    "        return price_str\n",
    "\n",
    "    str2 = price_str.replace('$','')\n",
    "        \n",
    "    if '-' in str2:\n",
    "        num_l = int(str2.split('-')[0])\n",
    "        num_r = int(str2.split('-')[1])\n",
    "        num_avg = (num_l+num_r)/2\n",
    "        avg_price = '$' + str(num_avg)\n",
    "\n",
    "    else:\n",
    "        str_word = str2.split()[0].lower()\n",
    "        num_price  = int(str2.split()[1])\n",
    "        \n",
    "        if str_word == 'above':\n",
    "            num_avg = int(num_price + num_price/2)\n",
    "            avg_price = '$' + str(num_avg)\n",
    "\n",
    "        else:\n",
    "            num_avg = num_price/2\n",
    "            avg_price = '$' + str(num_avg)\n",
    "            \n",
    "    return avg_price"
   ]
  },
  {
   "cell_type": "code",
   "execution_count": 6,
   "metadata": {
    "collapsed": true,
    "deletable": true,
    "editable": true
   },
   "outputs": [],
   "source": [
    "##Data Cleaning2: Removing \"reviews\" string from num_reviews column. Will be applied for zomato list\n",
    "\n",
    "\n",
    "def clean_num_reviews(review_string) :\n",
    "      return int(review_string.split()[0])"
   ]
  },
  {
   "cell_type": "code",
   "execution_count": 7,
   "metadata": {
    "collapsed": false,
    "deletable": true,
    "editable": true
   },
   "outputs": [],
   "source": [
    "##Data Cleaning3: Removing \"restaurant\" if it is the last word in restaurant name. to prevent inconsistentcy.\n",
    "## Will be applied for both lists\n",
    "\n",
    "\n",
    "def clean_name( name_str):\n",
    "\n",
    "    name_lower = name_str.lower()\n",
    "\n",
    "    name_2 = name_lower.split()[-1]\n",
    "    \n",
    "    if name_2 == 'restaurant':\n",
    "        name_lower = name_lower.replace('restaurant','')\n",
    "        \n",
    "    return name_lower"
   ]
  },
  {
   "cell_type": "code",
   "execution_count": 8,
   "metadata": {
    "collapsed": false,
    "deletable": true,
    "editable": true
   },
   "outputs": [],
   "source": [
    "##Data Cleaning4: Removing quotes and shortening some words in address.Will be applied for zomato list \n",
    "\n",
    "def clean_address( address ):\n",
    "    addr_2 = address.replace('\\\"','')\n",
    "    addr_3 = addr_2.replace(',','')\n",
    "    if \"Street\" in addr_3:\n",
    "        addr_3 = addr_3.replace('Street','St')\n",
    "    if \"Boulevard\" in addr_3:\n",
    "        addr_3 = addr_3.replace('Boulevard','Blvd')\n",
    "        \n",
    "    return addr_3"
   ]
  },
  {
   "cell_type": "code",
   "execution_count": 9,
   "metadata": {
    "collapsed": true,
    "deletable": true,
    "editable": true
   },
   "outputs": [],
   "source": [
    "## Data Cleaning5: Convert rating value into string type\n",
    "def clean_rating_value(ratingValue):\n",
    "    return str(ratingValue)"
   ]
  },
  {
   "cell_type": "code",
   "execution_count": 10,
   "metadata": {
    "collapsed": false,
    "deletable": true,
    "editable": true
   },
   "outputs": [],
   "source": [
    "## Apply Data Cleaning to tables\n",
    "\n",
    "A['price_range'] = A['price_range'].apply( clean_price_range )\n",
    "A['name'] = A['name'].apply( clean_name )\n",
    "A['ratingValue'] = A['ratingValue'].apply(clean_rating_value)\n",
    "\n",
    "\n",
    "\n",
    "B['name'] = B['name'].apply( clean_name )\n",
    "B['address'] = B['address'].apply( clean_address )\n",
    "B['number_of_reviews'] = B['number_of_reviews'].apply( clean_num_reviews )\n",
    "B['ratingValue'] = B['ratingValue'].apply(clean_rating_value)"
   ]
  },
  {
   "cell_type": "markdown",
   "metadata": {
    "deletable": true,
    "editable": true
   },
   "source": [
    "<h1> Block tables to get candidate set"
   ]
  },
  {
   "cell_type": "markdown",
   "metadata": {
    "deletable": true,
    "editable": true
   },
   "source": [
    "Before we do the matching, we would like to remove the obviously non-matching tuple pairs from the input tables. \n",
    "This would reduce the number of tuple pairs considered for matching\n",
    "\n",
    "We have first used a blackbox based blocker which looks at zipcode equivalence to obtain candidate sets.\n",
    "Further these candidate sets are pruned based on name similarity.\n",
    "\n",
    "We use the entitymatching get_features routine to automatically generate features and choose the relevant ones \n",
    "for blocking.\n"
   ]
  },
  {
   "cell_type": "code",
   "execution_count": 13,
   "metadata": {
    "collapsed": false,
    "deletable": true,
    "editable": true
   },
   "outputs": [],
   "source": [
    "# Get features for blocking\n",
    "\n",
    "block_f = em.get_features_for_blocking(A,B)"
   ]
  },
  {
   "cell_type": "code",
   "execution_count": 14,
   "metadata": {
    "collapsed": false,
    "deletable": true,
    "editable": true
   },
   "outputs": [
    {
     "data": {
      "text/plain": [
       "0          number_of_reviews_number_of_reviews_exm\n",
       "1          number_of_reviews_number_of_reviews_anm\n",
       "2     number_of_reviews_number_of_reviews_lev_dist\n",
       "3      number_of_reviews_number_of_reviews_lev_sim\n",
       "4                 price_range_price_range_lev_dist\n",
       "5                  price_range_price_range_lev_sim\n",
       "6                      price_range_price_range_jar\n",
       "7                      price_range_price_range_jwn\n",
       "8                      price_range_price_range_exm\n",
       "9          price_range_price_range_jac_qgm_3_qgm_3\n",
       "10                ratingValue_ratingValue_lev_dist\n",
       "11                 ratingValue_ratingValue_lev_sim\n",
       "12                     ratingValue_ratingValue_jar\n",
       "13                     ratingValue_ratingValue_jwn\n",
       "14                     ratingValue_ratingValue_exm\n",
       "15         ratingValue_ratingValue_jac_qgm_3_qgm_3\n",
       "16                       name_name_jac_qgm_3_qgm_3\n",
       "17                   name_name_cos_dlm_dc0_dlm_dc0\n",
       "18                   name_name_jac_dlm_dc0_dlm_dc0\n",
       "19                                   name_name_mel\n",
       "20                              name_name_lev_dist\n",
       "21                               name_name_lev_sim\n",
       "22                                   name_name_nmw\n",
       "23                                    name_name_sw\n",
       "24                 address_address_jac_qgm_3_qgm_3\n",
       "25             address_address_cos_dlm_dc0_dlm_dc0\n",
       "26                             address_address_mel\n",
       "27                        address_address_lev_dist\n",
       "28                         address_address_lev_sim\n",
       "29                                       ID_ID_exm\n",
       "30                                       ID_ID_anm\n",
       "31                                  ID_ID_lev_dist\n",
       "32                                   ID_ID_lev_sim\n",
       "Name: feature_name, dtype: object"
      ]
     },
     "execution_count": 14,
     "metadata": {},
     "output_type": "execute_result"
    }
   ],
   "source": [
    "# List the names of the features generated\n",
    "block_f['feature_name']"
   ]
  },
  {
   "cell_type": "code",
   "execution_count": 15,
   "metadata": {
    "collapsed": true,
    "deletable": true,
    "editable": true
   },
   "outputs": [],
   "source": [
    "## Routine to block based on zipcode equivalence\n",
    "\n",
    "def zipcode_match(x, y):\n",
    "    # x, y will be of type pandas series\n",
    "    \n",
    "    # get address attribute\n",
    "    x_address = x['address']\n",
    "    y_address = y['address']\n",
    "    \n",
    "    # get the zipcode\n",
    "    x_split, y_split = x_address.split(), y_address.split()\n",
    "    x_zipcode = x_split[len(x_split) - 1]\n",
    "    y_zipcode = y_split[len(y_split) - 1]\n",
    "    \n",
    "    # check if the zipcode match\n",
    "    if x_zipcode != y_zipcode:\n",
    "        return True\n",
    "    else:\n",
    "        return False"
   ]
  },
  {
   "cell_type": "code",
   "execution_count": 16,
   "metadata": {
    "collapsed": true,
    "deletable": true,
    "editable": true
   },
   "outputs": [],
   "source": [
    "## Instantiate blackbox blocker\n",
    "bb = em.BlackBoxBlocker()\n",
    "\n",
    "## Set the black box function\n",
    "bb.set_black_box_function(zipcode_match)"
   ]
  },
  {
   "cell_type": "code",
   "execution_count": 17,
   "metadata": {
    "collapsed": false,
    "deletable": true,
    "editable": true
   },
   "outputs": [
    {
     "data": {
      "text/plain": [
       "'_rule_0'"
      ]
     },
     "execution_count": 17,
     "metadata": {},
     "output_type": "execute_result"
    }
   ],
   "source": [
    "##Rule based on restaurant name similarity\n",
    "rb1 = em.RuleBasedBlocker()\n",
    "rule1 = 'name_name_lev_sim(ltuple,rtuple) < 0.60'\n",
    "rb1.add_rule(rule1, block_f )"
   ]
  },
  {
   "cell_type": "code",
   "execution_count": 18,
   "metadata": {
    "collapsed": false,
    "deletable": true,
    "editable": true
   },
   "outputs": [
    {
     "name": "stderr",
     "output_type": "stream",
     "text": [
      "0%                          100%\n",
      "[##############################] | ETA: 00:03:30 | ETA: 00:03:23 | ETA: 00:03:13 | ETA: 00:03:03 | ETA: 00:02:54 | ETA: 00:02:46 | ETA: 00:02:40 | ETA: 00:02:35 | ETA: 00:02:29 | ETA: 00:02:23 | ETA: 00:02:17 | ETA: 00:02:10 | ETA: 00:02:04 | ETA: 00:01:58 | ETA: 00:01:53 | ETA: 00:01:47 | ETA: 00:01:39 | ETA: 00:01:32 | ETA: 00:01:24 | ETA: 00:01:17 | ETA: 00:01:09 | ETA: 00:01:02 | ETA: 00:00:54 | ETA: 00:00:46 | ETA: 00:00:39 | ETA: 00:00:31 | ETA: 00:00:23 | ETA: 00:00:15 | ETA: 00:00:07 | ETA: 00:00:00 | ETA: 00:00:00\n",
      "Total time elapsed: 00:03:47\n",
      "0%                          100%\n",
      "[                              ]0%                          100%\n",
      "[##############################] | ETA: 00:00:11 | ETA: 00:00:10 | ETA: 00:00:08 | ETA: 00:00:08 | ETA: 00:00:08 | ETA: 00:00:07 | ETA: 00:00:06 | ETA: 00:00:06 | ETA: 00:00:05 | ETA: 00:00:05 | ETA: 00:00:04 | ETA: 00:00:04 | ETA: 00:00:04 | ETA: 00:00:03 | ETA: 00:00:03 | ETA: 00:00:03 | ETA: 00:00:03 | ETA: 00:00:02 | ETA: 00:00:02 | ETA: 00:00:02 | ETA: 00:00:02 | ETA: 00:00:01 | ETA: 00:00:01 | ETA: 00:00:01 | ETA: 00:00:01 | ETA: 00:00:00 | ETA: 00:00:00 | ETA: 00:00:00 | ETA: 00:00:00 | ETA: 00:00:00 | ETA: 00:00:00\n",
      "Total time elapsed: 00:00:05\n"
     ]
    }
   ],
   "source": [
    "## Blocking Pipeline- First block based on zip code then block based on name similarity##\n",
    "\n",
    "C1 = bb.block_tables(A,B,l_output_attrs=['ID','name','address','ratingValue','price_range','number_of_reviews'],r_output_attrs=['ID','name','address','ratingValue','price_range','number_of_reviews'],n_jobs=-1)\n",
    "\n",
    "C2 = rb1.block_candset(C1,n_jobs=-1)"
   ]
  },
  {
   "cell_type": "code",
   "execution_count": 19,
   "metadata": {
    "collapsed": false,
    "deletable": true,
    "editable": true
   },
   "outputs": [
    {
     "data": {
      "text/plain": [
       "953"
      ]
     },
     "execution_count": 19,
     "metadata": {},
     "output_type": "execute_result"
    }
   ],
   "source": [
    "## Number of tuple pairs in C2\n",
    "len(C2)"
   ]
  },
  {
   "cell_type": "markdown",
   "metadata": {
    "deletable": true,
    "editable": true
   },
   "source": [
    "<h1> Debug Blocker Output\n"
   ]
  },
  {
   "cell_type": "markdown",
   "metadata": {
    "deletable": true,
    "editable": true
   },
   "source": [
    "The number of tuple pairs considered for matching is reduced to  (from 10536512 to 953), \n",
    "but we would want to make sure that the blocker did not drop any potential matches.\n",
    "We could debug the blocker output in py_entitymatching as follows:"
   ]
  },
  {
   "cell_type": "code",
   "execution_count": 97,
   "metadata": {
    "collapsed": true,
    "deletable": true,
    "editable": true
   },
   "outputs": [],
   "source": [
    "# Debug blocker output\n",
    "dbg = em.debug_blocker(C2, A, B, output_size=200)"
   ]
  },
  {
   "cell_type": "code",
   "execution_count": 98,
   "metadata": {
    "collapsed": false,
    "deletable": true,
    "editable": true
   },
   "outputs": [
    {
     "data": {
      "text/html": [
       "<div>\n",
       "<table border=\"1\" class=\"dataframe\">\n",
       "  <thead>\n",
       "    <tr style=\"text-align: right;\">\n",
       "      <th></th>\n",
       "      <th>_id</th>\n",
       "      <th>similarity</th>\n",
       "      <th>ltable_ID</th>\n",
       "      <th>rtable_ID</th>\n",
       "      <th>ltable_price_range</th>\n",
       "      <th>ltable_ratingValue</th>\n",
       "      <th>ltable_name</th>\n",
       "      <th>ltable_address</th>\n",
       "      <th>rtable_price_range</th>\n",
       "      <th>rtable_ratingValue</th>\n",
       "      <th>rtable_name</th>\n",
       "      <th>rtable_address</th>\n",
       "    </tr>\n",
       "  </thead>\n",
       "  <tbody>\n",
       "    <tr>\n",
       "      <th>0</th>\n",
       "      <td>0</td>\n",
       "      <td>0.909091</td>\n",
       "      <td>574</td>\n",
       "      <td>2514</td>\n",
       "      <td>$20</td>\n",
       "      <td>4.0</td>\n",
       "      <td>westville chelsea</td>\n",
       "      <td>246 W 18th St New York NY 10011</td>\n",
       "      <td>$60</td>\n",
       "      <td>4.0</td>\n",
       "      <td>westville</td>\n",
       "      <td>246 W 18th St New York NY 10011</td>\n",
       "    </tr>\n",
       "    <tr>\n",
       "      <th>1</th>\n",
       "      <td>1</td>\n",
       "      <td>0.800000</td>\n",
       "      <td>972</td>\n",
       "      <td>595</td>\n",
       "      <td>$20</td>\n",
       "      <td>3.5</td>\n",
       "      <td>la pastaia</td>\n",
       "      <td>233 W Santa Clara St San Jose CA 95113</td>\n",
       "      <td>$80</td>\n",
       "      <td>3.5</td>\n",
       "      <td>la pastaia kitchen + bar</td>\n",
       "      <td>233 W Santa Clara St San Jose CA 95113</td>\n",
       "    </tr>\n",
       "    <tr>\n",
       "      <th>2</th>\n",
       "      <td>2</td>\n",
       "      <td>0.769231</td>\n",
       "      <td>1191</td>\n",
       "      <td>2861</td>\n",
       "      <td>$20</td>\n",
       "      <td>3.5</td>\n",
       "      <td>joey kitchen</td>\n",
       "      <td>University Village 2603 NE 46th St Seattle WA 98105</td>\n",
       "      <td>$40</td>\n",
       "      <td>3.2</td>\n",
       "      <td>joey</td>\n",
       "      <td>University Village 2603 NE 46th St Seattle WA 98105</td>\n",
       "    </tr>\n",
       "    <tr>\n",
       "      <th>3</th>\n",
       "      <td>3</td>\n",
       "      <td>0.769231</td>\n",
       "      <td>801</td>\n",
       "      <td>741</td>\n",
       "      <td>$20</td>\n",
       "      <td>4.0</td>\n",
       "      <td>fuji sushi</td>\n",
       "      <td>56 W Santa Clara St San Jose CA 95113</td>\n",
       "      <td>$35</td>\n",
       "      <td>3.4</td>\n",
       "      <td>fuji</td>\n",
       "      <td>56 W Santa Clara St San Jose CA 95113</td>\n",
       "    </tr>\n",
       "    <tr>\n",
       "      <th>4</th>\n",
       "      <td>4</td>\n",
       "      <td>0.769231</td>\n",
       "      <td>1084</td>\n",
       "      <td>956</td>\n",
       "      <td>$20</td>\n",
       "      <td>4.0</td>\n",
       "      <td>mudai ethiopian</td>\n",
       "      <td>503 W San Carlos St San Jose CA 95126</td>\n",
       "      <td>$40</td>\n",
       "      <td>3.5</td>\n",
       "      <td>mudai</td>\n",
       "      <td>503 W San Carlos St San Jose CA 95126</td>\n",
       "    </tr>\n",
       "  </tbody>\n",
       "</table>\n",
       "</div>"
      ],
      "text/plain": [
       "   _id  similarity  ltable_ID  rtable_ID ltable_price_range  \\\n",
       "0    0    0.909091        574       2514                $20   \n",
       "1    1    0.800000        972        595                $20   \n",
       "2    2    0.769231       1191       2861                $20   \n",
       "3    3    0.769231        801        741                $20   \n",
       "4    4    0.769231       1084        956                $20   \n",
       "\n",
       "  ltable_ratingValue        ltable_name  \\\n",
       "0                4.0  westville chelsea   \n",
       "1                3.5         la pastaia   \n",
       "2                3.5       joey kitchen   \n",
       "3                4.0         fuji sushi   \n",
       "4                4.0   mudai ethiopian    \n",
       "\n",
       "                                        ltable_address rtable_price_range  \\\n",
       "0                      246 W 18th St New York NY 10011                $60   \n",
       "1               233 W Santa Clara St San Jose CA 95113                $80   \n",
       "2  University Village 2603 NE 46th St Seattle WA 98105                $40   \n",
       "3                56 W Santa Clara St San Jose CA 95113                $35   \n",
       "4                503 W San Carlos St San Jose CA 95126                $40   \n",
       "\n",
       "  rtable_ratingValue               rtable_name  \\\n",
       "0                4.0                 westville   \n",
       "1                3.5  la pastaia kitchen + bar   \n",
       "2                3.2                      joey   \n",
       "3                3.4                      fuji   \n",
       "4                3.5                     mudai   \n",
       "\n",
       "                                        rtable_address  \n",
       "0                      246 W 18th St New York NY 10011  \n",
       "1               233 W Santa Clara St San Jose CA 95113  \n",
       "2  University Village 2603 NE 46th St Seattle WA 98105  \n",
       "3                56 W Santa Clara St San Jose CA 95113  \n",
       "4                503 W San Carlos St San Jose CA 95126  "
      ]
     },
     "execution_count": 98,
     "metadata": {},
     "output_type": "execute_result"
    }
   ],
   "source": [
    "# Display first few tuple pairs from the debug_blocker's output\n",
    "dbg.head()"
   ]
  },
  {
   "cell_type": "markdown",
   "metadata": {
    "collapsed": true,
    "deletable": true,
    "editable": true
   },
   "source": [
    "From the debug blocker's output we observe that the current blocker drops quite a few potential matches. \n",
    "We would want to update the blocking sequence to avoid dropping these potential matches.\n",
    "\n",
    "For the considered dataset, we know that for the restaurants to match, the address should be similar.\n",
    "We could use rule based blocker with address similarity for this purpose.\n",
    "Finally, we would want to union the outputs from the name similarity blocker and the address blocker to get a consolidated candidate set.\n"
   ]
  },
  {
   "cell_type": "code",
   "execution_count": 20,
   "metadata": {
    "collapsed": false,
    "deletable": true,
    "editable": true
   },
   "outputs": [
    {
     "data": {
      "text/plain": [
       "'_rule_0'"
      ]
     },
     "execution_count": 20,
     "metadata": {},
     "output_type": "execute_result"
    }
   ],
   "source": [
    "##Rule based on address similarity\n",
    "rb2 = em.RuleBasedBlocker()\n",
    "rule2 = 'address_address_jac_qgm_3_qgm_3(ltuple,rtuple) < 0.8'\n",
    "rb2.add_rule(rule2,block_f)"
   ]
  },
  {
   "cell_type": "code",
   "execution_count": 21,
   "metadata": {
    "collapsed": false,
    "deletable": true,
    "editable": true
   },
   "outputs": [
    {
     "name": "stderr",
     "output_type": "stream",
     "text": [
      "0%                          100%\n",
      "[                              ]0%                          100%\n",
      "[##############################] | ETA: 00:00:19 | ETA: 00:00:16 | ETA: 00:00:14 | ETA: 00:00:13 | ETA: 00:00:13 | ETA: 00:00:13 | ETA: 00:00:12 | ETA: 00:00:11 | ETA: 00:00:10 | ETA: 00:00:10 | ETA: 00:00:09 | ETA: 00:00:08 | ETA: 00:00:08 | ETA: 00:00:08 | ETA: 00:00:07 | ETA: 00:00:07 | ETA: 00:00:06 | ETA: 00:00:06 | ETA: 00:00:05 | ETA: 00:00:05 | ETA: 00:00:04 | ETA: 00:00:04 | ETA: 00:00:03 | ETA: 00:00:03 | ETA: 00:00:02 | ETA: 00:00:02 | ETA: 00:00:01 | ETA: 00:00:01 | ETA: 00:00:00 | ETA: 00:00:00 | ETA: 00:00:00\n",
      "Total time elapsed: 00:00:14\n"
     ]
    },
    {
     "data": {
      "text/plain": [
       "1636"
      ]
     },
     "execution_count": 21,
     "metadata": {},
     "output_type": "execute_result"
    }
   ],
   "source": [
    "###Address based blocker###\n",
    "C3 = rb2.block_candset(C1,n_jobs=-1)\n",
    "\n",
    "len(C3)"
   ]
  },
  {
   "cell_type": "code",
   "execution_count": 71,
   "metadata": {
    "collapsed": false,
    "deletable": true,
    "editable": true
   },
   "outputs": [
    {
     "data": {
      "text/html": [
       "<div>\n",
       "<table border=\"1\" class=\"dataframe\">\n",
       "  <thead>\n",
       "    <tr style=\"text-align: right;\">\n",
       "      <th></th>\n",
       "      <th>_id</th>\n",
       "      <th>ltable_ID</th>\n",
       "      <th>rtable_ID</th>\n",
       "      <th>ltable_name</th>\n",
       "      <th>ltable_address</th>\n",
       "      <th>ltable_ratingValue</th>\n",
       "      <th>ltable_price_range</th>\n",
       "      <th>ltable_number_of_reviews</th>\n",
       "      <th>rtable_name</th>\n",
       "      <th>rtable_address</th>\n",
       "      <th>rtable_ratingValue</th>\n",
       "      <th>rtable_price_range</th>\n",
       "      <th>rtable_number_of_reviews</th>\n",
       "    </tr>\n",
       "  </thead>\n",
       "  <tbody>\n",
       "    <tr>\n",
       "      <th>0</th>\n",
       "      <td>0</td>\n",
       "      <td>0</td>\n",
       "      <td>29</td>\n",
       "      <td>dee dee</td>\n",
       "      <td>1906 E Cesar Chavez St Austin TX 78702</td>\n",
       "      <td>5.0</td>\n",
       "      <td>$20</td>\n",
       "      <td>125</td>\n",
       "      <td>la barbecue</td>\n",
       "      <td>1906 E Cesar Chavez St Austin TX 78702</td>\n",
       "      <td>4.0</td>\n",
       "      <td>$40</td>\n",
       "      <td>38</td>\n",
       "    </tr>\n",
       "    <tr>\n",
       "      <th>162</th>\n",
       "      <td>162</td>\n",
       "      <td>6</td>\n",
       "      <td>1009</td>\n",
       "      <td>list</td>\n",
       "      <td>2226 1st Ave Seattle WA 98121</td>\n",
       "      <td>4.5</td>\n",
       "      <td>$20</td>\n",
       "      <td>1210</td>\n",
       "      <td>list</td>\n",
       "      <td>2226 1st Avenue Seattle WA 98121</td>\n",
       "      <td>4.1</td>\n",
       "      <td>$45</td>\n",
       "      <td>32</td>\n",
       "    </tr>\n",
       "  </tbody>\n",
       "</table>\n",
       "</div>"
      ],
      "text/plain": [
       "     _id  ltable_ID  rtable_ID ltable_name  \\\n",
       "0      0          0         29     dee dee   \n",
       "162  162          6       1009        list   \n",
       "\n",
       "                             ltable_address ltable_ratingValue  \\\n",
       "0    1906 E Cesar Chavez St Austin TX 78702                5.0   \n",
       "162           2226 1st Ave Seattle WA 98121                4.5   \n",
       "\n",
       "    ltable_price_range  ltable_number_of_reviews  rtable_name  \\\n",
       "0                  $20                       125  la barbecue   \n",
       "162                $20                      1210         list   \n",
       "\n",
       "                             rtable_address rtable_ratingValue  \\\n",
       "0    1906 E Cesar Chavez St Austin TX 78702                4.0   \n",
       "162        2226 1st Avenue Seattle WA 98121                4.1   \n",
       "\n",
       "    rtable_price_range  rtable_number_of_reviews  \n",
       "0                  $40                        38  \n",
       "162                $45                        32  "
      ]
     },
     "execution_count": 71,
     "metadata": {},
     "output_type": "execute_result"
    }
   ],
   "source": [
    "## Display first two rows of C3\n",
    "C3.head(2)"
   ]
  },
  {
   "cell_type": "code",
   "execution_count": 22,
   "metadata": {
    "collapsed": true,
    "deletable": true,
    "editable": true
   },
   "outputs": [],
   "source": [
    "## Combine blocker outputs\n",
    "C4 = em.combine_blocker_outputs_via_union([C2, C3])"
   ]
  },
  {
   "cell_type": "code",
   "execution_count": 23,
   "metadata": {
    "collapsed": false,
    "deletable": true,
    "editable": true
   },
   "outputs": [
    {
     "data": {
      "text/plain": [
       "2048"
      ]
     },
     "execution_count": 23,
     "metadata": {},
     "output_type": "execute_result"
    }
   ],
   "source": [
    "len(C4)"
   ]
  },
  {
   "cell_type": "code",
   "execution_count": 24,
   "metadata": {
    "collapsed": false
   },
   "outputs": [
    {
     "data": {
      "text/plain": [
       "True"
      ]
     },
     "execution_count": 24,
     "metadata": {},
     "output_type": "execute_result"
    }
   ],
   "source": [
    "em.save_object(C4,\"./C4_410.pkl\")"
   ]
  },
  {
   "cell_type": "code",
   "execution_count": 25,
   "metadata": {
    "collapsed": false
   },
   "outputs": [
    {
     "data": {
      "text/plain": [
       "True"
      ]
     },
     "execution_count": 25,
     "metadata": {},
     "output_type": "execute_result"
    }
   ],
   "source": [
    "em.to_csv_metadata(C4,'./C4_410.csv')"
   ]
  },
  {
   "cell_type": "code",
   "execution_count": 28,
   "metadata": {
    "collapsed": false
   },
   "outputs": [
    {
     "data": {
      "text/plain": [
       "_id                         False\n",
       "ltable_ID                   False\n",
       "rtable_ID                   False\n",
       "ltable_name                 False\n",
       "ltable_address              False\n",
       "ltable_ratingValue          False\n",
       "ltable_price_range           True\n",
       "ltable_number_of_reviews    False\n",
       "rtable_name                 False\n",
       "rtable_address              False\n",
       "rtable_ratingValue          False\n",
       "rtable_price_range          False\n",
       "rtable_number_of_reviews    False\n",
       "dtype: bool"
      ]
     },
     "execution_count": 28,
     "metadata": {},
     "output_type": "execute_result"
    }
   ],
   "source": [
    "C4.isnull().any()\n"
   ]
  },
  {
   "cell_type": "markdown",
   "metadata": {
    "deletable": true,
    "editable": true
   },
   "source": [
    "We observe that the number of tuple pairs considered for matching is increased to 2048 (from 953). \n",
    "Now let us debug the blocker output again to check if the current blocker sequence is dropping any potential matches."
   ]
  },
  {
   "cell_type": "code",
   "execution_count": 103,
   "metadata": {
    "collapsed": false,
    "deletable": true,
    "editable": true,
    "scrolled": true
   },
   "outputs": [],
   "source": [
    "# Debug again\n",
    "dbg = em.debug_blocker(C4, A, B)"
   ]
  },
  {
   "cell_type": "code",
   "execution_count": 104,
   "metadata": {
    "collapsed": false,
    "deletable": true,
    "editable": true
   },
   "outputs": [
    {
     "data": {
      "text/html": [
       "<div>\n",
       "<table border=\"1\" class=\"dataframe\">\n",
       "  <thead>\n",
       "    <tr style=\"text-align: right;\">\n",
       "      <th></th>\n",
       "      <th>_id</th>\n",
       "      <th>similarity</th>\n",
       "      <th>ltable_ID</th>\n",
       "      <th>rtable_ID</th>\n",
       "      <th>ltable_price_range</th>\n",
       "      <th>ltable_ratingValue</th>\n",
       "      <th>ltable_name</th>\n",
       "      <th>ltable_address</th>\n",
       "      <th>rtable_price_range</th>\n",
       "      <th>rtable_ratingValue</th>\n",
       "      <th>rtable_name</th>\n",
       "      <th>rtable_address</th>\n",
       "    </tr>\n",
       "  </thead>\n",
       "  <tbody>\n",
       "    <tr>\n",
       "      <th>0</th>\n",
       "      <td>0</td>\n",
       "      <td>0.666667</td>\n",
       "      <td>2876</td>\n",
       "      <td>461</td>\n",
       "      <td>$45</td>\n",
       "      <td>4.0</td>\n",
       "      <td>raymi</td>\n",
       "      <td>43 W 24th St New York NY 10010</td>\n",
       "      <td>$150</td>\n",
       "      <td>4.0</td>\n",
       "      <td>junoon</td>\n",
       "      <td>27 W 24th St New York NY 10010</td>\n",
       "    </tr>\n",
       "    <tr>\n",
       "      <th>1</th>\n",
       "      <td>1</td>\n",
       "      <td>0.666667</td>\n",
       "      <td>1679</td>\n",
       "      <td>851</td>\n",
       "      <td>$20</td>\n",
       "      <td>4.0</td>\n",
       "      <td>galaxy cafe</td>\n",
       "      <td>1000 W Lynn St Austin TX 78703</td>\n",
       "      <td>$40</td>\n",
       "      <td>4.0</td>\n",
       "      <td>zocalo cafe</td>\n",
       "      <td>1110 W Lynn St Austin TX 78703</td>\n",
       "    </tr>\n",
       "    <tr>\n",
       "      <th>2</th>\n",
       "      <td>2</td>\n",
       "      <td>0.666667</td>\n",
       "      <td>604</td>\n",
       "      <td>2218</td>\n",
       "      <td>$20</td>\n",
       "      <td>4.0</td>\n",
       "      <td>cafe habana</td>\n",
       "      <td>17 Prince St New York NY 10012</td>\n",
       "      <td>$55</td>\n",
       "      <td>4.0</td>\n",
       "      <td>fanelli's cafe</td>\n",
       "      <td>94 Prince St New York NY 10012</td>\n",
       "    </tr>\n",
       "  </tbody>\n",
       "</table>\n",
       "</div>"
      ],
      "text/plain": [
       "   _id  similarity  ltable_ID  rtable_ID ltable_price_range  \\\n",
       "0    0    0.666667       2876        461                $45   \n",
       "1    1    0.666667       1679        851                $20   \n",
       "2    2    0.666667        604       2218                $20   \n",
       "\n",
       "  ltable_ratingValue  ltable_name                  ltable_address  \\\n",
       "0                4.0        raymi  43 W 24th St New York NY 10010   \n",
       "1                4.0  galaxy cafe  1000 W Lynn St Austin TX 78703   \n",
       "2                4.0  cafe habana  17 Prince St New York NY 10012   \n",
       "\n",
       "  rtable_price_range rtable_ratingValue     rtable_name  \\\n",
       "0               $150                4.0          junoon   \n",
       "1                $40                4.0     zocalo cafe   \n",
       "2                $55                4.0  fanelli's cafe   \n",
       "\n",
       "                   rtable_address  \n",
       "0  27 W 24th St New York NY 10010  \n",
       "1  1110 W Lynn St Austin TX 78703  \n",
       "2  94 Prince St New York NY 10012  "
      ]
     },
     "execution_count": 104,
     "metadata": {},
     "output_type": "execute_result"
    }
   ],
   "source": [
    "# Display first few rows from the debugger output\n",
    "dbg.head(3)"
   ]
  },
  {
   "cell_type": "markdown",
   "metadata": {
    "deletable": true,
    "editable": true
   },
   "source": [
    "We observe that the current blocker sequence does not drop obvious potential matches, and we can proceed with the matching step now. "
   ]
  },
  {
   "cell_type": "markdown",
   "metadata": {
    "deletable": true,
    "editable": true
   },
   "source": [
    "<h1>  Matching tuple pairs in the candidate set"
   ]
  },
  {
   "cell_type": "markdown",
   "metadata": {
    "deletable": true,
    "editable": true
   },
   "source": [
    "\n",
    "\n",
    "In this step, we would want to match the tuple pairs in the candidate set. Specifically, we use learning-based method for matching purposes. This typically involves the following five steps:\n",
    "\n",
    "* Sampling and labeling the candidate set\n",
    "* Splitting the labeled data into development and evaluation set\n",
    "* Selecting the best learning based matcher using the development set\n",
    "* Evaluating the selected matcher using the evaluation set\n",
    "\n"
   ]
  },
  {
   "cell_type": "markdown",
   "metadata": {
    "deletable": true,
    "editable": true
   },
   "source": [
    "<h1> Sampling and labeling the candidate set"
   ]
  },
  {
   "cell_type": "markdown",
   "metadata": {
    "deletable": true,
    "editable": true
   },
   "source": [
    "First, we randomly sample 350 tuple pairs for labeling purposes."
   ]
  },
  {
   "cell_type": "code",
   "execution_count": 11,
   "metadata": {
    "collapsed": false
   },
   "outputs": [
    {
     "data": {
      "text/plain": [
       "2033"
      ]
     },
     "execution_count": 11,
     "metadata": {},
     "output_type": "execute_result"
    }
   ],
   "source": [
    "#load labeled data from previous session\n",
    "C4 = em.load_object('./C4.pkl')\n",
    "len(C4)"
   ]
  },
  {
   "cell_type": "code",
   "execution_count": 12,
   "metadata": {
    "collapsed": false
   },
   "outputs": [
    {
     "data": {
      "text/plain": [
       "True"
      ]
     },
     "execution_count": 12,
     "metadata": {},
     "output_type": "execute_result"
    }
   ],
   "source": [
    "## Load C4 into em catalog\n",
    "em.set_fk_ltable(C4, 'ltable_ID')\n",
    "em.set_fk_rtable(C4, 'rtable_ID')\n",
    "em.set_key(C4, '_id')\n",
    "em.set_ltable(C4, A)\n",
    "em.set_rtable(C4, B)"
    "## Loading G into em catalog\n",
    "\n",
    "em.set_fk_ltable(G, 'ltable_ID')\n",
    "em.set_fk_rtable(G, 'rtable_ID')\n",
    "em.set_key(G, '_id')\n",
    "em.set_ltable(G, A)\n",
    "em.set_rtable(G, B)"
   ]
  },
  {
   "cell_type": "code",
   "execution_count": null,
   "metadata": {
    "collapsed": true
   },
   "outputs": [],
   "source": []
  },
  {
   "cell_type": "code",
   "execution_count": 29,
   "metadata": {
    "collapsed": false,
    "deletable": true,
    "editable": true
   },
   "outputs": [],
   "source": [
    "##Sample candidate set\n",
    "S = em.sample_table(C4, 350)"
   ]
  },
  {
   "cell_type": "code",
   "execution_count": 30,
   "metadata": {
    "collapsed": false,
    "deletable": true,
    "editable": true
   },
   "outputs": [],
   "source": [
    "##Label S \n",
    "G = em.label_table(S, 'gold_labels')"
   ]
  },
  {
   "cell_type": "markdown",
   "metadata": {
    "deletable": true,
    "editable": true
   },
   "source": [
    "Load labeled data fom previous session"
   ]
  },
  {
   "cell_type": "code",
   "execution_count": 70,
   "metadata": {
    "collapsed": false
   },
   "outputs": [
    {
     "data": {
      "text/plain": [
       "True"
      ]
     },
     "execution_count": 70,
     "metadata": {},
     "output_type": "execute_result"
    }
   ],
   "source": [
    "em.save_object(G,'./G_4thApril.pkl')"
   ]
  },
  {
   "cell_type": "code",
   "execution_count": 105,
   "metadata": {
    "collapsed": false,
    "deletable": true,
    "editable": true
   },
   "outputs": [
    {
     "data": {
      "text/plain": [
       "350"
      ]
     },
     "execution_count": 105,
     "metadata": {},
     "output_type": "execute_result"
    }
   ],
   "source": [
    "G = em.load_object('./GoldenData.pkl')\n",
    "len(G)"
   ]
  },
  {
   "cell_type": "code",
   "execution_count": 106,
   "metadata": {
    "collapsed": false,
    "deletable": true,
    "editable": true
   },
   "outputs": [
    {
     "data": {
      "text/plain": [
       "True"
      ]
     },
     "execution_count": 106,
     "metadata": {},
     "output_type": "execute_result"
    }
   ],
   "source": [
    "## Loading G into em catalog\n",
    "\n",
    "em.set_fk_ltable(G, 'ltable_ID')\n",
    "em.set_fk_rtable(G, 'rtable_ID')\n",
    "em.set_key(G, '_id')\n",
    "em.set_ltable(G, A)\n",
    "em.set_rtable(G, B)\n"
   ]
  },
  {
   "cell_type": "code",
   "execution_count": 31,
   "metadata": {
    "collapsed": false,
    "deletable": true,
    "editable": true
   },
   "outputs": [
    {
     "data": {
      "text/html": [
       "<div>\n",
       "<table border=\"1\" class=\"dataframe\">\n",
       "  <thead>\n",
       "    <tr style=\"text-align: right;\">\n",
       "      <th></th>\n",
       "      <th>_id</th>\n",
       "      <th>ltable_ID</th>\n",
       "      <th>rtable_ID</th>\n",
       "      <th>ltable_name</th>\n",
       "      <th>ltable_address</th>\n",
       "      <th>ltable_ratingValue</th>\n",
       "      <th>ltable_price_range</th>\n",
       "      <th>ltable_number_of_reviews</th>\n",
       "      <th>rtable_name</th>\n",
       "      <th>rtable_address</th>\n",
       "      <th>rtable_ratingValue</th>\n",
       "      <th>rtable_price_range</th>\n",
       "      <th>rtable_number_of_reviews</th>\n",
       "    </tr>\n",
       "    <tr>\n",
       "      <th>gold_labels</th>\n",
       "      <th></th>\n",
       "      <th></th>\n",
       "      <th></th>\n",
       "      <th></th>\n",
       "      <th></th>\n",
       "      <th></th>\n",
       "      <th></th>\n",
       "      <th></th>\n",
       "      <th></th>\n",
       "      <th></th>\n",
       "      <th></th>\n",
       "      <th></th>\n",
       "      <th></th>\n",
       "    </tr>\n",
       "  </thead>\n",
       "  <tbody>\n",
       "    <tr>\n",
       "      <th>0</th>\n",
       "      <td>159</td>\n",
       "      <td>159</td>\n",
       "      <td>159</td>\n",
       "      <td>159</td>\n",
       "      <td>159</td>\n",
       "      <td>159</td>\n",
       "      <td>158</td>\n",
       "      <td>159</td>\n",
       "      <td>159</td>\n",
       "      <td>159</td>\n",
       "      <td>159</td>\n",
       "      <td>159</td>\n",
       "      <td>159</td>\n",
       "    </tr>\n",
       "    <tr>\n",
       "      <th>1</th>\n",
       "      <td>191</td>\n",
       "      <td>191</td>\n",
       "      <td>191</td>\n",
       "      <td>191</td>\n",
       "      <td>191</td>\n",
       "      <td>191</td>\n",
       "      <td>191</td>\n",
       "      <td>191</td>\n",
       "      <td>191</td>\n",
       "      <td>191</td>\n",
       "      <td>191</td>\n",
       "      <td>191</td>\n",
       "      <td>191</td>\n",
       "    </tr>\n",
       "  </tbody>\n",
       "</table>\n",
       "</div>"
      ],
      "text/plain": [
       "             _id  ltable_ID  rtable_ID  ltable_name  ltable_address  \\\n",
       "gold_labels                                                           \n",
       "0            159        159        159          159             159   \n",
       "1            191        191        191          191             191   \n",
       "\n",
       "             ltable_ratingValue  ltable_price_range  ltable_number_of_reviews  \\\n",
       "gold_labels                                                                     \n",
       "0                           159                 158                       159   \n",
       "1                           191                 191                       191   \n",
       "\n",
       "             rtable_name  rtable_address  rtable_ratingValue  \\\n",
       "gold_labels                                                    \n",
       "0                    159             159                 159   \n",
       "1                    191             191                 191   \n",
       "\n",
       "             rtable_price_range  rtable_number_of_reviews  \n",
       "gold_labels                                                \n",
       "0                           159                       159  \n",
       "1                           191                       191  "
      ]
     },
     "execution_count": 31,
     "metadata": {},
     "output_type": "execute_result"
    }
   ],
   "source": [
    "## Find number of positive and negative examples \n",
    "G.groupby('gold_labels').count()"
   ]
  },
  {
   "cell_type": "markdown",
   "metadata": {
    "deletable": true,
    "editable": true
   },
   "source": [
    "<h1> Splitting the labeled data into development and evaluation set\n",
    "\n",
    "\n"
   ]
  },
  {
   "cell_type": "markdown",
   "metadata": {
    "deletable": true,
    "editable": true
   },
   "source": [
    "In this step, we split the labeled data into two sets: development (I) and evaluation (J). Specifically, the development set is used to come up with the best learning-based matcher and the evaluation set used to evaluate the selected matcher on unseen data."
   ]
  },
  {
   "cell_type": "code",
   "execution_count": 32,
   "metadata": {
    "collapsed": false,
    "deletable": true,
    "editable": true
   },
   "outputs": [],
   "source": [
    "# Split S into development set (I) and evaluation set (J)\n",
    "train_test = em.split_train_test(G, train_proportion=0.7)\n",
    "I = train_test['train']\n",
    "J = train_test['test']"
   ]
  },
  {
   "cell_type": "markdown",
   "metadata": {
    "deletable": true,
    "editable": true
   },
   "source": [
    "<h1>  Selecting the best learning-based matcher"
   ]
  },
  {
   "cell_type": "markdown",
   "metadata": {
    "deletable": true,
    "editable": true
   },
   "source": [
    "Selecting the best learning-based matcher typically involves the following steps:\n",
    "\n",
    "* Creating a set of learning-based matchers\n",
    "* Creating features\n",
    "* Converting the development set into feature vectors\n",
    "* Selecting the best learning-based matcher using k-fold cross validation\n"
   ]
  },
  {
   "cell_type": "markdown",
   "metadata": {
    "deletable": true,
    "editable": true
   },
   "source": [
    "Creating a set of learning-based matchers\n",
    "------------------"
   ]
  },
  {
   "cell_type": "code",
   "execution_count": 33,
   "metadata": {
    "collapsed": true,
    "deletable": true,
    "editable": true
   },
   "outputs": [],
   "source": [
    "## Create a set of ML Matchers\n",
    "dt = em.DTMatcher()\n",
    "rf = em.RFMatcher()\n",
    "nb = em.NBMatcher()\n",
    "logreg = em.LogRegMatcher()\n",
    "linreg = em.LinRegMatcher()\n",
    "svm = em.SVMMatcher()"
   ]
  },
  {
   "cell_type": "markdown",
   "metadata": {
    "deletable": true,
    "editable": true
   },
   "source": [
    "Creating features\n",
    "------------------"
   ]
  },
  {
   "cell_type": "markdown",
   "metadata": {
    "deletable": true,
    "editable": true
   },
   "source": [
    "Next, we need to create a set of features for the development set. py_entitymatching provides a way to automatically generate features based on the attributes in the input tables. We drop the unwanted features from the feature table"
   ]
  },
  {
   "cell_type": "code",
   "execution_count": 41,
   "metadata": {
    "collapsed": true
   },
   "outputs": [],
   "source": [
    "match_f = em.get_features_for_matching(A, B)\n"
   ]
  },
  {
   "cell_type": "code",
   "execution_count": 37,
   "metadata": {
    "collapsed": false
   },
   "outputs": [
    {
     "data": {
      "text/html": [
       "<div>\n",
       "<table border=\"1\" class=\"dataframe\">\n",
       "  <thead>\n",
       "    <tr style=\"text-align: right;\">\n",
       "      <th></th>\n",
       "      <th>feature_name</th>\n",
       "      <th>left_attribute</th>\n",
       "      <th>right_attribute</th>\n",
       "      <th>left_attr_tokenizer</th>\n",
       "      <th>right_attr_tokenizer</th>\n",
       "      <th>simfunction</th>\n",
       "      <th>function</th>\n",
       "      <th>function_source</th>\n",
       "      <th>is_auto_generated</th>\n",
       "    </tr>\n",
       "  </thead>\n",
       "  <tbody>\n",
       "    <tr>\n",
       "      <th>0</th>\n",
       "      <td>number_of_reviews_number_of_reviews_exm</td>\n",
       "      <td>number_of_reviews</td>\n",
       "      <td>number_of_reviews</td>\n",
       "      <td>None</td>\n",
       "      <td>None</td>\n",
       "      <td>exact_match</td>\n",
       "      <td>&lt;function number_of_reviews_number_of_reviews_exm at 0x7fbd4aa65cf8&gt;</td>\n",
       "      <td>from py_entitymatching.feature.simfunctions import *\\nfrom py_entitymatching.feature.tokenizers ...</td>\n",
       "      <td>True</td>\n",
       "    </tr>\n",
       "    <tr>\n",
       "      <th>1</th>\n",
       "      <td>number_of_reviews_number_of_reviews_anm</td>\n",
       "      <td>number_of_reviews</td>\n",
       "      <td>number_of_reviews</td>\n",
       "      <td>None</td>\n",
       "      <td>None</td>\n",
       "      <td>abs_norm</td>\n",
       "      <td>&lt;function number_of_reviews_number_of_reviews_anm at 0x7fbd24048758&gt;</td>\n",
       "      <td>from py_entitymatching.feature.simfunctions import *\\nfrom py_entitymatching.feature.tokenizers ...</td>\n",
       "      <td>True</td>\n",
       "    </tr>\n",
       "    <tr>\n",
       "      <th>2</th>\n",
       "      <td>number_of_reviews_number_of_reviews_lev_dist</td>\n",
       "      <td>number_of_reviews</td>\n",
       "      <td>number_of_reviews</td>\n",
       "      <td>None</td>\n",
       "      <td>None</td>\n",
       "      <td>lev_dist</td>\n",
       "      <td>&lt;function number_of_reviews_number_of_reviews_lev_dist at 0x7fbd24048938&gt;</td>\n",
       "      <td>from py_entitymatching.feature.simfunctions import *\\nfrom py_entitymatching.feature.tokenizers ...</td>\n",
       "      <td>True</td>\n",
       "    </tr>\n",
       "    <tr>\n",
       "      <th>3</th>\n",
       "      <td>number_of_reviews_number_of_reviews_lev_sim</td>\n",
       "      <td>number_of_reviews</td>\n",
       "      <td>number_of_reviews</td>\n",
       "      <td>None</td>\n",
       "      <td>None</td>\n",
       "      <td>lev_sim</td>\n",
       "      <td>&lt;function number_of_reviews_number_of_reviews_lev_sim at 0x7fbd4ad36a28&gt;</td>\n",
       "      <td>from py_entitymatching.feature.simfunctions import *\\nfrom py_entitymatching.feature.tokenizers ...</td>\n",
       "      <td>True</td>\n",
       "    </tr>\n",
       "    <tr>\n",
       "      <th>4</th>\n",
       "      <td>price_range_price_range_lev_dist</td>\n",
       "      <td>price_range</td>\n",
       "      <td>price_range</td>\n",
       "      <td>None</td>\n",
       "      <td>None</td>\n",
       "      <td>lev_dist</td>\n",
       "      <td>&lt;function price_range_price_range_lev_dist at 0x7fbd4ad369b0&gt;</td>\n",
       "      <td>from py_entitymatching.feature.simfunctions import *\\nfrom py_entitymatching.feature.tokenizers ...</td>\n",
       "      <td>True</td>\n",
       "    </tr>\n",
       "    <tr>\n",
       "      <th>5</th>\n",
       "      <td>price_range_price_range_lev_sim</td>\n",
       "      <td>price_range</td>\n",
       "      <td>price_range</td>\n",
       "      <td>None</td>\n",
       "      <td>None</td>\n",
       "      <td>lev_sim</td>\n",
       "      <td>&lt;function price_range_price_range_lev_sim at 0x7fbd4ad368c0&gt;</td>\n",
       "      <td>from py_entitymatching.feature.simfunctions import *\\nfrom py_entitymatching.feature.tokenizers ...</td>\n",
       "      <td>True</td>\n",
       "    </tr>\n",
       "    <tr>\n",
       "      <th>6</th>\n",
       "      <td>price_range_price_range_jar</td>\n",
       "      <td>price_range</td>\n",
       "      <td>price_range</td>\n",
       "      <td>None</td>\n",
       "      <td>None</td>\n",
       "      <td>jaro</td>\n",
       "      <td>&lt;function price_range_price_range_jar at 0x7fbd4ad366e0&gt;</td>\n",
       "      <td>from py_entitymatching.feature.simfunctions import *\\nfrom py_entitymatching.feature.tokenizers ...</td>\n",
       "      <td>True</td>\n",
       "    </tr>\n",
       "    <tr>\n",
       "      <th>7</th>\n",
       "      <td>price_range_price_range_jwn</td>\n",
       "      <td>price_range</td>\n",
       "      <td>price_range</td>\n",
       "      <td>None</td>\n",
       "      <td>None</td>\n",
       "      <td>jaro_winkler</td>\n",
       "      <td>&lt;function price_range_price_range_jwn at 0x7fbd4ad36848&gt;</td>\n",
       "      <td>from py_entitymatching.feature.simfunctions import *\\nfrom py_entitymatching.feature.tokenizers ...</td>\n",
       "      <td>True</td>\n",
       "    </tr>\n",
       "    <tr>\n",
       "      <th>8</th>\n",
       "      <td>price_range_price_range_exm</td>\n",
       "      <td>price_range</td>\n",
       "      <td>price_range</td>\n",
       "      <td>None</td>\n",
       "      <td>None</td>\n",
       "      <td>exact_match</td>\n",
       "      <td>&lt;function price_range_price_range_exm at 0x7fbd4ad36cf8&gt;</td>\n",
       "      <td>from py_entitymatching.feature.simfunctions import *\\nfrom py_entitymatching.feature.tokenizers ...</td>\n",
       "      <td>True</td>\n",
       "    </tr>\n",
       "    <tr>\n",
       "      <th>9</th>\n",
       "      <td>price_range_price_range_jac_qgm_3_qgm_3</td>\n",
       "      <td>price_range</td>\n",
       "      <td>price_range</td>\n",
       "      <td>qgm_3</td>\n",
       "      <td>qgm_3</td>\n",
       "      <td>jaccard</td>\n",
       "      <td>&lt;function price_range_price_range_jac_qgm_3_qgm_3 at 0x7fbd4ad367d0&gt;</td>\n",
       "      <td>from py_entitymatching.feature.simfunctions import *\\nfrom py_entitymatching.feature.tokenizers ...</td>\n",
       "      <td>True</td>\n",
       "    </tr>\n",
       "    <tr>\n",
       "      <th>10</th>\n",
       "      <td>ratingValue_ratingValue_lev_dist</td>\n",
       "      <td>ratingValue</td>\n",
       "      <td>ratingValue</td>\n",
       "      <td>None</td>\n",
       "      <td>None</td>\n",
       "      <td>lev_dist</td>\n",
       "      <td>&lt;function ratingValue_ratingValue_lev_dist at 0x7fbd4ad36d70&gt;</td>\n",
       "      <td>from py_entitymatching.feature.simfunctions import *\\nfrom py_entitymatching.feature.tokenizers ...</td>\n",
       "      <td>True</td>\n",
       "    </tr>\n",
       "    <tr>\n",
       "      <th>11</th>\n",
       "      <td>ratingValue_ratingValue_lev_sim</td>\n",
       "      <td>ratingValue</td>\n",
       "      <td>ratingValue</td>\n",
       "      <td>None</td>\n",
       "      <td>None</td>\n",
       "      <td>lev_sim</td>\n",
       "      <td>&lt;function ratingValue_ratingValue_lev_sim at 0x7fbd4ad36668&gt;</td>\n",
       "      <td>from py_entitymatching.feature.simfunctions import *\\nfrom py_entitymatching.feature.tokenizers ...</td>\n",
       "      <td>True</td>\n",
       "    </tr>\n",
       "    <tr>\n",
       "      <th>12</th>\n",
       "      <td>ratingValue_ratingValue_jar</td>\n",
       "      <td>ratingValue</td>\n",
       "      <td>ratingValue</td>\n",
       "      <td>None</td>\n",
       "      <td>None</td>\n",
       "      <td>jaro</td>\n",
       "      <td>&lt;function ratingValue_ratingValue_jar at 0x7fbd4ad365f0&gt;</td>\n",
       "      <td>from py_entitymatching.feature.simfunctions import *\\nfrom py_entitymatching.feature.tokenizers ...</td>\n",
       "      <td>True</td>\n",
       "    </tr>\n",
       "    <tr>\n",
       "      <th>13</th>\n",
       "      <td>ratingValue_ratingValue_jwn</td>\n",
       "      <td>ratingValue</td>\n",
       "      <td>ratingValue</td>\n",
       "      <td>None</td>\n",
       "      <td>None</td>\n",
       "      <td>jaro_winkler</td>\n",
       "      <td>&lt;function ratingValue_ratingValue_jwn at 0x7fbd4ad36578&gt;</td>\n",
       "      <td>from py_entitymatching.feature.simfunctions import *\\nfrom py_entitymatching.feature.tokenizers ...</td>\n",
       "      <td>True</td>\n",
       "    </tr>\n",
       "    <tr>\n",
       "      <th>14</th>\n",
       "      <td>ratingValue_ratingValue_exm</td>\n",
       "      <td>ratingValue</td>\n",
       "      <td>ratingValue</td>\n",
       "      <td>None</td>\n",
       "      <td>None</td>\n",
       "      <td>exact_match</td>\n",
       "      <td>&lt;function ratingValue_ratingValue_exm at 0x7fbd4ad36410&gt;</td>\n",
       "      <td>from py_entitymatching.feature.simfunctions import *\\nfrom py_entitymatching.feature.tokenizers ...</td>\n",
       "      <td>True</td>\n",
       "    </tr>\n",
       "    <tr>\n",
       "      <th>15</th>\n",
       "      <td>ratingValue_ratingValue_jac_qgm_3_qgm_3</td>\n",
       "      <td>ratingValue</td>\n",
       "      <td>ratingValue</td>\n",
       "      <td>qgm_3</td>\n",
       "      <td>qgm_3</td>\n",
       "      <td>jaccard</td>\n",
       "      <td>&lt;function ratingValue_ratingValue_jac_qgm_3_qgm_3 at 0x7fbd2405dc80&gt;</td>\n",
       "      <td>from py_entitymatching.feature.simfunctions import *\\nfrom py_entitymatching.feature.tokenizers ...</td>\n",
       "      <td>True</td>\n",
       "    </tr>\n",
       "    <tr>\n",
       "      <th>16</th>\n",
       "      <td>name_name_jac_qgm_3_qgm_3</td>\n",
       "      <td>name</td>\n",
       "      <td>name</td>\n",
       "      <td>qgm_3</td>\n",
       "      <td>qgm_3</td>\n",
       "      <td>jaccard</td>\n",
       "      <td>&lt;function name_name_jac_qgm_3_qgm_3 at 0x7fbd2405db18&gt;</td>\n",
       "      <td>from py_entitymatching.feature.simfunctions import *\\nfrom py_entitymatching.feature.tokenizers ...</td>\n",
       "      <td>True</td>\n",
       "    </tr>\n",
       "    <tr>\n",
       "      <th>17</th>\n",
       "      <td>name_name_cos_dlm_dc0_dlm_dc0</td>\n",
       "      <td>name</td>\n",
       "      <td>name</td>\n",
       "      <td>dlm_dc0</td>\n",
       "      <td>dlm_dc0</td>\n",
       "      <td>cosine</td>\n",
       "      <td>&lt;function name_name_cos_dlm_dc0_dlm_dc0 at 0x7fbd2405dc08&gt;</td>\n",
       "      <td>from py_entitymatching.feature.simfunctions import *\\nfrom py_entitymatching.feature.tokenizers ...</td>\n",
       "      <td>True</td>\n",
       "    </tr>\n",
       "    <tr>\n",
       "      <th>18</th>\n",
       "      <td>name_name_jac_dlm_dc0_dlm_dc0</td>\n",
       "      <td>name</td>\n",
       "      <td>name</td>\n",
       "      <td>dlm_dc0</td>\n",
       "      <td>dlm_dc0</td>\n",
       "      <td>jaccard</td>\n",
       "      <td>&lt;function name_name_jac_dlm_dc0_dlm_dc0 at 0x7fbd2405daa0&gt;</td>\n",
       "      <td>from py_entitymatching.feature.simfunctions import *\\nfrom py_entitymatching.feature.tokenizers ...</td>\n",
       "      <td>True</td>\n",
       "    </tr>\n",
       "    <tr>\n",
       "      <th>19</th>\n",
       "      <td>name_name_mel</td>\n",
       "      <td>name</td>\n",
       "      <td>name</td>\n",
       "      <td>None</td>\n",
       "      <td>None</td>\n",
       "      <td>monge_elkan</td>\n",
       "      <td>&lt;function name_name_mel at 0x7fbd2405dcf8&gt;</td>\n",
       "      <td>from py_entitymatching.feature.simfunctions import *\\nfrom py_entitymatching.feature.tokenizers ...</td>\n",
       "      <td>True</td>\n",
       "    </tr>\n",
       "    <tr>\n",
       "      <th>20</th>\n",
       "      <td>name_name_lev_dist</td>\n",
       "      <td>name</td>\n",
       "      <td>name</td>\n",
       "      <td>None</td>\n",
       "      <td>None</td>\n",
       "      <td>lev_dist</td>\n",
       "      <td>&lt;function name_name_lev_dist at 0x7fbd2405dd70&gt;</td>\n",
       "      <td>from py_entitymatching.feature.simfunctions import *\\nfrom py_entitymatching.feature.tokenizers ...</td>\n",
       "      <td>True</td>\n",
       "    </tr>\n",
       "    <tr>\n",
       "      <th>21</th>\n",
       "      <td>name_name_lev_sim</td>\n",
       "      <td>name</td>\n",
       "      <td>name</td>\n",
       "      <td>None</td>\n",
       "      <td>None</td>\n",
       "      <td>lev_sim</td>\n",
       "      <td>&lt;function name_name_lev_sim at 0x7fbd2405dde8&gt;</td>\n",
       "      <td>from py_entitymatching.feature.simfunctions import *\\nfrom py_entitymatching.feature.tokenizers ...</td>\n",
       "      <td>True</td>\n",
       "    </tr>\n",
       "    <tr>\n",
       "      <th>22</th>\n",
       "      <td>name_name_nmw</td>\n",
       "      <td>name</td>\n",
       "      <td>name</td>\n",
       "      <td>None</td>\n",
       "      <td>None</td>\n",
       "      <td>needleman_wunsch</td>\n",
       "      <td>&lt;function name_name_nmw at 0x7fbd2405de60&gt;</td>\n",
       "      <td>from py_entitymatching.feature.simfunctions import *\\nfrom py_entitymatching.feature.tokenizers ...</td>\n",
       "      <td>True</td>\n",
       "    </tr>\n",
       "    <tr>\n",
       "      <th>23</th>\n",
       "      <td>name_name_sw</td>\n",
       "      <td>name</td>\n",
       "      <td>name</td>\n",
       "      <td>None</td>\n",
       "      <td>None</td>\n",
       "      <td>smith_waterman</td>\n",
       "      <td>&lt;function name_name_sw at 0x7fbd2405ded8&gt;</td>\n",
       "      <td>from py_entitymatching.feature.simfunctions import *\\nfrom py_entitymatching.feature.tokenizers ...</td>\n",
       "      <td>True</td>\n",
       "    </tr>\n",
       "    <tr>\n",
       "      <th>24</th>\n",
       "      <td>address_address_jac_qgm_3_qgm_3</td>\n",
       "      <td>address</td>\n",
       "      <td>address</td>\n",
       "      <td>qgm_3</td>\n",
       "      <td>qgm_3</td>\n",
       "      <td>jaccard</td>\n",
       "      <td>&lt;function address_address_jac_qgm_3_qgm_3 at 0x7fbd2405df50&gt;</td>\n",
       "      <td>from py_entitymatching.feature.simfunctions import *\\nfrom py_entitymatching.feature.tokenizers ...</td>\n",
       "      <td>True</td>\n",
       "    </tr>\n",
       "    <tr>\n",
       "      <th>25</th>\n",
       "      <td>address_address_cos_dlm_dc0_dlm_dc0</td>\n",
       "      <td>address</td>\n",
       "      <td>address</td>\n",
       "      <td>dlm_dc0</td>\n",
       "      <td>dlm_dc0</td>\n",
       "      <td>cosine</td>\n",
       "      <td>&lt;function address_address_cos_dlm_dc0_dlm_dc0 at 0x7fbd4ac7d050&gt;</td>\n",
       "      <td>from py_entitymatching.feature.simfunctions import *\\nfrom py_entitymatching.feature.tokenizers ...</td>\n",
       "      <td>True</td>\n",
       "    </tr>\n",
       "    <tr>\n",
       "      <th>26</th>\n",
       "      <td>address_address_mel</td>\n",
       "      <td>address</td>\n",
       "      <td>address</td>\n",
       "      <td>None</td>\n",
       "      <td>None</td>\n",
       "      <td>monge_elkan</td>\n",
       "      <td>&lt;function address_address_mel at 0x7fbd4ac7d0c8&gt;</td>\n",
       "      <td>from py_entitymatching.feature.simfunctions import *\\nfrom py_entitymatching.feature.tokenizers ...</td>\n",
       "      <td>True</td>\n",
       "    </tr>\n",
       "    <tr>\n",
       "      <th>27</th>\n",
       "      <td>address_address_lev_dist</td>\n",
       "      <td>address</td>\n",
       "      <td>address</td>\n",
       "      <td>None</td>\n",
       "      <td>None</td>\n",
       "      <td>lev_dist</td>\n",
       "      <td>&lt;function address_address_lev_dist at 0x7fbd4ac7d140&gt;</td>\n",
       "      <td>from py_entitymatching.feature.simfunctions import *\\nfrom py_entitymatching.feature.tokenizers ...</td>\n",
       "      <td>True</td>\n",
       "    </tr>\n",
       "    <tr>\n",
       "      <th>28</th>\n",
       "      <td>address_address_lev_sim</td>\n",
       "      <td>address</td>\n",
       "      <td>address</td>\n",
       "      <td>None</td>\n",
       "      <td>None</td>\n",
       "      <td>lev_sim</td>\n",
       "      <td>&lt;function address_address_lev_sim at 0x7fbd4ac7d1b8&gt;</td>\n",
       "      <td>from py_entitymatching.feature.simfunctions import *\\nfrom py_entitymatching.feature.tokenizers ...</td>\n",
       "      <td>True</td>\n",
       "    </tr>\n",
       "    <tr>\n",
       "      <th>29</th>\n",
       "      <td>ID_ID_exm</td>\n",
       "      <td>ID</td>\n",
       "      <td>ID</td>\n",
       "      <td>None</td>\n",
       "      <td>None</td>\n",
       "      <td>exact_match</td>\n",
       "      <td>&lt;function ID_ID_exm at 0x7fbd4ac7d230&gt;</td>\n",
       "      <td>from py_entitymatching.feature.simfunctions import *\\nfrom py_entitymatching.feature.tokenizers ...</td>\n",
       "      <td>True</td>\n",
       "    </tr>\n",
       "    <tr>\n",
       "      <th>30</th>\n",
       "      <td>ID_ID_anm</td>\n",
       "      <td>ID</td>\n",
       "      <td>ID</td>\n",
       "      <td>None</td>\n",
       "      <td>None</td>\n",
       "      <td>abs_norm</td>\n",
       "      <td>&lt;function ID_ID_anm at 0x7fbd4ac7d2a8&gt;</td>\n",
       "      <td>from py_entitymatching.feature.simfunctions import *\\nfrom py_entitymatching.feature.tokenizers ...</td>\n",
       "      <td>True</td>\n",
       "    </tr>\n",
       "    <tr>\n",
       "      <th>31</th>\n",
       "      <td>ID_ID_lev_dist</td>\n",
       "      <td>ID</td>\n",
       "      <td>ID</td>\n",
       "      <td>None</td>\n",
       "      <td>None</td>\n",
       "      <td>lev_dist</td>\n",
       "      <td>&lt;function ID_ID_lev_dist at 0x7fbd4ac7d320&gt;</td>\n",
       "      <td>from py_entitymatching.feature.simfunctions import *\\nfrom py_entitymatching.feature.tokenizers ...</td>\n",
       "      <td>True</td>\n",
       "    </tr>\n",
       "    <tr>\n",
       "      <th>32</th>\n",
       "      <td>ID_ID_lev_sim</td>\n",
       "      <td>ID</td>\n",
       "      <td>ID</td>\n",
       "      <td>None</td>\n",
       "      <td>None</td>\n",
       "      <td>lev_sim</td>\n",
       "      <td>&lt;function ID_ID_lev_sim at 0x7fbd4ac7d398&gt;</td>\n",
       "      <td>from py_entitymatching.feature.simfunctions import *\\nfrom py_entitymatching.feature.tokenizers ...</td>\n",
       "      <td>True</td>\n",
       "    </tr>\n",
       "  </tbody>\n",
       "</table>\n",
       "</div>"
      ],
      "text/plain": [
       "                                    feature_name     left_attribute  \\\n",
       "0        number_of_reviews_number_of_reviews_exm  number_of_reviews   \n",
       "1        number_of_reviews_number_of_reviews_anm  number_of_reviews   \n",
       "2   number_of_reviews_number_of_reviews_lev_dist  number_of_reviews   \n",
       "3    number_of_reviews_number_of_reviews_lev_sim  number_of_reviews   \n",
       "4               price_range_price_range_lev_dist        price_range   \n",
       "5                price_range_price_range_lev_sim        price_range   \n",
       "6                    price_range_price_range_jar        price_range   \n",
       "7                    price_range_price_range_jwn        price_range   \n",
       "8                    price_range_price_range_exm        price_range   \n",
       "9        price_range_price_range_jac_qgm_3_qgm_3        price_range   \n",
       "10              ratingValue_ratingValue_lev_dist        ratingValue   \n",
       "11               ratingValue_ratingValue_lev_sim        ratingValue   \n",
       "12                   ratingValue_ratingValue_jar        ratingValue   \n",
       "13                   ratingValue_ratingValue_jwn        ratingValue   \n",
       "14                   ratingValue_ratingValue_exm        ratingValue   \n",
       "15       ratingValue_ratingValue_jac_qgm_3_qgm_3        ratingValue   \n",
       "16                     name_name_jac_qgm_3_qgm_3               name   \n",
       "17                 name_name_cos_dlm_dc0_dlm_dc0               name   \n",
       "18                 name_name_jac_dlm_dc0_dlm_dc0               name   \n",
       "19                                 name_name_mel               name   \n",
       "20                            name_name_lev_dist               name   \n",
       "21                             name_name_lev_sim               name   \n",
       "22                                 name_name_nmw               name   \n",
       "23                                  name_name_sw               name   \n",
       "24               address_address_jac_qgm_3_qgm_3            address   \n",
       "25           address_address_cos_dlm_dc0_dlm_dc0            address   \n",
       "26                           address_address_mel            address   \n",
       "27                      address_address_lev_dist            address   \n",
       "28                       address_address_lev_sim            address   \n",
       "29                                     ID_ID_exm                 ID   \n",
       "30                                     ID_ID_anm                 ID   \n",
       "31                                ID_ID_lev_dist                 ID   \n",
       "32                                 ID_ID_lev_sim                 ID   \n",
       "\n",
       "      right_attribute left_attr_tokenizer right_attr_tokenizer  \\\n",
       "0   number_of_reviews                None                 None   \n",
       "1   number_of_reviews                None                 None   \n",
       "2   number_of_reviews                None                 None   \n",
       "3   number_of_reviews                None                 None   \n",
       "4         price_range                None                 None   \n",
       "5         price_range                None                 None   \n",
       "6         price_range                None                 None   \n",
       "7         price_range                None                 None   \n",
       "8         price_range                None                 None   \n",
       "9         price_range               qgm_3                qgm_3   \n",
       "10        ratingValue                None                 None   \n",
       "11        ratingValue                None                 None   \n",
       "12        ratingValue                None                 None   \n",
       "13        ratingValue                None                 None   \n",
       "14        ratingValue                None                 None   \n",
       "15        ratingValue               qgm_3                qgm_3   \n",
       "16               name               qgm_3                qgm_3   \n",
       "17               name             dlm_dc0              dlm_dc0   \n",
       "18               name             dlm_dc0              dlm_dc0   \n",
       "19               name                None                 None   \n",
       "20               name                None                 None   \n",
       "21               name                None                 None   \n",
       "22               name                None                 None   \n",
       "23               name                None                 None   \n",
       "24            address               qgm_3                qgm_3   \n",
       "25            address             dlm_dc0              dlm_dc0   \n",
       "26            address                None                 None   \n",
       "27            address                None                 None   \n",
       "28            address                None                 None   \n",
       "29                 ID                None                 None   \n",
       "30                 ID                None                 None   \n",
       "31                 ID                None                 None   \n",
       "32                 ID                None                 None   \n",
       "\n",
       "         simfunction  \\\n",
       "0        exact_match   \n",
       "1           abs_norm   \n",
       "2           lev_dist   \n",
       "3            lev_sim   \n",
       "4           lev_dist   \n",
       "5            lev_sim   \n",
       "6               jaro   \n",
       "7       jaro_winkler   \n",
       "8        exact_match   \n",
       "9            jaccard   \n",
       "10          lev_dist   \n",
       "11           lev_sim   \n",
       "12              jaro   \n",
       "13      jaro_winkler   \n",
       "14       exact_match   \n",
       "15           jaccard   \n",
       "16           jaccard   \n",
       "17            cosine   \n",
       "18           jaccard   \n",
       "19       monge_elkan   \n",
       "20          lev_dist   \n",
       "21           lev_sim   \n",
       "22  needleman_wunsch   \n",
       "23    smith_waterman   \n",
       "24           jaccard   \n",
       "25            cosine   \n",
       "26       monge_elkan   \n",
       "27          lev_dist   \n",
       "28           lev_sim   \n",
       "29       exact_match   \n",
       "30          abs_norm   \n",
       "31          lev_dist   \n",
       "32           lev_sim   \n",
       "\n",
       "                                                                     function  \\\n",
       "0        <function number_of_reviews_number_of_reviews_exm at 0x7fbd4aa65cf8>   \n",
       "1        <function number_of_reviews_number_of_reviews_anm at 0x7fbd24048758>   \n",
       "2   <function number_of_reviews_number_of_reviews_lev_dist at 0x7fbd24048938>   \n",
       "3    <function number_of_reviews_number_of_reviews_lev_sim at 0x7fbd4ad36a28>   \n",
       "4               <function price_range_price_range_lev_dist at 0x7fbd4ad369b0>   \n",
       "5                <function price_range_price_range_lev_sim at 0x7fbd4ad368c0>   \n",
       "6                    <function price_range_price_range_jar at 0x7fbd4ad366e0>   \n",
       "7                    <function price_range_price_range_jwn at 0x7fbd4ad36848>   \n",
       "8                    <function price_range_price_range_exm at 0x7fbd4ad36cf8>   \n",
       "9        <function price_range_price_range_jac_qgm_3_qgm_3 at 0x7fbd4ad367d0>   \n",
       "10              <function ratingValue_ratingValue_lev_dist at 0x7fbd4ad36d70>   \n",
       "11               <function ratingValue_ratingValue_lev_sim at 0x7fbd4ad36668>   \n",
       "12                   <function ratingValue_ratingValue_jar at 0x7fbd4ad365f0>   \n",
       "13                   <function ratingValue_ratingValue_jwn at 0x7fbd4ad36578>   \n",
       "14                   <function ratingValue_ratingValue_exm at 0x7fbd4ad36410>   \n",
       "15       <function ratingValue_ratingValue_jac_qgm_3_qgm_3 at 0x7fbd2405dc80>   \n",
       "16                     <function name_name_jac_qgm_3_qgm_3 at 0x7fbd2405db18>   \n",
       "17                 <function name_name_cos_dlm_dc0_dlm_dc0 at 0x7fbd2405dc08>   \n",
       "18                 <function name_name_jac_dlm_dc0_dlm_dc0 at 0x7fbd2405daa0>   \n",
       "19                                 <function name_name_mel at 0x7fbd2405dcf8>   \n",
       "20                            <function name_name_lev_dist at 0x7fbd2405dd70>   \n",
       "21                             <function name_name_lev_sim at 0x7fbd2405dde8>   \n",
       "22                                 <function name_name_nmw at 0x7fbd2405de60>   \n",
       "23                                  <function name_name_sw at 0x7fbd2405ded8>   \n",
       "24               <function address_address_jac_qgm_3_qgm_3 at 0x7fbd2405df50>   \n",
       "25           <function address_address_cos_dlm_dc0_dlm_dc0 at 0x7fbd4ac7d050>   \n",
       "26                           <function address_address_mel at 0x7fbd4ac7d0c8>   \n",
       "27                      <function address_address_lev_dist at 0x7fbd4ac7d140>   \n",
       "28                       <function address_address_lev_sim at 0x7fbd4ac7d1b8>   \n",
       "29                                     <function ID_ID_exm at 0x7fbd4ac7d230>   \n",
       "30                                     <function ID_ID_anm at 0x7fbd4ac7d2a8>   \n",
       "31                                <function ID_ID_lev_dist at 0x7fbd4ac7d320>   \n",
       "32                                 <function ID_ID_lev_sim at 0x7fbd4ac7d398>   \n",
       "\n",
       "                                                                                        function_source  \\\n",
       "0   from py_entitymatching.feature.simfunctions import *\\nfrom py_entitymatching.feature.tokenizers ...   \n",
       "1   from py_entitymatching.feature.simfunctions import *\\nfrom py_entitymatching.feature.tokenizers ...   \n",
       "2   from py_entitymatching.feature.simfunctions import *\\nfrom py_entitymatching.feature.tokenizers ...   \n",
       "3   from py_entitymatching.feature.simfunctions import *\\nfrom py_entitymatching.feature.tokenizers ...   \n",
       "4   from py_entitymatching.feature.simfunctions import *\\nfrom py_entitymatching.feature.tokenizers ...   \n",
       "5   from py_entitymatching.feature.simfunctions import *\\nfrom py_entitymatching.feature.tokenizers ...   \n",
       "6   from py_entitymatching.feature.simfunctions import *\\nfrom py_entitymatching.feature.tokenizers ...   \n",
       "7   from py_entitymatching.feature.simfunctions import *\\nfrom py_entitymatching.feature.tokenizers ...   \n",
       "8   from py_entitymatching.feature.simfunctions import *\\nfrom py_entitymatching.feature.tokenizers ...   \n",
       "9   from py_entitymatching.feature.simfunctions import *\\nfrom py_entitymatching.feature.tokenizers ...   \n",
       "10  from py_entitymatching.feature.simfunctions import *\\nfrom py_entitymatching.feature.tokenizers ...   \n",
       "11  from py_entitymatching.feature.simfunctions import *\\nfrom py_entitymatching.feature.tokenizers ...   \n",
       "12  from py_entitymatching.feature.simfunctions import *\\nfrom py_entitymatching.feature.tokenizers ...   \n",
       "13  from py_entitymatching.feature.simfunctions import *\\nfrom py_entitymatching.feature.tokenizers ...   \n",
       "14  from py_entitymatching.feature.simfunctions import *\\nfrom py_entitymatching.feature.tokenizers ...   \n",
       "15  from py_entitymatching.feature.simfunctions import *\\nfrom py_entitymatching.feature.tokenizers ...   \n",
       "16  from py_entitymatching.feature.simfunctions import *\\nfrom py_entitymatching.feature.tokenizers ...   \n",
       "17  from py_entitymatching.feature.simfunctions import *\\nfrom py_entitymatching.feature.tokenizers ...   \n",
       "18  from py_entitymatching.feature.simfunctions import *\\nfrom py_entitymatching.feature.tokenizers ...   \n",
       "19  from py_entitymatching.feature.simfunctions import *\\nfrom py_entitymatching.feature.tokenizers ...   \n",
       "20  from py_entitymatching.feature.simfunctions import *\\nfrom py_entitymatching.feature.tokenizers ...   \n",
       "21  from py_entitymatching.feature.simfunctions import *\\nfrom py_entitymatching.feature.tokenizers ...   \n",
       "22  from py_entitymatching.feature.simfunctions import *\\nfrom py_entitymatching.feature.tokenizers ...   \n",
       "23  from py_entitymatching.feature.simfunctions import *\\nfrom py_entitymatching.feature.tokenizers ...   \n",
       "24  from py_entitymatching.feature.simfunctions import *\\nfrom py_entitymatching.feature.tokenizers ...   \n",
       "25  from py_entitymatching.feature.simfunctions import *\\nfrom py_entitymatching.feature.tokenizers ...   \n",
       "26  from py_entitymatching.feature.simfunctions import *\\nfrom py_entitymatching.feature.tokenizers ...   \n",
       "27  from py_entitymatching.feature.simfunctions import *\\nfrom py_entitymatching.feature.tokenizers ...   \n",
       "28  from py_entitymatching.feature.simfunctions import *\\nfrom py_entitymatching.feature.tokenizers ...   \n",
       "29  from py_entitymatching.feature.simfunctions import *\\nfrom py_entitymatching.feature.tokenizers ...   \n",
       "30  from py_entitymatching.feature.simfunctions import *\\nfrom py_entitymatching.feature.tokenizers ...   \n",
       "31  from py_entitymatching.feature.simfunctions import *\\nfrom py_entitymatching.feature.tokenizers ...   \n",
       "32  from py_entitymatching.feature.simfunctions import *\\nfrom py_entitymatching.feature.tokenizers ...   \n",
       "\n",
       "   is_auto_generated  \n",
       "0               True  \n",
       "1               True  \n",
       "2               True  \n",
       "3               True  \n",
       "4               True  \n",
       "5               True  \n",
       "6               True  \n",
       "7               True  \n",
       "8               True  \n",
       "9               True  \n",
       "10              True  \n",
       "11              True  \n",
       "12              True  \n",
       "13              True  \n",
       "14              True  \n",
       "15              True  \n",
       "16              True  \n",
       "17              True  \n",
       "18              True  \n",
       "19              True  \n",
       "20              True  \n",
       "21              True  \n",
       "22              True  \n",
       "23              True  \n",
       "24              True  \n",
       "25              True  \n",
       "26              True  \n",
       "27              True  \n",
       "28              True  \n",
       "29              True  \n",
       "30              True  \n",
       "31              True  \n",
       "32              True  "
      ]
     },
     "execution_count": 37,
     "metadata": {},
     "output_type": "execute_result"
    }
   ],
   "source": [
    "match_f"
   ]
  },
  {
   "cell_type": "code",
   "execution_count": 42,
   "metadata": {
    "collapsed": false,
    "deletable": true,
    "editable": true
   },
   "outputs": [],
   "source": [
    "## Generate features\n",
    "match_f = em.get_features_for_matching(A, B)\n",
   ]
  },
  {
   "cell_type": "code",
   "execution_count": 43,
   "metadata": {
    "collapsed": false,
    "deletable": true,
    "editable": true
   },
   "outputs": [
    {
     "data": {
      "text/plain": [
       "16              name_name_jac_qgm_3_qgm_3\n",
       "17          name_name_cos_dlm_dc0_dlm_dc0\n",
       "18          name_name_jac_dlm_dc0_dlm_dc0\n",
       "19                          name_name_mel\n",
       "20                     name_name_lev_dist\n",
       "21                      name_name_lev_sim\n",
       "22                          name_name_nmw\n",
       "23                           name_name_sw\n",
       "24        address_address_jac_qgm_3_qgm_3\n",
       "25    address_address_cos_dlm_dc0_dlm_dc0\n",
       "26                    address_address_mel\n",
       "27               address_address_lev_dist\n",
       "28                address_address_lev_sim\n",
       "Name: feature_name, dtype: object"
      ]
     },
     "execution_count": 43,
     "metadata": {},
     "output_type": "execute_result"
    }
   ],
   "source": [
    "# List the names of the features generated\n",
    "match_f['feature_name']"
   ]
  },
  {
   "cell_type": "markdown",
   "metadata": {
    "deletable": true,
    "editable": true
   },
   "source": [
    "Converting the development set to feature vectors\n",
    "------------------"
   ]
  },
  {
   "cell_type": "code",
   "execution_count": 44,
   "metadata": {
    "collapsed": false,
    "deletable": true,
    "editable": true
   },
   "outputs": [
    {
     "name": "stderr",
     "output_type": "stream",
     "text": [
      "0%                          100%\n",
      "[##############################] | ETA: 00:00:00 | ETA: 00:00:00 | ETA: 00:00:00 | ETA: 00:00:00 | ETA: 00:00:00 | ETA: 00:00:00 | ETA: 00:00:00 | ETA: 00:00:00 | ETA: 00:00:00 | ETA: 00:00:00 | ETA: 00:00:00 | ETA: 00:00:00 | ETA: 00:00:00 | ETA: 00:00:00 | ETA: 00:00:00 | ETA: 00:00:00 | ETA: 00:00:00 | ETA: 00:00:00 | ETA: 00:00:00 | ETA: 00:00:00 | ETA: 00:00:00 | ETA: 00:00:00 | ETA: 00:00:00 | ETA: 00:00:00 | ETA: 00:00:00 | ETA: 00:00:00 | ETA: 00:00:00 | ETA: 00:00:00 | ETA: 00:00:00 | ETA: 00:00:00 | ETA: 00:00:00\n",
      "Total time elapsed: 00:00:00\n"
     ]
    }
   ],
   "source": [
    "# Convert the I into a set of feature vectors using F\n",
    "\n",
    "H = em.extract_feature_vecs(I, feature_table=match_f, attrs_after=['gold_labels'])"
   ]
  },
  {
   "cell_type": "code",
   "execution_count": 45,
   "metadata": {
    "collapsed": false,
    "deletable": true,
    "editable": true
   },
   "outputs": [
    {
     "data": {
      "text/html": [
       "<div>\n",
       "<table border=\"1\" class=\"dataframe\">\n",
       "  <thead>\n",
       "    <tr style=\"text-align: right;\">\n",
       "      <th></th>\n",
       "      <th>_id</th>\n",
       "      <th>ltable_ID</th>\n",
       "      <th>rtable_ID</th>\n",
       "      <th>name_name_jac_qgm_3_qgm_3</th>\n",
       "      <th>name_name_cos_dlm_dc0_dlm_dc0</th>\n",
       "      <th>name_name_jac_dlm_dc0_dlm_dc0</th>\n",
       "      <th>name_name_mel</th>\n",
       "      <th>name_name_lev_dist</th>\n",
       "      <th>name_name_lev_sim</th>\n",
       "      <th>name_name_nmw</th>\n",
       "      <th>name_name_sw</th>\n",
       "      <th>address_address_jac_qgm_3_qgm_3</th>\n",
       "      <th>address_address_cos_dlm_dc0_dlm_dc0</th>\n",
       "      <th>address_address_mel</th>\n",
       "      <th>address_address_lev_dist</th>\n",
       "      <th>address_address_lev_sim</th>\n",
       "      <th>gold_labels</th>\n",
       "    </tr>\n",
       "  </thead>\n",
       "  <tbody>\n",
       "    <tr>\n",
       "      <th>1260</th>\n",
       "      <td>1260</td>\n",
       "      <td>1995</td>\n",
       "      <td>1848</td>\n",
       "      <td>1.000000</td>\n",
       "      <td>1.0</td>\n",
       "      <td>1.0</td>\n",
       "      <td>1.000000</td>\n",
       "      <td>0.0</td>\n",
       "      <td>1.000000</td>\n",
       "      <td>15.0</td>\n",
       "      <td>15.0</td>\n",
       "      <td>0.372093</td>\n",
       "      <td>0.547723</td>\n",
       "      <td>0.805556</td>\n",
       "      <td>11.0</td>\n",
       "      <td>0.633333</td>\n",
       "      <td>1</td>\n",
       "    </tr>\n",
       "    <tr>\n",
       "      <th>1978</th>\n",
       "      <td>1978</td>\n",
       "      <td>3122</td>\n",
       "      <td>972</td>\n",
       "      <td>0.000000</td>\n",
       "      <td>0.0</td>\n",
       "      <td>0.0</td>\n",
       "      <td>0.466667</td>\n",
       "      <td>15.0</td>\n",
       "      <td>0.166667</td>\n",
       "      <td>0.0</td>\n",
       "      <td>2.0</td>\n",
       "      <td>0.860465</td>\n",
       "      <td>0.875000</td>\n",
       "      <td>0.986667</td>\n",
       "      <td>1.0</td>\n",
       "      <td>0.975000</td>\n",
       "      <td>0</td>\n",
       "    </tr>\n",
       "    <tr>\n",
       "      <th>167</th>\n",
       "      <td>167</td>\n",
       "      <td>268</td>\n",
       "      <td>899</td>\n",
       "      <td>0.042553</td>\n",
       "      <td>0.0</td>\n",
       "      <td>0.0</td>\n",
       "      <td>0.496795</td>\n",
       "      <td>24.0</td>\n",
       "      <td>0.250000</td>\n",
       "      <td>-11.0</td>\n",
       "      <td>4.0</td>\n",
       "      <td>0.833333</td>\n",
       "      <td>0.857143</td>\n",
       "      <td>0.975450</td>\n",
       "      <td>2.0</td>\n",
       "      <td>0.945946</td>\n",
       "      <td>0</td>\n",
       "    </tr>\n",
       "  </tbody>\n",
       "</table>\n",
       "</div>"
      ],
      "text/plain": [
       "       _id  ltable_ID  rtable_ID  name_name_jac_qgm_3_qgm_3  \\\n",
       "1260  1260       1995       1848                   1.000000   \n",
       "1978  1978       3122        972                   0.000000   \n",
       "167    167        268        899                   0.042553   \n",
       "\n",
       "      name_name_cos_dlm_dc0_dlm_dc0  name_name_jac_dlm_dc0_dlm_dc0  \\\n",
       "1260                            1.0                            1.0   \n",
       "1978                            0.0                            0.0   \n",
       "167                             0.0                            0.0   \n",
       "\n",
       "      name_name_mel  name_name_lev_dist  name_name_lev_sim  name_name_nmw  \\\n",
       "1260       1.000000                 0.0           1.000000           15.0   \n",
       "1978       0.466667                15.0           0.166667            0.0   \n",
       "167        0.496795                24.0           0.250000          -11.0   \n",
       "\n",
       "      name_name_sw  address_address_jac_qgm_3_qgm_3  \\\n",
       "1260          15.0                         0.372093   \n",
       "1978           2.0                         0.860465   \n",
       "167            4.0                         0.833333   \n",
       "\n",
       "      address_address_cos_dlm_dc0_dlm_dc0  address_address_mel  \\\n",
       "1260                             0.547723             0.805556   \n",
       "1978                             0.875000             0.986667   \n",
       "167                              0.857143             0.975450   \n",
       "\n",
       "      address_address_lev_dist  address_address_lev_sim  gold_labels  \n",
       "1260                      11.0                 0.633333            1  \n",
       "1978                       1.0                 0.975000            0  \n",
       "167                        2.0                 0.945946            0  "
      ]
     },
     "execution_count": 45,
     "metadata": {},
     "output_type": "execute_result"
    }
   ],
   "source": [
    "## Display first three rows\n",
    "H.head(3)"
   ]
  },
  {
   "cell_type": "markdown",
   "metadata": {
    "deletable": true,
    "editable": true
   },
   "source": [
    "Selecting the best matcher using cross-validation\n",
    "------------------"
   ]
  },
  {
   "cell_type": "markdown",
   "metadata": {
    "collapsed": false,
    "deletable": true,
    "editable": true
   },
   "source": [
    "Now, we select the best matcher using k-fold cross-validation.\n",
    "For the purposes of this guide, we use ten fold cross validation and use 'precision' and 'recall' metric to select the best matcher"
   ]
  },
  {
   "cell_type": "code",
   "execution_count": 46,
   "metadata": {
    "collapsed": false,
    "deletable": true,
    "editable": true
   },
   "outputs": [
    {
     "data": {
      "text/html": [
       "<div>\n",
       "<table border=\"1\" class=\"dataframe\">\n",
       "  <thead>\n",
       "    <tr style=\"text-align: right;\">\n",
       "      <th></th>\n",
       "      <th>Name</th>\n",
       "      <th>Matcher</th>\n",
       "      <th>Num folds</th>\n",
       "      <th>Fold 1</th>\n",
       "      <th>Fold 2</th>\n",
       "      <th>Fold 3</th>\n",
       "      <th>Fold 4</th>\n",
       "      <th>Fold 5</th>\n",
       "      <th>Fold 6</th>\n",
       "      <th>Fold 7</th>\n",
       "      <th>Fold 8</th>\n",
       "      <th>Fold 9</th>\n",
       "      <th>Fold 10</th>\n",
       "      <th>Mean score</th>\n",
       "    </tr>\n",
       "  </thead>\n",
       "  <tbody>\n",
       "    <tr>\n",
       "      <th>0</th>\n",
       "      <td>DecisionTree_06587521944573381941</td>\n",
       "      <td>&lt;py_entitymatching.matcher.dtmatcher.DTMatcher object at 0x7fbd24053610&gt;</td>\n",
       "      <td>10</td>\n",
       "      <td>1.000000</td>\n",
       "      <td>1.000000</td>\n",
       "      <td>1.000000</td>\n",
       "      <td>1.000000</td>\n",
       "      <td>1.000000</td>\n",
       "      <td>0.909091</td>\n",
       "      <td>1.000000</td>\n",
       "      <td>1.000000</td>\n",
       "      <td>1.000000</td>\n",
       "      <td>0.923077</td>\n",
       "      <td>0.983217</td>\n",
       "    </tr>\n",
       "    <tr>\n",
       "      <th>1</th>\n",
       "      <td>RandomForest_02998431944573381941</td>\n",
       "      <td>&lt;py_entitymatching.matcher.rfmatcher.RFMatcher object at 0x7fbd240535d0&gt;</td>\n",
       "      <td>10</td>\n",
       "      <td>0.875000</td>\n",
       "      <td>1.000000</td>\n",
       "      <td>1.000000</td>\n",
       "      <td>1.000000</td>\n",
       "      <td>0.833333</td>\n",
       "      <td>1.000000</td>\n",
       "      <td>1.000000</td>\n",
       "      <td>1.000000</td>\n",
       "      <td>0.928571</td>\n",
       "      <td>1.000000</td>\n",
       "      <td>0.963690</td>\n",
       "    </tr>\n",
       "    <tr>\n",
       "      <th>2</th>\n",
       "      <td>NaiveBayes_02190341944573381941</td>\n",
       "      <td>&lt;py_entitymatching.matcher.nbmatcher.NBMatcher object at 0x7fbd24053650&gt;</td>\n",
       "      <td>10</td>\n",
       "      <td>0.923077</td>\n",
       "      <td>1.000000</td>\n",
       "      <td>0.933333</td>\n",
       "      <td>0.857143</td>\n",
       "      <td>1.000000</td>\n",
       "      <td>0.857143</td>\n",
       "      <td>0.928571</td>\n",
       "      <td>0.916667</td>\n",
       "      <td>0.846154</td>\n",
       "      <td>1.000000</td>\n",
       "      <td>0.926209</td>\n",
       "    </tr>\n",
       "    <tr>\n",
       "      <th>3</th>\n",
       "      <td>LogisticRegression_02112841944573381941</td>\n",
       "      <td>&lt;py_entitymatching.matcher.logregmatcher.LogRegMatcher object at 0x7fbd24053750&gt;</td>\n",
       "      <td>10</td>\n",
       "      <td>0.833333</td>\n",
       "      <td>1.000000</td>\n",
       "      <td>1.000000</td>\n",
       "      <td>0.928571</td>\n",
       "      <td>1.000000</td>\n",
       "      <td>1.000000</td>\n",
       "      <td>1.000000</td>\n",
       "      <td>1.000000</td>\n",
       "      <td>1.000000</td>\n",
       "      <td>1.000000</td>\n",
       "      <td>0.976190</td>\n",
       "    </tr>\n",
       "    <tr>\n",
       "      <th>4</th>\n",
       "      <td>LinearRegression_61693451944573381941</td>\n",
       "      <td>&lt;py_entitymatching.matcher.linregmatcher.LinRegMatcher object at 0x7fbd24053790&gt;</td>\n",
       "      <td>10</td>\n",
       "      <td>0.916667</td>\n",
       "      <td>0.916667</td>\n",
       "      <td>1.000000</td>\n",
       "      <td>1.000000</td>\n",
       "      <td>0.909091</td>\n",
       "      <td>1.000000</td>\n",
       "      <td>1.000000</td>\n",
       "      <td>1.000000</td>\n",
       "      <td>1.000000</td>\n",
       "      <td>0.941176</td>\n",
       "      <td>0.968360</td>\n",
       "    </tr>\n",
       "    <tr>\n",
       "      <th>5</th>\n",
       "      <td>SVM_86594951944573381941</td>\n",
       "      <td>&lt;py_entitymatching.matcher.svmmatcher.SVMMatcher object at 0x7fbd24053810&gt;</td>\n",
       "      <td>10</td>\n",
       "      <td>0.400000</td>\n",
       "      <td>0.600000</td>\n",
       "      <td>0.480000</td>\n",
       "      <td>0.560000</td>\n",
       "      <td>0.500000</td>\n",
       "      <td>0.458333</td>\n",
       "      <td>0.625000</td>\n",
       "      <td>0.500000</td>\n",
       "      <td>0.541667</td>\n",
       "      <td>0.666667</td>\n",
       "      <td>0.533167</td>\n",
       "    </tr>\n",
       "  </tbody>\n",
       "</table>\n",
       "</div>"
      ],
      "text/plain": [
       "                                      Name  \\\n",
       "0        DecisionTree_06587521944573381941   \n",
       "1        RandomForest_02998431944573381941   \n",
       "2          NaiveBayes_02190341944573381941   \n",
       "3  LogisticRegression_02112841944573381941   \n",
       "4    LinearRegression_61693451944573381941   \n",
       "5                 SVM_86594951944573381941   \n",
       "\n",
       "                                                                            Matcher  \\\n",
       "0          <py_entitymatching.matcher.dtmatcher.DTMatcher object at 0x7fbd24053610>   \n",
       "1          <py_entitymatching.matcher.rfmatcher.RFMatcher object at 0x7fbd240535d0>   \n",
       "2          <py_entitymatching.matcher.nbmatcher.NBMatcher object at 0x7fbd24053650>   \n",
       "3  <py_entitymatching.matcher.logregmatcher.LogRegMatcher object at 0x7fbd24053750>   \n",
       "4  <py_entitymatching.matcher.linregmatcher.LinRegMatcher object at 0x7fbd24053790>   \n",
       "5        <py_entitymatching.matcher.svmmatcher.SVMMatcher object at 0x7fbd24053810>   \n",
       "\n",
       "   Num folds    Fold 1    Fold 2    Fold 3    Fold 4    Fold 5    Fold 6  \\\n",
       "0         10  1.000000  1.000000  1.000000  1.000000  1.000000  0.909091   \n",
       "1         10  0.875000  1.000000  1.000000  1.000000  0.833333  1.000000   \n",
       "2         10  0.923077  1.000000  0.933333  0.857143  1.000000  0.857143   \n",
       "3         10  0.833333  1.000000  1.000000  0.928571  1.000000  1.000000   \n",
       "4         10  0.916667  0.916667  1.000000  1.000000  0.909091  1.000000   \n",
       "5         10  0.400000  0.600000  0.480000  0.560000  0.500000  0.458333   \n",
       "\n",
       "     Fold 7    Fold 8    Fold 9   Fold 10  Mean score  \n",
       "0  1.000000  1.000000  1.000000  0.923077    0.983217  \n",
       "1  1.000000  1.000000  0.928571  1.000000    0.963690  \n",
       "2  0.928571  0.916667  0.846154  1.000000    0.926209  \n",
       "3  1.000000  1.000000  1.000000  1.000000    0.976190  \n",
       "4  1.000000  1.000000  1.000000  0.941176    0.968360  \n",
       "5  0.625000  0.500000  0.541667  0.666667    0.533167  "
      ]
     },
     "execution_count": 46,
     "metadata": {},
     "output_type": "execute_result"
    }
   ],
   "source": [
    "## Select the best ML matcher using CV\n",
    "\n",
    "result_precision = em.select_matcher(matchers=[dt, rf, nb, logreg, linreg, svm], table=H, exclude_attrs=[], target_attr='gold_labels', metric='precision', k=10)\n",
    "result_precision['cv_stats']"
   ]
  },
  {
   "cell_type": "code",
   "execution_count": 47,
   "metadata": {
    "collapsed": false,
    "deletable": true,
    "editable": true,
    "scrolled": true
   },
   "outputs": [
    {
     "data": {
      "text/html": [
       "<div>\n",
       "<table border=\"1\" class=\"dataframe\">\n",
       "  <thead>\n",
       "    <tr style=\"text-align: right;\">\n",
       "      <th></th>\n",
       "      <th>Name</th>\n",
       "      <th>Matcher</th>\n",
       "      <th>Num folds</th>\n",
       "      <th>Fold 1</th>\n",
       "      <th>Fold 2</th>\n",
       "      <th>Fold 3</th>\n",
       "      <th>Fold 4</th>\n",
       "      <th>Fold 5</th>\n",
       "      <th>Fold 6</th>\n",
       "      <th>Fold 7</th>\n",
       "      <th>Fold 8</th>\n",
       "      <th>Fold 9</th>\n",
       "      <th>Fold 10</th>\n",
       "      <th>Mean score</th>\n",
       "    </tr>\n",
       "  </thead>\n",
       "  <tbody>\n",
       "    <tr>\n",
       "      <th>0</th>\n",
       "      <td>DecisionTree_06587521944573381941</td>\n",
       "      <td>&lt;py_entitymatching.matcher.dtmatcher.DTMatcher object at 0x7fbd24053610&gt;</td>\n",
       "      <td>10</td>\n",
       "      <td>0.800000</td>\n",
       "      <td>1.0</td>\n",
       "      <td>1.000000</td>\n",
       "      <td>0.941176</td>\n",
       "      <td>0.916667</td>\n",
       "      <td>1.000000</td>\n",
       "      <td>0.916667</td>\n",
       "      <td>1.0</td>\n",
       "      <td>0.875000</td>\n",
       "      <td>0.900000</td>\n",
       "      <td>0.934951</td>\n",
       "    </tr>\n",
       "    <tr>\n",
       "      <th>1</th>\n",
       "      <td>RandomForest_02998431944573381941</td>\n",
       "      <td>&lt;py_entitymatching.matcher.rfmatcher.RFMatcher object at 0x7fbd240535d0&gt;</td>\n",
       "      <td>10</td>\n",
       "      <td>1.000000</td>\n",
       "      <td>1.0</td>\n",
       "      <td>1.000000</td>\n",
       "      <td>0.846154</td>\n",
       "      <td>0.941176</td>\n",
       "      <td>1.000000</td>\n",
       "      <td>1.000000</td>\n",
       "      <td>1.0</td>\n",
       "      <td>0.846154</td>\n",
       "      <td>1.000000</td>\n",
       "      <td>0.963348</td>\n",
       "    </tr>\n",
       "    <tr>\n",
       "      <th>2</th>\n",
       "      <td>NaiveBayes_02190341944573381941</td>\n",
       "      <td>&lt;py_entitymatching.matcher.nbmatcher.NBMatcher object at 0x7fbd24053650&gt;</td>\n",
       "      <td>10</td>\n",
       "      <td>1.000000</td>\n",
       "      <td>1.0</td>\n",
       "      <td>0.944444</td>\n",
       "      <td>0.857143</td>\n",
       "      <td>0.857143</td>\n",
       "      <td>0.933333</td>\n",
       "      <td>1.000000</td>\n",
       "      <td>1.0</td>\n",
       "      <td>1.000000</td>\n",
       "      <td>0.875000</td>\n",
       "      <td>0.946706</td>\n",
       "    </tr>\n",
       "    <tr>\n",
       "      <th>3</th>\n",
       "      <td>LogisticRegression_02112841944573381941</td>\n",
       "      <td>&lt;py_entitymatching.matcher.logregmatcher.LogRegMatcher object at 0x7fbd24053750&gt;</td>\n",
       "      <td>10</td>\n",
       "      <td>0.933333</td>\n",
       "      <td>1.0</td>\n",
       "      <td>1.000000</td>\n",
       "      <td>1.000000</td>\n",
       "      <td>1.000000</td>\n",
       "      <td>1.000000</td>\n",
       "      <td>0.928571</td>\n",
       "      <td>1.0</td>\n",
       "      <td>1.000000</td>\n",
       "      <td>0.857143</td>\n",
       "      <td>0.971905</td>\n",
       "    </tr>\n",
       "    <tr>\n",
       "      <th>4</th>\n",
       "      <td>LinearRegression_61693451944573381941</td>\n",
       "      <td>&lt;py_entitymatching.matcher.linregmatcher.LinRegMatcher object at 0x7fbd24053790&gt;</td>\n",
       "      <td>10</td>\n",
       "      <td>1.000000</td>\n",
       "      <td>1.0</td>\n",
       "      <td>1.000000</td>\n",
       "      <td>1.000000</td>\n",
       "      <td>1.000000</td>\n",
       "      <td>0.923077</td>\n",
       "      <td>0.933333</td>\n",
       "      <td>1.0</td>\n",
       "      <td>1.000000</td>\n",
       "      <td>1.000000</td>\n",
       "      <td>0.985641</td>\n",
       "    </tr>\n",
       "    <tr>\n",
       "      <th>5</th>\n",
       "      <td>SVM_86594951944573381941</td>\n",
       "      <td>&lt;py_entitymatching.matcher.svmmatcher.SVMMatcher object at 0x7fbd24053810&gt;</td>\n",
       "      <td>10</td>\n",
       "      <td>1.000000</td>\n",
       "      <td>1.0</td>\n",
       "      <td>1.000000</td>\n",
       "      <td>1.000000</td>\n",
       "      <td>1.000000</td>\n",
       "      <td>1.000000</td>\n",
       "      <td>1.000000</td>\n",
       "      <td>1.0</td>\n",
       "      <td>1.000000</td>\n",
       "      <td>1.000000</td>\n",
       "      <td>1.000000</td>\n",
       "    </tr>\n",
       "  </tbody>\n",
       "</table>\n",
       "</div>"
      ],
      "text/plain": [
       "                                      Name  \\\n",
       "0        DecisionTree_06587521944573381941   \n",
       "1        RandomForest_02998431944573381941   \n",
       "2          NaiveBayes_02190341944573381941   \n",
       "3  LogisticRegression_02112841944573381941   \n",
       "4    LinearRegression_61693451944573381941   \n",
       "5                 SVM_86594951944573381941   \n",
       "\n",
       "                                                                            Matcher  \\\n",
       "0          <py_entitymatching.matcher.dtmatcher.DTMatcher object at 0x7fbd24053610>   \n",
       "1          <py_entitymatching.matcher.rfmatcher.RFMatcher object at 0x7fbd240535d0>   \n",
       "2          <py_entitymatching.matcher.nbmatcher.NBMatcher object at 0x7fbd24053650>   \n",
       "3  <py_entitymatching.matcher.logregmatcher.LogRegMatcher object at 0x7fbd24053750>   \n",
       "4  <py_entitymatching.matcher.linregmatcher.LinRegMatcher object at 0x7fbd24053790>   \n",
       "5        <py_entitymatching.matcher.svmmatcher.SVMMatcher object at 0x7fbd24053810>   \n",
       "\n",
       "   Num folds    Fold 1  Fold 2    Fold 3    Fold 4    Fold 5    Fold 6  \\\n",
       "0         10  0.800000     1.0  1.000000  0.941176  0.916667  1.000000   \n",
       "1         10  1.000000     1.0  1.000000  0.846154  0.941176  1.000000   \n",
       "2         10  1.000000     1.0  0.944444  0.857143  0.857143  0.933333   \n",
       "3         10  0.933333     1.0  1.000000  1.000000  1.000000  1.000000   \n",
       "4         10  1.000000     1.0  1.000000  1.000000  1.000000  0.923077   \n",
       "5         10  1.000000     1.0  1.000000  1.000000  1.000000  1.000000   \n",
       "\n",
       "     Fold 7  Fold 8    Fold 9   Fold 10  Mean score  \n",
       "0  0.916667     1.0  0.875000  0.900000    0.934951  \n",
       "1  1.000000     1.0  0.846154  1.000000    0.963348  \n",
       "2  1.000000     1.0  1.000000  0.875000    0.946706  \n",
       "3  0.928571     1.0  1.000000  0.857143    0.971905  \n",
       "4  0.933333     1.0  1.000000  1.000000    0.985641  \n",
       "5  1.000000     1.0  1.000000  1.000000    1.000000  "
      ]
     },
     "execution_count": 47,
     "metadata": {},
     "output_type": "execute_result"
    }
   ],
   "source": [
    "# Measuring recall\n",
    "result_recall = em.select_matcher(matchers=[dt, rf, nb, logreg, linreg, svm], table=H, exclude_attrs=[], target_attr='gold_labels', metric='recall', k=10)\n",
    "result_recall['cv_stats']"
   ]
  },
  {
   "cell_type": "markdown",
   "metadata": {
    "deletable": true,
    "editable": true
   },
   "source": [
    "Debugging Matcher\n",
    "------------------"
   ]
  },
  {
   "cell_type": "markdown",
   "metadata": {
    "deletable": true,
    "editable": true
   },
   "source": [
    "We observe that the best matcher is either Linear Regression or Random Forest.\n",
    "We debug the RandomForest matcher to see what might be wrong( since it easier to debug). \n",
    "To do this, first we split the feature vectors into train and test."
   ]
  },
  {
   "cell_type": "code",
   "execution_count": 48,
   "metadata": {
    "collapsed": false,
    "deletable": true,
    "editable": true
   },
   "outputs": [],
   "source": [
    "## Split feature vectors (H) into train and test\n",
    "rf = em.RFMatcher()\n",
    "UV = em.split_train_test(H, train_proportion=0.5)\n",
    "U = UV['train']\n",
    "V = UV['test']"
   ]
  },
  {
   "cell_type": "markdown",
   "metadata": {
    "deletable": true,
    "editable": true
   },
   "source": [
    "Next, we debug the matcher using GUI. "
   ]
  },
  {
   "cell_type": "code",
   "execution_count": 49,
   "metadata": {
    "collapsed": false,
    "deletable": true,
    "editable": true
   },
   "outputs": [],
   "source": [
    "# Debug random forest using GUI\n",
    "\n",
    "em.vis_debug_rf(rf,U,V,\n",
    "               exclude_attrs=['_id','ltable_ID','rtable_ID','gold_labels'],\n",
    "               target_attr='gold_labels')"
   ]
  },
  {
   "cell_type": "markdown",
   "metadata": {
    "deletable": true,
    "editable": true
   },
   "source": [
    "From the debugger we notice there are many false negatives due to incorrect labeling"
   ]
  },
  {
   "cell_type": "code",
   "execution_count": 106,
   "metadata": {
    "collapsed": false,
    "deletable": true,
    "editable": true
   },
   "outputs": [
    {
     "name": "stderr",
     "output_type": "stream",
     "text": [
      "WARNING:py_entitymatching.utils.catalog_helper:Column name (gold_labels) is not present in dataframe\n"
     ]
    }
   ],
   "source": [
    "## Relabel the sample\n",
    "G2 = em.label_table(S, 'gold_labels')"
   ]
  },
  {
   "cell_type": "code",
   "execution_count": 128,
   "metadata": {
    "collapsed": false,
    "deletable": true,
    "editable": true
   },
   "outputs": [
    {
     "data": {
      "text/plain": [
       "350"
      ]
     },
     "execution_count": 128,
     "metadata": {},
     "output_type": "execute_result"
    }
   ],
   "source": [
    "#load labeled data from previous session\n",
    "G2 = em.load_object('./GoldenData2.pkl')\n",
    "len(G2)"
   ]
  },
  {
   "cell_type": "code",
   "execution_count": 129,
   "metadata": {
    "collapsed": false,
    "deletable": true,
    "editable": true
   },
   "outputs": [
    {
     "data": {
      "text/plain": [
       "True"
      ]
     },
     "execution_count": 129,
     "metadata": {},
     "output_type": "execute_result"
    }
   ],
   "source": [
    "## Load G2 into em catalog\n",
    "em.set_fk_ltable(G2, 'ltable_ID')\n",
    "em.set_fk_rtable(G2, 'rtable_ID')\n",
    "em.set_key(G2, '_id')\n",
    "em.set_ltable(G2, A)\n",
    "em.set_rtable(G2, B)"
   ]
  },
  {
   "cell_type": "code",
   "execution_count": 130,
   "metadata": {
    "collapsed": false,
    "deletable": true,
    "editable": true
   },
   "outputs": [],
   "source": [
    "## Split into train and test set\n",
    "train_test = em.split_train_test(G2, train_proportion=0.7)\n",
    "I2 = train_test['train']\n",
    "J2 = train_test['test']"
   ]
  },
  {
   "cell_type": "code",
   "execution_count": 131,
   "metadata": {
    "collapsed": false,
    "deletable": true,
    "editable": true
   },
   "outputs": [
    {
     "name": "stderr",
     "output_type": "stream",
     "text": [
      "0%                          100%\n",
      "[##############################] | ETA: 00:00:00 | ETA: 00:00:00 | ETA: 00:00:00 | ETA: 00:00:00 | ETA: 00:00:01 | ETA: 00:00:01 | ETA: 00:00:01 | ETA: 00:00:00 | ETA: 00:00:00 | ETA: 00:00:00 | ETA: 00:00:00 | ETA: 00:00:00 | ETA: 00:00:00 | ETA: 00:00:00 | ETA: 00:00:00 | ETA: 00:00:00 | ETA: 00:00:00 | ETA: 00:00:00 | ETA: 00:00:00 | ETA: 00:00:00 | ETA: 00:00:00 | ETA: 00:00:00 | ETA: 00:00:00 | ETA: 00:00:00 | ETA: 00:00:00 | ETA: 00:00:00 | ETA: 00:00:00 | ETA: 00:00:00 | ETA: 00:00:00 | ETA: 00:00:00 | ETA: 00:00:00\n",
      "Total time elapsed: 00:00:01\n"
     ]
    }
   ],
   "source": [
    "## Extract features\n",
    "H2 = em.extract_feature_vecs(I2, feature_table=match_f, attrs_after=['gold_labels'])"
   ]
  },
  {
   "cell_type": "code",
   "execution_count": 132,
   "metadata": {
    "collapsed": false,
    "deletable": true,
    "editable": true
   },
   "outputs": [
    {
     "data": {
      "text/html": [
       "<div>\n",
       "<table border=\"1\" class=\"dataframe\">\n",
       "  <thead>\n",
       "    <tr style=\"text-align: right;\">\n",
       "      <th></th>\n",
       "      <th>Name</th>\n",
       "      <th>Matcher</th>\n",
       "      <th>Num folds</th>\n",
       "      <th>Fold 1</th>\n",
       "      <th>Fold 2</th>\n",
       "      <th>Fold 3</th>\n",
       "      <th>Fold 4</th>\n",
       "      <th>Fold 5</th>\n",
       "      <th>Fold 6</th>\n",
       "      <th>Fold 7</th>\n",
       "      <th>Fold 8</th>\n",
       "      <th>Fold 9</th>\n",
       "      <th>Fold 10</th>\n",
       "      <th>Mean score</th>\n",
       "    </tr>\n",
       "  </thead>\n",
       "  <tbody>\n",
       "    <tr>\n",
       "      <th>0</th>\n",
       "      <td>DecisionTree_06108321679779011941</td>\n",
       "      <td>&lt;py_entitymatching.matcher.dtmatcher.DTMatcher object at 0x7f50ec405cd0&gt;</td>\n",
       "      <td>10</td>\n",
       "      <td>0.888889</td>\n",
       "      <td>0.846154</td>\n",
       "      <td>1.000000</td>\n",
       "      <td>1.000000</td>\n",
       "      <td>0.888889</td>\n",
       "      <td>1.000000</td>\n",
       "      <td>1.000000</td>\n",
       "      <td>1.000000</td>\n",
       "      <td>0.818182</td>\n",
       "      <td>1.000000</td>\n",
       "      <td>0.944211</td>\n",
       "    </tr>\n",
       "    <tr>\n",
       "      <th>1</th>\n",
       "      <td>RandomForest_80209948978290111941</td>\n",
       "      <td>&lt;py_entitymatching.matcher.rfmatcher.RFMatcher object at 0x7f50ec018350&gt;</td>\n",
       "      <td>10</td>\n",
       "      <td>0.823529</td>\n",
       "      <td>0.818182</td>\n",
       "      <td>1.000000</td>\n",
       "      <td>0.900000</td>\n",
       "      <td>1.000000</td>\n",
       "      <td>1.000000</td>\n",
       "      <td>0.916667</td>\n",
       "      <td>0.833333</td>\n",
       "      <td>1.000000</td>\n",
       "      <td>0.937500</td>\n",
       "      <td>0.922921</td>\n",
       "    </tr>\n",
       "    <tr>\n",
       "      <th>2</th>\n",
       "      <td>NaiveBayes_88012351679779011941</td>\n",
       "      <td>&lt;py_entitymatching.matcher.nbmatcher.NBMatcher object at 0x7f50ec405a90&gt;</td>\n",
       "      <td>10</td>\n",
       "      <td>1.000000</td>\n",
       "      <td>0.785714</td>\n",
       "      <td>0.909091</td>\n",
       "      <td>0.875000</td>\n",
       "      <td>0.916667</td>\n",
       "      <td>0.909091</td>\n",
       "      <td>1.000000</td>\n",
       "      <td>0.937500</td>\n",
       "      <td>0.916667</td>\n",
       "      <td>0.733333</td>\n",
       "      <td>0.898306</td>\n",
       "    </tr>\n",
       "    <tr>\n",
       "      <th>3</th>\n",
       "      <td>LogisticRegression_23000361679779011941</td>\n",
       "      <td>&lt;py_entitymatching.matcher.logregmatcher.LogRegMatcher object at 0x7f50ec405fd0&gt;</td>\n",
       "      <td>10</td>\n",
       "      <td>0.916667</td>\n",
       "      <td>0.916667</td>\n",
       "      <td>0.928571</td>\n",
       "      <td>1.000000</td>\n",
       "      <td>1.000000</td>\n",
       "      <td>1.000000</td>\n",
       "      <td>0.750000</td>\n",
       "      <td>1.000000</td>\n",
       "      <td>1.000000</td>\n",
       "      <td>1.000000</td>\n",
       "      <td>0.951190</td>\n",
       "    </tr>\n",
       "    <tr>\n",
       "      <th>4</th>\n",
       "      <td>LinearRegression_86704471679779011941</td>\n",
       "      <td>&lt;py_entitymatching.matcher.linregmatcher.LinRegMatcher object at 0x7f50ec46b110&gt;</td>\n",
       "      <td>10</td>\n",
       "      <td>0.833333</td>\n",
       "      <td>1.000000</td>\n",
       "      <td>1.000000</td>\n",
       "      <td>0.909091</td>\n",
       "      <td>1.000000</td>\n",
       "      <td>1.000000</td>\n",
       "      <td>1.000000</td>\n",
       "      <td>0.833333</td>\n",
       "      <td>1.000000</td>\n",
       "      <td>0.866667</td>\n",
       "      <td>0.944242</td>\n",
       "    </tr>\n",
       "    <tr>\n",
       "      <th>5</th>\n",
       "      <td>SVM_27606481679779011941</td>\n",
       "      <td>&lt;py_entitymatching.matcher.svmmatcher.SVMMatcher object at 0x7f50ec1ffb50&gt;</td>\n",
       "      <td>10</td>\n",
       "      <td>0.000000</td>\n",
       "      <td>0.000000</td>\n",
       "      <td>0.000000</td>\n",
       "      <td>0.000000</td>\n",
       "      <td>0.000000</td>\n",
       "      <td>0.000000</td>\n",
       "      <td>0.000000</td>\n",
       "      <td>0.000000</td>\n",
       "      <td>0.000000</td>\n",
       "      <td>0.000000</td>\n",
       "      <td>0.000000</td>\n",
       "    </tr>\n",
       "  </tbody>\n",
       "</table>\n",
       "</div>"
      ],
      "text/plain": [
       "                                      Name  \\\n",
       "0        DecisionTree_06108321679779011941   \n",
       "1        RandomForest_80209948978290111941   \n",
       "2          NaiveBayes_88012351679779011941   \n",
       "3  LogisticRegression_23000361679779011941   \n",
       "4    LinearRegression_86704471679779011941   \n",
       "5                 SVM_27606481679779011941   \n",
       "\n",
       "                                                                            Matcher  \\\n",
       "0          <py_entitymatching.matcher.dtmatcher.DTMatcher object at 0x7f50ec405cd0>   \n",
       "1          <py_entitymatching.matcher.rfmatcher.RFMatcher object at 0x7f50ec018350>   \n",
       "2          <py_entitymatching.matcher.nbmatcher.NBMatcher object at 0x7f50ec405a90>   \n",
       "3  <py_entitymatching.matcher.logregmatcher.LogRegMatcher object at 0x7f50ec405fd0>   \n",
       "4  <py_entitymatching.matcher.linregmatcher.LinRegMatcher object at 0x7f50ec46b110>   \n",
       "5        <py_entitymatching.matcher.svmmatcher.SVMMatcher object at 0x7f50ec1ffb50>   \n",
       "\n",
       "   Num folds    Fold 1    Fold 2    Fold 3    Fold 4    Fold 5    Fold 6  \\\n",
       "0         10  0.888889  0.846154  1.000000  1.000000  0.888889  1.000000   \n",
       "1         10  0.823529  0.818182  1.000000  0.900000  1.000000  1.000000   \n",
       "2         10  1.000000  0.785714  0.909091  0.875000  0.916667  0.909091   \n",
       "3         10  0.916667  0.916667  0.928571  1.000000  1.000000  1.000000   \n",
       "4         10  0.833333  1.000000  1.000000  0.909091  1.000000  1.000000   \n",
       "5         10  0.000000  0.000000  0.000000  0.000000  0.000000  0.000000   \n",
       "\n",
       "     Fold 7    Fold 8    Fold 9   Fold 10  Mean score  \n",
       "0  1.000000  1.000000  0.818182  1.000000    0.944211  \n",
       "1  0.916667  0.833333  1.000000  0.937500    0.922921  \n",
       "2  1.000000  0.937500  0.916667  0.733333    0.898306  \n",
       "3  0.750000  1.000000  1.000000  1.000000    0.951190  \n",
       "4  1.000000  0.833333  1.000000  0.866667    0.944242  \n",
       "5  0.000000  0.000000  0.000000  0.000000    0.000000  "
      ]
     },
     "execution_count": 132,
     "metadata": {},
     "output_type": "execute_result"
    }
   ],
   "source": [
    "## Cross validation score\n",
    "result = em.select_matcher(matchers=[dt, rf, nb, logreg, linreg, svm], table=H2, exclude_attrs=[], target_attr='gold_labels', metric='precision', k=10)\n",
    "result['cv_stats']"
   ]
  },
  {
   "cell_type": "code",
   "execution_count": 133,
   "metadata": {
    "collapsed": false,
    "deletable": true,
    "editable": true
   },
   "outputs": [
    {
     "data": {
      "text/html": [
       "<div>\n",
       "<table border=\"1\" class=\"dataframe\">\n",
       "  <thead>\n",
       "    <tr style=\"text-align: right;\">\n",
       "      <th></th>\n",
       "      <th>Name</th>\n",
       "      <th>Matcher</th>\n",
       "      <th>Num folds</th>\n",
       "      <th>Fold 1</th>\n",
       "      <th>Fold 2</th>\n",
       "      <th>Fold 3</th>\n",
       "      <th>Fold 4</th>\n",
       "      <th>Fold 5</th>\n",
       "      <th>Fold 6</th>\n",
       "      <th>Fold 7</th>\n",
       "      <th>Fold 8</th>\n",
       "      <th>Fold 9</th>\n",
       "      <th>Fold 10</th>\n",
       "      <th>Mean score</th>\n",
       "    </tr>\n",
       "  </thead>\n",
       "  <tbody>\n",
       "    <tr>\n",
       "      <th>0</th>\n",
       "      <td>DecisionTree_06108321679779011941</td>\n",
       "      <td>&lt;py_entitymatching.matcher.dtmatcher.DTMatcher object at 0x7f50ec405cd0&gt;</td>\n",
       "      <td>10</td>\n",
       "      <td>0.882353</td>\n",
       "      <td>0.900000</td>\n",
       "      <td>0.916667</td>\n",
       "      <td>1.000000</td>\n",
       "      <td>0.750000</td>\n",
       "      <td>1.000000</td>\n",
       "      <td>1.000000</td>\n",
       "      <td>0.846154</td>\n",
       "      <td>0.900000</td>\n",
       "      <td>0.714286</td>\n",
       "      <td>0.890946</td>\n",
       "    </tr>\n",
       "    <tr>\n",
       "      <th>1</th>\n",
       "      <td>RandomForest_80209948978290111941</td>\n",
       "      <td>&lt;py_entitymatching.matcher.rfmatcher.RFMatcher object at 0x7f50ec018350&gt;</td>\n",
       "      <td>10</td>\n",
       "      <td>0.888889</td>\n",
       "      <td>1.000000</td>\n",
       "      <td>0.928571</td>\n",
       "      <td>1.000000</td>\n",
       "      <td>0.833333</td>\n",
       "      <td>1.000000</td>\n",
       "      <td>0.846154</td>\n",
       "      <td>0.800000</td>\n",
       "      <td>0.933333</td>\n",
       "      <td>0.923077</td>\n",
       "      <td>0.915336</td>\n",
       "    </tr>\n",
       "    <tr>\n",
       "      <th>2</th>\n",
       "      <td>NaiveBayes_88012351679779011941</td>\n",
       "      <td>&lt;py_entitymatching.matcher.nbmatcher.NBMatcher object at 0x7f50ec405a90&gt;</td>\n",
       "      <td>10</td>\n",
       "      <td>0.933333</td>\n",
       "      <td>0.937500</td>\n",
       "      <td>0.875000</td>\n",
       "      <td>0.875000</td>\n",
       "      <td>0.833333</td>\n",
       "      <td>0.857143</td>\n",
       "      <td>1.000000</td>\n",
       "      <td>1.000000</td>\n",
       "      <td>0.875000</td>\n",
       "      <td>0.846154</td>\n",
       "      <td>0.903246</td>\n",
       "    </tr>\n",
       "    <tr>\n",
       "      <th>3</th>\n",
       "      <td>LogisticRegression_23000361679779011941</td>\n",
       "      <td>&lt;py_entitymatching.matcher.logregmatcher.LogRegMatcher object at 0x7f50ec405fd0&gt;</td>\n",
       "      <td>10</td>\n",
       "      <td>0.900000</td>\n",
       "      <td>0.777778</td>\n",
       "      <td>0.923077</td>\n",
       "      <td>1.000000</td>\n",
       "      <td>0.923077</td>\n",
       "      <td>0.846154</td>\n",
       "      <td>1.000000</td>\n",
       "      <td>1.000000</td>\n",
       "      <td>0.928571</td>\n",
       "      <td>0.846154</td>\n",
       "      <td>0.914481</td>\n",
       "    </tr>\n",
       "    <tr>\n",
       "      <th>4</th>\n",
       "      <td>LinearRegression_86704471679779011941</td>\n",
       "      <td>&lt;py_entitymatching.matcher.linregmatcher.LinRegMatcher object at 0x7f50ec46b110&gt;</td>\n",
       "      <td>10</td>\n",
       "      <td>0.857143</td>\n",
       "      <td>0.909091</td>\n",
       "      <td>0.769231</td>\n",
       "      <td>0.866667</td>\n",
       "      <td>0.909091</td>\n",
       "      <td>0.941176</td>\n",
       "      <td>1.000000</td>\n",
       "      <td>0.900000</td>\n",
       "      <td>1.000000</td>\n",
       "      <td>0.916667</td>\n",
       "      <td>0.906907</td>\n",
       "    </tr>\n",
       "    <tr>\n",
       "      <th>5</th>\n",
       "      <td>SVM_27606481679779011941</td>\n",
       "      <td>&lt;py_entitymatching.matcher.svmmatcher.SVMMatcher object at 0x7f50ec1ffb50&gt;</td>\n",
       "      <td>10</td>\n",
       "      <td>1.000000</td>\n",
       "      <td>1.000000</td>\n",
       "      <td>0.000000</td>\n",
       "      <td>1.000000</td>\n",
       "      <td>1.000000</td>\n",
       "      <td>0.000000</td>\n",
       "      <td>0.000000</td>\n",
       "      <td>1.000000</td>\n",
       "      <td>0.000000</td>\n",
       "      <td>1.000000</td>\n",
       "      <td>0.600000</td>\n",
       "    </tr>\n",
       "  </tbody>\n",
       "</table>\n",
       "</div>"
      ],
      "text/plain": [
       "                                      Name  \\\n",
       "0        DecisionTree_06108321679779011941   \n",
       "1        RandomForest_80209948978290111941   \n",
       "2          NaiveBayes_88012351679779011941   \n",
       "3  LogisticRegression_23000361679779011941   \n",
       "4    LinearRegression_86704471679779011941   \n",
       "5                 SVM_27606481679779011941   \n",
       "\n",
       "                                                                            Matcher  \\\n",
       "0          <py_entitymatching.matcher.dtmatcher.DTMatcher object at 0x7f50ec405cd0>   \n",
       "1          <py_entitymatching.matcher.rfmatcher.RFMatcher object at 0x7f50ec018350>   \n",
       "2          <py_entitymatching.matcher.nbmatcher.NBMatcher object at 0x7f50ec405a90>   \n",
       "3  <py_entitymatching.matcher.logregmatcher.LogRegMatcher object at 0x7f50ec405fd0>   \n",
       "4  <py_entitymatching.matcher.linregmatcher.LinRegMatcher object at 0x7f50ec46b110>   \n",
       "5        <py_entitymatching.matcher.svmmatcher.SVMMatcher object at 0x7f50ec1ffb50>   \n",
       "\n",
       "   Num folds    Fold 1    Fold 2    Fold 3    Fold 4    Fold 5    Fold 6  \\\n",
       "0         10  0.882353  0.900000  0.916667  1.000000  0.750000  1.000000   \n",
       "1         10  0.888889  1.000000  0.928571  1.000000  0.833333  1.000000   \n",
       "2         10  0.933333  0.937500  0.875000  0.875000  0.833333  0.857143   \n",
       "3         10  0.900000  0.777778  0.923077  1.000000  0.923077  0.846154   \n",
       "4         10  0.857143  0.909091  0.769231  0.866667  0.909091  0.941176   \n",
       "5         10  1.000000  1.000000  0.000000  1.000000  1.000000  0.000000   \n",
       "\n",
       "     Fold 7    Fold 8    Fold 9   Fold 10  Mean score  \n",
       "0  1.000000  0.846154  0.900000  0.714286    0.890946  \n",
       "1  0.846154  0.800000  0.933333  0.923077    0.915336  \n",
       "2  1.000000  1.000000  0.875000  0.846154    0.903246  \n",
       "3  1.000000  1.000000  0.928571  0.846154    0.914481  \n",
       "4  1.000000  0.900000  1.000000  0.916667    0.906907  \n",
       "5  0.000000  1.000000  0.000000  1.000000    0.600000  "
      ]
     },
     "execution_count": 133,
     "metadata": {},
     "output_type": "execute_result"
    }
   ],
   "source": [
    "## Cross validation score for recall\n",
    "result_recall_2 = em.select_matcher(matchers=[dt, rf, nb, logreg, linreg, svm], table=H, exclude_attrs=[], target_attr='gold_labels', metric='recall', k=10)\n",
    "result_recall_2['cv_stats']"
   ]
  },
  {
   "cell_type": "markdown",
   "metadata": {
    "deletable": true,
    "editable": true
   },
   "source": [
    "We observe that due to relabeling both precision and recall have improved.Now we can further debug and look for improvements"
   ]
  },
  {
   "cell_type": "markdown",
   "metadata": {
    "deletable": true,
    "editable": true
   },
   "source": [
    "Debugging Matcher\n",
    "------------------"
   ]
  },
  {
   "cell_type": "markdown",
   "metadata": {
    "deletable": true,
    "editable": true
   },
   "source": [
    "We debug the RandomForest matcher to see what might be wrong(since it easier to debug). To do this, first we split the feature vectors into train and test."
   ]
  },
  {
   "cell_type": "code",
   "execution_count": 135,
   "metadata": {
    "collapsed": false,
    "deletable": true,
    "editable": true
   },
   "outputs": [],
   "source": [
    "## Split feature vectors (H) into train and test\n",
    "UV2 = em.split_train_test(H, train_proportion=0.5)\n",
    "U2 = UV2['train']\n",
    "V2 = UV2['test']"
   ]
  },
  {
   "cell_type": "markdown",
   "metadata": {
    "deletable": true,
    "editable": true
   },
   "source": [
    "Next, we debug the matcher using GUI. "
   ]
  },
  {
   "cell_type": "code",
   "execution_count": 116,
   "metadata": {
    "collapsed": true,
    "deletable": true,
    "editable": true
   },
   "outputs": [],
   "source": [
    "# Debug random forest using GUI\n",
    "\n",
    "em.vis_debug_rf(rf,U2,V2,\n",
    "               exclude_attrs=['_id','ltable_ID','rtable_ID','gold_labels'],\n",
    "               target_attr='gold_labels')"
   ]
  },
  {
   "cell_type": "markdown",
   "metadata": {
    "deletable": true,
    "editable": true
   },
   "source": [
    "From the GUI, we observe that there are just few false positives and negatives. We can proceed for evaluation.\n"
   ]
  },
  {
   "cell_type": "markdown",
   "metadata": {
    "deletable": true,
    "editable": true
   },
   "source": [
    "<h1> Evaluating the matching output"
   ]
  },
  {
   "cell_type": "markdown",
   "metadata": {},
   "source": [
    "Form feature vectors for the test set J"
   ]
  },
  {
   "cell_type": "code",
   "execution_count": 50,
   "metadata": {
    "collapsed": false,
    "deletable": true,
    "editable": true
   },
   "outputs": [
    {
     "name": "stderr",
     "output_type": "stream",
     "text": [
      "0%                          100%\n",
      "[##############################] | ETA: 00:00:00 | ETA: 00:00:00 | ETA: 00:00:00 | ETA: 00:00:00 | ETA: 00:00:00 | ETA: 00:00:00 | ETA: 00:00:00 | ETA: 00:00:00 | ETA: 00:00:00 | ETA: 00:00:00 | ETA: 00:00:00 | ETA: 00:00:00 | ETA: 00:00:00 | ETA: 00:00:00 | ETA: 00:00:00 | ETA: 00:00:00 | ETA: 00:00:00 | ETA: 00:00:00 | ETA: 00:00:00 | ETA: 00:00:00 | ETA: 00:00:00 | ETA: 00:00:00 | ETA: 00:00:00 | ETA: 00:00:00 | ETA: 00:00:00 | ETA: 00:00:00 | ETA: 00:00:00 | ETA: 00:00:00 | ETA: 00:00:00 | ETA: 00:00:00 | ETA: 00:00:00\n",
      "Total time elapsed: 00:00:00\n"
     ]
    }
   ],
   "source": [
    "L1 = em.extract_feature_vecs(J, feature_table=match_f, attrs_after=['gold_labels'])"
   ]
  },
  {
   "cell_type": "markdown",
   "metadata": {},
   "source": [
    "Here we train the machine learning classifiers on the train set I"
   ]
  },
  {
   "cell_type": "code",
   "execution_count": 51,
   "metadata": {
    "collapsed": false,
    "deletable": true,
    "editable": true
   },
   "outputs": [],
   "source": [
    "# Train random forest using feature vectors from I\n",
    "rf.fit(table = H,\n",
    "        exclude_attrs=['_id','ltable_ID','rtable_ID','gold_labels'],\n",
    "        target_attr='gold_labels')"
   ]
  },
  {
   "cell_type": "code",
   "execution_count": 52,
   "metadata": {
    "collapsed": true,
    "deletable": true,
    "editable": true
   },
   "outputs": [],
   "source": [
    "# Train decision tree using feature vectors from I\n",
    "dt.fit(table = H,\n",
    "        exclude_attrs=['_id','ltable_ID','rtable_ID','gold_labels'],\n",
    "        target_attr='gold_labels')"
   ]
  },
  {
   "cell_type": "code",
   "execution_count": 53,
   "metadata": {
    "collapsed": true,
    "deletable": true,
    "editable": true
   },
   "outputs": [],
   "source": [
    "# Train Naive Bayesian\n",
    "nb.fit(table = H,\n",
    "        exclude_attrs=['_id','ltable_ID','rtable_ID','gold_labels'],\n",
    "        target_attr='gold_labels')"
   ]
  },
  {
   "cell_type": "code",
   "execution_count": 54,
   "metadata": {
    "collapsed": true,
    "deletable": true,
    "editable": true
   },
   "outputs": [],
   "source": [
    "# Train linear regression\n",
    "linreg.fit(table = H,\n",
    "        exclude_attrs=['_id','ltable_ID','rtable_ID','gold_labels'],\n",
    "        target_attr='gold_labels')"
   ]
  },
  {
   "cell_type": "code",
   "execution_count": 55,
   "metadata": {
    "collapsed": true,
    "deletable": true,
    "editable": true
   },
   "outputs": [],
   "source": [
    "# Train logistic regression\n",
    "logreg.fit(table = H,\n",
    "        exclude_attrs=['_id','ltable_ID','rtable_ID','gold_labels'],\n",
    "        target_attr='gold_labels')"
   ]
  },
  {
   "cell_type": "code",
   "execution_count": 56,
   "metadata": {
    "collapsed": true,
    "deletable": true,
    "editable": true
   },
   "outputs": [],
   "source": [
    "# Train SVM\n",
    "svm.fit(table = H,\n",
    "        exclude_attrs=['_id','ltable_ID','rtable_ID','gold_labels'],\n",
    "        target_attr='gold_labels')"
   ]
  },
  {
   "cell_type": "markdown",
   "metadata": {},
   "source": [
    "Here we use the above trained machine learning algorithms to predict the label for the test set J"
   ]
  },
  {
   "cell_type": "code",
   "execution_count": 57,
   "metadata": {
    "collapsed": false,
    "deletable": true,
    "editable": true
   },
   "outputs": [],
   "source": [
    "# Evaluate Random Forest\n",
    "predictions_rf = rf.predict(table = L1,\n",
    "                        exclude_attrs=['_id','ltable_ID','rtable_ID','gold_labels'],\n",
    "                        append = True, target_attr='predicted', inplace=False)"
   ]
  },
  {
   "cell_type": "code",
   "execution_count": 58,
   "metadata": {
    "collapsed": false,
    "deletable": true,
    "editable": true
   },
   "outputs": [
    {
     "name": "stdout",
     "output_type": "stream",
     "text": [
      "Precision : 98.36% (60/61)\n",
      "Recall : 98.36% (60/61)\n",
      "F1 : 98.36%\n",
      "False positives : 1 (out of 61 positive predictions)\n",
      "False negatives : 1 (out of 45 negative predictions)\n"
     ]
    }
   ],
   "source": [
    "eval_result = em.eval_matches(predictions_rf, 'gold_labels', 'predicted')\n",
    "em.print_eval_summary(eval_result)"
   ]
  },
  {
   "cell_type": "code",
   "execution_count": 59,
   "metadata": {
    "collapsed": true,
    "deletable": true,
    "editable": true
   },
   "outputs": [],
   "source": [
    "# Evaluate Linear Regression\n",
    "predictions_linreg = linreg.predict(table = L1,\n",
    "                        exclude_attrs=['_id','ltable_ID','rtable_ID','gold_labels'],\n",
    "                        append = True, target_attr='predicted', inplace=False)"
   ]
  },
  {
   "cell_type": "code",
   "execution_count": 60,
   "metadata": {
    "collapsed": false,
    "deletable": true,
    "editable": true
   },
   "outputs": [
    {
     "name": "stdout",
     "output_type": "stream",
     "text": [
      "Precision : 98.31% (58/59)\n",
      "Recall : 95.08% (58/61)\n",
      "F1 : 96.67%\n",
      "False positives : 1 (out of 59 positive predictions)\n",
      "False negatives : 3 (out of 47 negative predictions)\n"
     ]
    }
   ],
   "source": [
    "eval_result = em.eval_matches(predictions_linreg, 'gold_labels', 'predicted')\n",
    "em.print_eval_summary(eval_result)"
   ]
  },
  {
   "cell_type": "code",
   "execution_count": 61,
   "metadata": {
    "collapsed": true,
    "deletable": true,
    "editable": true
   },
   "outputs": [],
   "source": [
    "# Evaluate Logistic Regression\n",
    "predictions_logreg = logreg.predict(table = L1,\n",
    "                        exclude_attrs=['_id','ltable_ID','rtable_ID','gold_labels'],\n",
    "                        append = True, target_attr='predicted', inplace=False)"
   ]
  },
  {
   "cell_type": "code",
   "execution_count": 62,
   "metadata": {
    "collapsed": false,
    "deletable": true,
    "editable": true
   },
   "outputs": [
    {
     "name": "stdout",
     "output_type": "stream",
     "text": [
      "Precision : 94.92% (56/59)\n",
      "Recall : 91.8% (56/61)\n",
      "F1 : 93.33%\n",
      "False positives : 3 (out of 59 positive predictions)\n",
      "False negatives : 5 (out of 47 negative predictions)\n"
     ]
    }
   ],
   "source": [
    "eval_result = em.eval_matches(predictions_logreg, 'gold_labels', 'predicted')\n",
    "em.print_eval_summary(eval_result)"
   ]
  },
  {
   "cell_type": "code",
   "execution_count": 63,
   "metadata": {
    "collapsed": true,
    "deletable": true,
    "editable": true
   },
   "outputs": [],
   "source": [
    "# Evaluate Decision Tree\n",
    "predictions_dt = dt.predict(table = L1,\n",
    "                        exclude_attrs=['_id','ltable_ID','rtable_ID','gold_labels'],\n",
    "                        append = True, target_attr='predicted', inplace=False)"
   ]
  },
  {
   "cell_type": "code",
   "execution_count": 64,
   "metadata": {
    "collapsed": false,
    "deletable": true,
    "editable": true
   },
   "outputs": [
    {
     "name": "stdout",
     "output_type": "stream",
     "text": [
      "Precision : 98.31% (58/59)\n",
      "Recall : 95.08% (58/61)\n",
      "F1 : 96.67%\n",
      "False positives : 1 (out of 59 positive predictions)\n",
      "False negatives : 3 (out of 47 negative predictions)\n"
     ]
    }
   ],
   "source": [
    "eval_result = em.eval_matches(predictions_dt, 'gold_labels', 'predicted')\n",
    "em.print_eval_summary(eval_result)"
   ]
  },
  {
   "cell_type": "code",
   "execution_count": 65,
   "metadata": {
    "collapsed": true,
    "deletable": true,
    "editable": true
   },
   "outputs": [],
   "source": [
    "# Evaluate Naive Bayesian\n",
    "predictions_nb = nb.predict(table = L1,\n",
    "                        exclude_attrs=['_id','ltable_ID','rtable_ID','gold_labels'],\n",
    "                        append = True, target_attr='predicted', inplace=False)"
   ]
  },
  {
   "cell_type": "code",
   "execution_count": 66,
   "metadata": {
    "collapsed": false,
    "deletable": true,
    "editable": true
   },
   "outputs": [
    {
     "name": "stdout",
     "output_type": "stream",
     "text": [
      "Precision : 95.0% (57/60)\n",
      "Recall : 93.44% (57/61)\n",
      "F1 : 94.21%\n",
      "False positives : 3 (out of 60 positive predictions)\n",
      "False negatives : 4 (out of 46 negative predictions)\n"
     ]
    }
   ],
   "source": [
    "eval_result = em.eval_matches(predictions_nb, 'gold_labels', 'predicted')\n",
    "em.print_eval_summary(eval_result)"
   ]
  },
  {
   "cell_type": "code",
   "execution_count": 67,
   "metadata": {
    "collapsed": true,
    "deletable": true,
    "editable": true
   },
   "outputs": [],
   "source": [
    "# Evaluate SVM\n",
    "predictions_svm = svm.predict(table = L1,\n",
    "                        exclude_attrs=['_id','ltable_ID','rtable_ID','gold_labels'],\n",
    "                        append = True, target_attr='predicted', inplace=False)"
   ]
  },
  {
   "cell_type": "code",
   "execution_count": 68,
   "metadata": {
    "collapsed": false,
    "deletable": true,
    "editable": true
   },
   "outputs": [
    {
     "name": "stdout",
     "output_type": "stream",
     "text": [
      "Precision : 90.77% (59/65)\n",
      "Recall : 96.72% (59/61)\n",
      "F1 : 93.65%\n",
      "False positives : 6 (out of 65 positive predictions)\n",
      "False negatives : 2 (out of 41 negative predictions)\n"
     ]
    }
   ],
   "source": [
    "eval_result = em.eval_matches(predictions_svm, 'gold_labels', 'predicted')\n",
    "em.print_eval_summary(eval_result)"
   ]
  },
  {
   "cell_type": "markdown",
   "metadata": {},
   "source": [
    "From the results, we observe that Linear Regression is the best classifier. Below are the P, R, F1 scores for the same."
   ]
  },
  {
   "cell_type": "code",
   "execution_count": 69,
   "metadata": {
    "collapsed": false,
    "deletable": true,
    "editable": true
   },
   "outputs": [
    {
     "name": "stdout",
     "output_type": "stream",
     "text": [
      "Precision : 98.31% (58/59)\n",
      "Recall : 95.08% (58/61)\n",
      "F1 : 96.67%\n",
      "False positives : 1 (out of 59 positive predictions)\n",
      "False negatives : 3 (out of 47 negative predictions)\n"
     ]
    }
   ],
   "source": [
    "## Thus the best matcher is linear regression based with precision,recall and F1 scores given below\n",
    "eval_result = em.eval_matches(predictions_linreg, 'gold_labels', 'predicted')\n",
    "em.print_eval_summary(eval_result)"
   ]
  },
  {
   "cell_type": "code",
   "execution_count": null,
   "metadata": {
    "collapsed": true,
    "deletable": true,
    "editable": true
   },
   "outputs": [],
   "source": []
  }
 ],
 "metadata": {
  "kernelspec": {
   "display_name": "Python 2",
   "language": "python",
   "name": "python2"
  },
  "language_info": {
   "codemirror_mode": {
    "name": "ipython",
    "version": 2.0
   },
   "file_extension": ".py",
   "mimetype": "text/x-python",
   "name": "python",
   "nbconvert_exporter": "python",
   "pygments_lexer": "ipython2",
   "version": "2.7.13"
  }
 },
 "nbformat": 4,
 "nbformat_minor": 0
}
