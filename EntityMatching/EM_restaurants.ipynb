{
 "cells": [
  {
   "cell_type": "markdown",
   "metadata": {},
   "source": [
    "<h1>Project Stage3 Entity Matching Workflow for Restaurant Data set"
   ]
  },
  {
   "cell_type": "markdown",
   "metadata": {},
   "source": [
    "**Introduction**\n",
    "\n",
    "This IPython notebook explains a basic workflow two tables using py_entitymatching. \n",
    "Our goal is to come up with a workflow to match restaurants from Yelp and Zomato sites.\n",
    "Specifically, we want to have precision of atleast 90 percent and as high recall as possible.\n",
    "\n",
    "First, we need to import py_entitymatching package and other libraries as follows:"
   ]
  },
  {
   "cell_type": "code",
   "execution_count": 76,
   "metadata": {
    "collapsed": false,
    "deletable": true,
    "editable": true
   },
   "outputs": [],
   "source": [
    "import sys\n",
    "sys.path.append('/usr/local/lib/python2.7/dist-packages/')\n",
    "\n",
    "import py_entitymatching as em\n",
    "import pandas as pd\n",
    "import os,sys\n",
    "import math"
   ]
  },
  {
   "cell_type": "code",
   "execution_count": 77,
   "metadata": {
    "collapsed": false
   },
   "outputs": [
    {
     "name": "stdout",
     "output_type": "stream",
     "text": [
      "python version: 2.7.12 (default, Nov 19 2016, 06:48:10) \n",
      "[GCC 5.4.0 20160609]\n",
      "pandas version: 0.19.2\n",
      "magellan version: 0.1.0\n"
     ]
    }
   ],
   "source": [
    "##Display the versions\n",
    "print('python version: ' + sys.version )\n",
    "print('pandas version: ' + pd.__version__ )\n",
    "print('magellan version: ' + em.__version__ )"
   ]
  },
  {
   "cell_type": "markdown",
   "metadata": {},
   "source": [
    "**Matching two tables typically consists of the following three steps**\n",
    "\n",
    "1. Reading the input tables\n",
    "\n",
    "2. Blocking the input tables to get a candidate set\n",
    "\n",
    "3. Matching the tuple pairs in the candidate set\n"
   ]
  },
  {
   "cell_type": "markdown",
   "metadata": {},
   "source": [
    "<h1> Read the input tables </h1>\n",
    "\n",
    "We begin by loading the input tables"
   ]
  },
  {
   "cell_type": "code",
   "execution_count": 78,
   "metadata": {
    "collapsed": false,
    "deletable": true,
    "editable": true
   },
   "outputs": [
    {
     "data": {
      "text/plain": [
       "True"
      ]
     },
     "execution_count": 78,
     "metadata": {},
     "output_type": "execute_result"
    }
   ],
   "source": [
    "## Reading csv tables into pandas dataframe and set the key attribute in the dataframe\n",
    "\n",
    "A=em.read_csv_metadata('../Data/csv/yelp_list.csv')\n",
    "A['ID'] = range(0,len(A))\n",
    "em.set_key(A,'ID')\n",
    "\n",
    "\n",
    "B=em.read_csv_metadata('../Data/csv/zomato_list.csv')\n",
    "B['ID'] = range(0,len(B))\n",
    "em.set_key(B,'ID')"
   ]
  },
  {
   "cell_type": "code",
   "execution_count": 79,
   "metadata": {
    "collapsed": false
   },
   "outputs": [
    {
     "name": "stdout",
     "output_type": "stream",
     "text": [
      "Number of tuples in A: 3248\n",
      "Number of tuples in B: 3244\n",
      "Number of tuples in A X B (i.e the cartesian product): 10536512\n"
     ]
    }
   ],
   "source": [
    "print('Number of tuples in A: ' + str(len(A)))\n",
    "print('Number of tuples in B: ' + str(len(B)))\n",
    "print('Number of tuples in A X B (i.e the cartesian product): ' + str(len(A)*len(B)))"
   ]
  },
  {
   "cell_type": "code",
   "execution_count": 80,
   "metadata": {
    "collapsed": false
   },
   "outputs": [
    {
     "data": {
      "text/html": [
       "<div>\n",
       "<table border=\"1\" class=\"dataframe\">\n",
       "  <thead>\n",
       "    <tr style=\"text-align: right;\">\n",
       "      <th></th>\n",
       "      <th>number_of_reviews</th>\n",
       "      <th>price_range</th>\n",
       "      <th>ratingValue</th>\n",
       "      <th>name</th>\n",
       "      <th>address</th>\n",
       "      <th>ID</th>\n",
       "    </tr>\n",
       "  </thead>\n",
       "  <tbody>\n",
       "    <tr>\n",
       "      <th>0</th>\n",
       "      <td>125</td>\n",
       "      <td>$11-30</td>\n",
       "      <td>5.0</td>\n",
       "      <td>DEE DEE</td>\n",
       "      <td>1906 E Cesar Chavez St Austin TX 78702</td>\n",
       "      <td>0</td>\n",
       "    </tr>\n",
       "    <tr>\n",
       "      <th>1</th>\n",
       "      <td>1041</td>\n",
       "      <td>Above $61</td>\n",
       "      <td>4.0</td>\n",
       "      <td>Canlis</td>\n",
       "      <td>2576 Aurora Ave N Seattle WA 98109</td>\n",
       "      <td>1</td>\n",
       "    </tr>\n",
       "  </tbody>\n",
       "</table>\n",
       "</div>"
      ],
      "text/plain": [
       "   number_of_reviews price_range  ratingValue     name  \\\n",
       "0                125      $11-30          5.0  DEE DEE   \n",
       "1               1041   Above $61          4.0   Canlis   \n",
       "\n",
       "                                  address  ID  \n",
       "0  1906 E Cesar Chavez St Austin TX 78702   0  \n",
       "1      2576 Aurora Ave N Seattle WA 98109   1  "
      ]
     },
     "execution_count": 80,
     "metadata": {},
     "output_type": "execute_result"
    }
   ],
   "source": [
    "## Sample tuples in A ( yelp_list )\n",
    "A.head(2)"
   ]
  },
  {
   "cell_type": "code",
   "execution_count": 81,
   "metadata": {
    "collapsed": false
   },
   "outputs": [
    {
     "data": {
      "text/html": [
       "<div>\n",
       "<table border=\"1\" class=\"dataframe\">\n",
       "  <thead>\n",
       "    <tr style=\"text-align: right;\">\n",
       "      <th></th>\n",
       "      <th>number_of_reviews</th>\n",
       "      <th>price_range</th>\n",
       "      <th>ratingValue</th>\n",
       "      <th>name</th>\n",
       "      <th>address</th>\n",
       "      <th>ID</th>\n",
       "    </tr>\n",
       "  </thead>\n",
       "  <tbody>\n",
       "    <tr>\n",
       "      <th>0</th>\n",
       "      <td>24 reviews</td>\n",
       "      <td>$20</td>\n",
       "      <td>4.6</td>\n",
       "      <td>La Victoria Taqueria</td>\n",
       "      <td>140 East San Carlos Street, San Jose, CA 95112</td>\n",
       "      <td>0</td>\n",
       "    </tr>\n",
       "    <tr>\n",
       "      <th>1</th>\n",
       "      <td>19 reviews</td>\n",
       "      <td>$40</td>\n",
       "      <td>4.6</td>\n",
       "      <td>The Counter</td>\n",
       "      <td>Santana Row, 3055 Olin Avenue, Suite 1035, San Jose, CA 95128</td>\n",
       "      <td>1</td>\n",
       "    </tr>\n",
       "  </tbody>\n",
       "</table>\n",
       "</div>"
      ],
      "text/plain": [
       "  number_of_reviews price_range ratingValue                  name  \\\n",
       "0        24 reviews         $20         4.6  La Victoria Taqueria   \n",
       "1        19 reviews         $40         4.6           The Counter   \n",
       "\n",
       "                                                         address  ID  \n",
       "0                 140 East San Carlos Street, San Jose, CA 95112   0  \n",
       "1  Santana Row, 3055 Olin Avenue, Suite 1035, San Jose, CA 95128   1  "
      ]
     },
     "execution_count": 81,
     "metadata": {},
     "output_type": "execute_result"
    }
   ],
   "source": [
    "## Sample tuples in B (zomato_list)\n",
    "B.head(2)"
   ]
  },
  {
   "cell_type": "code",
   "execution_count": 82,
   "metadata": {
    "collapsed": false
   },
   "outputs": [
    {
     "data": {
      "text/plain": [
       "('ID', 'ID')"
      ]
     },
     "execution_count": 82,
     "metadata": {},
     "output_type": "execute_result"
    }
   ],
   "source": [
    "# Display the keys of the input tables\n",
    "em.get_key(A), em.get_key(B)"
   ]
  },
  {
   "cell_type": "markdown",
   "metadata": {},
   "source": [
    "<h1> Data Cleaning "
   ]
  },
  {
   "cell_type": "markdown",
   "metadata": {},
   "source": [
    "Some attributes of the table are cleaned for easier comparison. \n",
    "Examples : \n",
    "    * Price Range of yelp list is converted into a number (as it is in zomato)\n",
    "    * If the word \"restaurant\" appears as a last word in the restaurant name, it is removed."
   ]
  },
  {
   "cell_type": "code",
   "execution_count": 83,
   "metadata": {
    "collapsed": false,
    "deletable": true,
    "editable": true
   },
   "outputs": [],
   "source": [
    "##Data Cleaning1: Converting  price range to an absolute number. Will be applied for yelp list \n",
    "\n",
    "\n",
    "def clean_price_range( price_str ):\n",
    "\n",
    "    avg_price = ''\n",
    "    \n",
    "    if not isinstance(price_str,basestring)  and  math.isnan(price_str):\n",
    "        return price_str\n",
    "\n",
    "    str2 = price_str.replace('$','')\n",
    "        \n",
    "    if '-' in str2:\n",
    "        num_l = int(str2.split('-')[0])\n",
    "        num_r = int(str2.split('-')[1])\n",
    "        num_avg = (num_l+num_r)/2\n",
    "        avg_price = '$' + str(num_avg)\n",
    "\n",
    "    else:\n",
    "        str_word = str2.split()[0].lower()\n",
    "        num_price  = int(str2.split()[1])\n",
    "        \n",
    "        if str_word == 'above':\n",
    "            num_avg = int(num_price + num_price/2)\n",
    "            avg_price = '$' + str(num_avg)\n",
    "\n",
    "        else:\n",
    "            num_avg = num_price/2\n",
    "            avg_price = '$' + str(num_avg)\n",
    "            \n",
    "    return avg_price"
   ]
  },
  {
   "cell_type": "code",
   "execution_count": 84,
   "metadata": {
    "collapsed": true,
    "deletable": true,
    "editable": true
   },
   "outputs": [],
   "source": [
    "##Data Cleaning2: Removing \"reviews\" string from num_reviews column. Will be applied for zomato list\n",
    "\n",
    "\n",
    "def clean_num_reviews(review_string) :\n",
    "      return int(review_string.split()[0])"
   ]
  },
  {
   "cell_type": "code",
   "execution_count": 85,
   "metadata": {
    "collapsed": false,
    "deletable": true,
    "editable": true
   },
   "outputs": [],
   "source": [
    "##Data Cleaning3: Removing \"restaurant\" if it is the last word in restaurant name. to prevent inconsistentcy.\n",
    "## Will be applied for both lists\n",
    "\n",
    "\n",
    "def clean_name( name_str):\n",
    "\n",
    "    name_lower = name_str.lower()\n",
    "\n",
    "    name_2 = name_lower.split()[-1]\n",
    "    \n",
    "    if name_2 == 'restaurant':\n",
    "        name_lower = name_lower.replace('restaurant','')\n",
    "        \n",
    "    return name_lower"
   ]
  },
  {
   "cell_type": "code",
   "execution_count": 86,
   "metadata": {
    "collapsed": false,
    "deletable": true,
    "editable": true
   },
   "outputs": [],
   "source": [
    "##Data Cleaning4: Removing quotes and shortening some words in address.Will be applied for zomato list \n",
    "\n",
    "def clean_address( address ):\n",
    "    addr_2 = address.replace('\\\"','')\n",
    "    addr_3 = addr_2.replace(',','')\n",
    "    if \"Street\" in addr_3:\n",
    "        addr_3 = addr_3.replace('Street','St')\n",
    "    if \"Boulevard\" in addr_3:\n",
    "        addr_3 = addr_3.replace('Boulevard','Blvd')\n",
    "        \n",
    "    return addr_3"
   ]
  },
  {
   "cell_type": "code",
   "execution_count": 87,
   "metadata": {
    "collapsed": true,
    "deletable": true,
    "editable": true
   },
   "outputs": [],
   "source": [
    "## Data Cleaning5: Convert rating value into string type\n",
    "def clean_rating_value(ratingValue):\n",
    "    return str(ratingValue)"
   ]
  },
  {
   "cell_type": "code",
   "execution_count": 88,
   "metadata": {
    "collapsed": false,
    "deletable": true,
    "editable": true
   },
   "outputs": [],
   "source": [
    "## Apply Data Cleaning to tables\n",
    "\n",
    "A['price_range'] = A['price_range'].apply( clean_price_range )\n",
    "A['name'] = A['name'].apply( clean_name )\n",
    "A['ratingValue'] = A['ratingValue'].apply(clean_rating_value)\n",
    "\n",
    "\n",
    "\n",
    "B['name'] = B['name'].apply( clean_name )\n",
    "B['address'] = B['address'].apply( clean_address )\n",
    "B['number_of_reviews'] = B['number_of_reviews'].apply( clean_num_reviews )\n",
    "B['ratingValue'] = B['ratingValue'].apply(clean_rating_value)"
   ]
  },
  {
   "cell_type": "markdown",
   "metadata": {},
   "source": [
    "<h1> Block tables to get candidate set"
   ]
  },
  {
   "cell_type": "markdown",
   "metadata": {},
   "source": [
    "Before we do the matching, we would like to remove the obviously non-matching tuple pairs from the input tables. \n",
    "This would reduce the number of tuple pairs considered for matching\n",
    "\n",
    "We have first used a blackbox based blocker which looks at zipcode equivalence to obtain candidate sets.\n",
    "Further these candidate sets are pruned based on name similarity.\n",
    "\n",
    "We use the entitymatching get_features routine to automatically generate features and choose the relevant ones \n",
    "for blocking.\n"
   ]
  },
  {
   "cell_type": "code",
   "execution_count": 90,
   "metadata": {
    "collapsed": false,
    "deletable": true,
    "editable": true
   },
   "outputs": [],
   "source": [
    "# Get features for blocking\n",
    "\n",
    "block_f = em.get_features_for_blocking(A,B)"
   ]
  },
  {
   "cell_type": "code",
   "execution_count": 91,
   "metadata": {
    "collapsed": false,
    "deletable": true,
    "editable": true
   },
   "outputs": [
    {
     "data": {
      "text/plain": [
       "0          number_of_reviews_number_of_reviews_exm\n",
       "1          number_of_reviews_number_of_reviews_anm\n",
       "2     number_of_reviews_number_of_reviews_lev_dist\n",
       "3      number_of_reviews_number_of_reviews_lev_sim\n",
       "4                 price_range_price_range_lev_dist\n",
       "5                  price_range_price_range_lev_sim\n",
       "6                      price_range_price_range_jar\n",
       "7                      price_range_price_range_jwn\n",
       "8                      price_range_price_range_exm\n",
       "9          price_range_price_range_jac_qgm_3_qgm_3\n",
       "10                ratingValue_ratingValue_lev_dist\n",
       "11                 ratingValue_ratingValue_lev_sim\n",
       "12                     ratingValue_ratingValue_jar\n",
       "13                     ratingValue_ratingValue_jwn\n",
       "14                     ratingValue_ratingValue_exm\n",
       "15         ratingValue_ratingValue_jac_qgm_3_qgm_3\n",
       "16                       name_name_jac_qgm_3_qgm_3\n",
       "17                   name_name_cos_dlm_dc0_dlm_dc0\n",
       "18                   name_name_jac_dlm_dc0_dlm_dc0\n",
       "19                                   name_name_mel\n",
       "20                              name_name_lev_dist\n",
       "21                               name_name_lev_sim\n",
       "22                                   name_name_nmw\n",
       "23                                    name_name_sw\n",
       "24                 address_address_jac_qgm_3_qgm_3\n",
       "25             address_address_cos_dlm_dc0_dlm_dc0\n",
       "26                             address_address_mel\n",
       "27                        address_address_lev_dist\n",
       "28                         address_address_lev_sim\n",
       "29                                       ID_ID_exm\n",
       "30                                       ID_ID_anm\n",
       "31                                  ID_ID_lev_dist\n",
       "32                                   ID_ID_lev_sim\n",
       "Name: feature_name, dtype: object"
      ]
     },
     "execution_count": 91,
     "metadata": {},
     "output_type": "execute_result"
    }
   ],
   "source": [
    "# List the names of the features generated\n",
    "block_f['feature_name']"
   ]
  },
  {
   "cell_type": "code",
   "execution_count": 92,
   "metadata": {
    "collapsed": true
   },
   "outputs": [],
   "source": [
    "## Routine to block based on zipcode equivalence\n",
    "\n",
    "def zipcode_match(x, y):\n",
    "    # x, y will be of type pandas series\n",
    "    \n",
    "    # get address attribute\n",
    "    x_address = x['address']\n",
    "    y_address = y['address']\n",
    "    \n",
    "    # get the zipcode\n",
    "    x_split, y_split = x_address.split(), y_address.split()\n",
    "    x_zipcode = x_split[len(x_split) - 1]\n",
    "    y_zipcode = y_split[len(y_split) - 1]\n",
    "    \n",
    "    # check if the zipcode match\n",
    "    if x_zipcode != y_zipcode:\n",
    "        return True\n",
    "    else:\n",
    "        return False"
   ]
  },
  {
   "cell_type": "code",
   "execution_count": 93,
   "metadata": {
    "collapsed": true
   },
   "outputs": [],
   "source": [
    "## Instantiate blackbox blocker\n",
    "bb = em.BlackBoxBlocker()\n",
    "\n",
    "## Set the black box function\n",
    "bb.set_black_box_function(zipcode_match)"
   ]
  },
  {
   "cell_type": "code",
   "execution_count": 94,
   "metadata": {
    "collapsed": false
   },
   "outputs": [
    {
     "data": {
      "text/plain": [
       "'_rule_0'"
      ]
     },
     "execution_count": 94,
     "metadata": {},
     "output_type": "execute_result"
    }
   ],
   "source": [
    "##Rule based on restaurant name similarity\n",
    "rb1 = em.RuleBasedBlocker()\n",
    "rule1 = 'name_name_lev_sim(ltuple,rtuple) < 0.60'\n",
    "rb1.add_rule(rule1, block_f )"
   ]
  },
  {
   "cell_type": "code",
   "execution_count": 95,
   "metadata": {
    "collapsed": false
   },
   "outputs": [
    {
     "name": "stderr",
     "output_type": "stream",
     "text": [
      "0%                          100%\n",
      "[##############################] | ETA: 00:03:54 | ETA: 00:03:40 | ETA: 00:03:29 | ETA: 00:03:25 | ETA: 00:03:13 | ETA: 00:03:04 | ETA: 00:02:59 | ETA: 00:02:56 | ETA: 00:02:52 | ETA: 00:02:44 | ETA: 00:02:36 | ETA: 00:02:26 | ETA: 00:02:17 | ETA: 00:02:09 | ETA: 00:02:00 | ETA: 00:01:51 | ETA: 00:01:43 | ETA: 00:01:35 | ETA: 00:01:26 | ETA: 00:01:18 | ETA: 00:01:10 | ETA: 00:01:02 | ETA: 00:00:54 | ETA: 00:00:46 | ETA: 00:00:39 | ETA: 00:00:31 | ETA: 00:00:23 | ETA: 00:00:15 | ETA: 00:00:07 | ETA: 00:00:00 | ETA: 00:00:00\n",
      "Total time elapsed: 00:03:42\n",
      "0%                          100%\n",
      "[                              ]0%                          100%\n",
      "[##############################] | ETA: 00:00:13 | ETA: 00:00:10 | ETA: 00:00:09 | ETA: 00:00:08 | ETA: 00:00:08 | ETA: 00:00:07 | ETA: 00:00:07 | ETA: 00:00:06 | ETA: 00:00:06 | ETA: 00:00:05 | ETA: 00:00:05 | ETA: 00:00:04 | ETA: 00:00:04 | ETA: 00:00:04 | ETA: 00:00:03 | ETA: 00:00:03 | ETA: 00:00:03 | ETA: 00:00:02 | ETA: 00:00:02 | ETA: 00:00:02 | ETA: 00:00:02 | ETA: 00:00:01 | ETA: 00:00:01 | ETA: 00:00:01 | ETA: 00:00:01 | ETA: 00:00:00 | ETA: 00:00:00 | ETA: 00:00:00 | ETA: 00:00:00 | ETA: 00:00:00 | ETA: 00:00:00\n",
      "Total time elapsed: 00:00:05\n"
     ]
    }
   ],
   "source": [
    "## Blocking Pipeline- First block based on zip code then block based on name similarity##\n",
    "\n",
    "C1 = bb.block_tables(A,B,l_output_attrs=['ID','name','address','ratingValue','price_range','number_of_reviews'],r_output_attrs=['ID','name','address','ratingValue','price_range','number_of_reviews'],n_jobs=-1)\n",
    "\n",
    "C2 = rb1.block_candset(C1,n_jobs=-1)"
   ]
  },
  {
   "cell_type": "code",
   "execution_count": 96,
   "metadata": {
    "collapsed": false
   },
   "outputs": [
    {
     "data": {
      "text/plain": [
       "953"
      ]
     },
     "execution_count": 96,
     "metadata": {},
     "output_type": "execute_result"
    }
   ],
   "source": [
    "## Number of tuple pairs in C2\n",
    "len(C2)"
   ]
  },
  {
   "cell_type": "markdown",
   "metadata": {},
   "source": [
    "<h1> Debug Blocker Output\n"
   ]
  },
  {
   "cell_type": "markdown",
   "metadata": {},
   "source": [
    "The number of tuple pairs considered for matching is reduced to  (from 10536512 to 953), \n",
    "but we would want to make sure that the blocker did not drop any potential matches.\n",
    "We could debug the blocker output in py_entitymatching as follows:"
   ]
  },
  {
   "cell_type": "code",
   "execution_count": 97,
   "metadata": {
    "collapsed": true
   },
   "outputs": [],
   "source": [
    "# Debug blocker output\n",
    "dbg = em.debug_blocker(C2, A, B, output_size=200)"
   ]
  },
  {
   "cell_type": "code",
   "execution_count": 98,
   "metadata": {
    "collapsed": false
   },
   "outputs": [
    {
     "data": {
      "text/html": [
       "<div>\n",
       "<table border=\"1\" class=\"dataframe\">\n",
       "  <thead>\n",
       "    <tr style=\"text-align: right;\">\n",
       "      <th></th>\n",
       "      <th>_id</th>\n",
       "      <th>similarity</th>\n",
       "      <th>ltable_ID</th>\n",
       "      <th>rtable_ID</th>\n",
       "      <th>ltable_price_range</th>\n",
       "      <th>ltable_ratingValue</th>\n",
       "      <th>ltable_name</th>\n",
       "      <th>ltable_address</th>\n",
       "      <th>rtable_price_range</th>\n",
       "      <th>rtable_ratingValue</th>\n",
       "      <th>rtable_name</th>\n",
       "      <th>rtable_address</th>\n",
       "    </tr>\n",
       "  </thead>\n",
       "  <tbody>\n",
       "    <tr>\n",
       "      <th>0</th>\n",
       "      <td>0</td>\n",
       "      <td>0.909091</td>\n",
       "      <td>574</td>\n",
       "      <td>2514</td>\n",
       "      <td>$20</td>\n",
       "      <td>4.0</td>\n",
       "      <td>westville chelsea</td>\n",
       "      <td>246 W 18th St New York NY 10011</td>\n",
       "      <td>$60</td>\n",
       "      <td>4.0</td>\n",
       "      <td>westville</td>\n",
       "      <td>246 W 18th St New York NY 10011</td>\n",
       "    </tr>\n",
       "    <tr>\n",
       "      <th>1</th>\n",
       "      <td>1</td>\n",
       "      <td>0.800000</td>\n",
       "      <td>972</td>\n",
       "      <td>595</td>\n",
       "      <td>$20</td>\n",
       "      <td>3.5</td>\n",
       "      <td>la pastaia</td>\n",
       "      <td>233 W Santa Clara St San Jose CA 95113</td>\n",
       "      <td>$80</td>\n",
       "      <td>3.5</td>\n",
       "      <td>la pastaia kitchen + bar</td>\n",
       "      <td>233 W Santa Clara St San Jose CA 95113</td>\n",
       "    </tr>\n",
       "    <tr>\n",
       "      <th>2</th>\n",
       "      <td>2</td>\n",
       "      <td>0.769231</td>\n",
       "      <td>1191</td>\n",
       "      <td>2861</td>\n",
       "      <td>$20</td>\n",
       "      <td>3.5</td>\n",
       "      <td>joey kitchen</td>\n",
       "      <td>University Village 2603 NE 46th St Seattle WA 98105</td>\n",
       "      <td>$40</td>\n",
       "      <td>3.2</td>\n",
       "      <td>joey</td>\n",
       "      <td>University Village 2603 NE 46th St Seattle WA 98105</td>\n",
       "    </tr>\n",
       "    <tr>\n",
       "      <th>3</th>\n",
       "      <td>3</td>\n",
       "      <td>0.769231</td>\n",
       "      <td>801</td>\n",
       "      <td>741</td>\n",
       "      <td>$20</td>\n",
       "      <td>4.0</td>\n",
       "      <td>fuji sushi</td>\n",
       "      <td>56 W Santa Clara St San Jose CA 95113</td>\n",
       "      <td>$35</td>\n",
       "      <td>3.4</td>\n",
       "      <td>fuji</td>\n",
       "      <td>56 W Santa Clara St San Jose CA 95113</td>\n",
       "    </tr>\n",
       "    <tr>\n",
       "      <th>4</th>\n",
       "      <td>4</td>\n",
       "      <td>0.769231</td>\n",
       "      <td>1084</td>\n",
       "      <td>956</td>\n",
       "      <td>$20</td>\n",
       "      <td>4.0</td>\n",
       "      <td>mudai ethiopian</td>\n",
       "      <td>503 W San Carlos St San Jose CA 95126</td>\n",
       "      <td>$40</td>\n",
       "      <td>3.5</td>\n",
       "      <td>mudai</td>\n",
       "      <td>503 W San Carlos St San Jose CA 95126</td>\n",
       "    </tr>\n",
       "  </tbody>\n",
       "</table>\n",
       "</div>"
      ],
      "text/plain": [
       "   _id  similarity  ltable_ID  rtable_ID ltable_price_range  \\\n",
       "0    0    0.909091        574       2514                $20   \n",
       "1    1    0.800000        972        595                $20   \n",
       "2    2    0.769231       1191       2861                $20   \n",
       "3    3    0.769231        801        741                $20   \n",
       "4    4    0.769231       1084        956                $20   \n",
       "\n",
       "  ltable_ratingValue        ltable_name  \\\n",
       "0                4.0  westville chelsea   \n",
       "1                3.5         la pastaia   \n",
       "2                3.5       joey kitchen   \n",
       "3                4.0         fuji sushi   \n",
       "4                4.0   mudai ethiopian    \n",
       "\n",
       "                                        ltable_address rtable_price_range  \\\n",
       "0                      246 W 18th St New York NY 10011                $60   \n",
       "1               233 W Santa Clara St San Jose CA 95113                $80   \n",
       "2  University Village 2603 NE 46th St Seattle WA 98105                $40   \n",
       "3                56 W Santa Clara St San Jose CA 95113                $35   \n",
       "4                503 W San Carlos St San Jose CA 95126                $40   \n",
       "\n",
       "  rtable_ratingValue               rtable_name  \\\n",
       "0                4.0                 westville   \n",
       "1                3.5  la pastaia kitchen + bar   \n",
       "2                3.2                      joey   \n",
       "3                3.4                      fuji   \n",
       "4                3.5                     mudai   \n",
       "\n",
       "                                        rtable_address  \n",
       "0                      246 W 18th St New York NY 10011  \n",
       "1               233 W Santa Clara St San Jose CA 95113  \n",
       "2  University Village 2603 NE 46th St Seattle WA 98105  \n",
       "3                56 W Santa Clara St San Jose CA 95113  \n",
       "4                503 W San Carlos St San Jose CA 95126  "
      ]
     },
     "execution_count": 98,
     "metadata": {},
     "output_type": "execute_result"
    }
   ],
   "source": [
    "# Display first few tuple pairs from the debug_blocker's output\n",
    "dbg.head()"
   ]
  },
  {
   "cell_type": "markdown",
   "metadata": {
    "collapsed": true,
    "deletable": true,
    "editable": true
   },
   "source": [
    "From the debug blocker's output we observe that the current blocker drops quite a few potential matches. \n",
    "We would want to update the blocking sequence to avoid dropping these potential matches.\n",
    "\n",
    "For the considered dataset, we know that for the restaurants to match, the address should be similar.\n",
    "We could use rule based blocker with address similarity for this purpose.\n",
    "Finally, we would want to union the outputs from the name similarity blocker and the address blocker to get a consolidated candidate set.\n"
   ]
  },
  {
   "cell_type": "code",
   "execution_count": 99,
   "metadata": {
    "collapsed": false,
    "deletable": true,
    "editable": true
   },
   "outputs": [
    {
     "data": {
      "text/plain": [
       "'_rule_0'"
      ]
     },
     "execution_count": 99,
     "metadata": {},
     "output_type": "execute_result"
    }
   ],
   "source": [
    "##Rule based on address similarity\n",
    "rb2 = em.RuleBasedBlocker()\n",
    "rule2 = 'address_address_jac_qgm_3_qgm_3(ltuple,rtuple) < 0.8'\n",
    "rb2.add_rule(rule2,block_f)"
   ]
  },
  {
   "cell_type": "code",
   "execution_count": 100,
   "metadata": {
    "collapsed": false,
    "deletable": true,
    "editable": true
   },
   "outputs": [
    {
     "name": "stderr",
     "output_type": "stream",
     "text": [
      "0%                          100%\n",
      "[                              ]0%                          100%\n",
      "[##############################] | ETA: 00:00:19 | ETA: 00:00:18 | ETA: 00:00:15 | ETA: 00:00:14 | ETA: 00:00:14 | ETA: 00:00:13 | ETA: 00:00:12 | ETA: 00:00:11 | ETA: 00:00:10 | ETA: 00:00:09 | ETA: 00:00:09 | ETA: 00:00:08 | ETA: 00:00:07 | ETA: 00:00:07 | ETA: 00:00:06 | ETA: 00:00:06 | ETA: 00:00:05 | ETA: 00:00:05 | ETA: 00:00:04 | ETA: 00:00:04 | ETA: 00:00:03 | ETA: 00:00:03 | ETA: 00:00:03 | ETA: 00:00:02 | ETA: 00:00:02 | ETA: 00:00:01 | ETA: 00:00:01 | ETA: 00:00:00 | ETA: 00:00:00 | ETA: 00:00:00 | ETA: 00:00:00\n",
      "Total time elapsed: 00:00:12\n"
     ]
    },
    {
     "data": {
      "text/plain": [
       "1636"
      ]
     },
     "execution_count": 100,
     "metadata": {},
     "output_type": "execute_result"
    }
   ],
   "source": [
    "###Address based blocker###\n",
    "C3 = rb2.block_candset(C1,n_jobs=-1)\n",
    "\n",
    "len(C3)"
   ]
  },
  {
   "cell_type": "code",
   "execution_count": 71,
   "metadata": {
    "collapsed": false
   },
   "outputs": [
    {
     "data": {
      "text/html": [
       "<div>\n",
       "<table border=\"1\" class=\"dataframe\">\n",
       "  <thead>\n",
       "    <tr style=\"text-align: right;\">\n",
       "      <th></th>\n",
       "      <th>_id</th>\n",
       "      <th>ltable_ID</th>\n",
       "      <th>rtable_ID</th>\n",
       "      <th>ltable_name</th>\n",
       "      <th>ltable_address</th>\n",
       "      <th>ltable_ratingValue</th>\n",
       "      <th>ltable_price_range</th>\n",
       "      <th>ltable_number_of_reviews</th>\n",
       "      <th>rtable_name</th>\n",
       "      <th>rtable_address</th>\n",
       "      <th>rtable_ratingValue</th>\n",
       "      <th>rtable_price_range</th>\n",
       "      <th>rtable_number_of_reviews</th>\n",
       "    </tr>\n",
       "  </thead>\n",
       "  <tbody>\n",
       "    <tr>\n",
       "      <th>0</th>\n",
       "      <td>0</td>\n",
       "      <td>0</td>\n",
       "      <td>29</td>\n",
       "      <td>dee dee</td>\n",
       "      <td>1906 E Cesar Chavez St Austin TX 78702</td>\n",
       "      <td>5.0</td>\n",
       "      <td>$20</td>\n",
       "      <td>125</td>\n",
       "      <td>la barbecue</td>\n",
       "      <td>1906 E Cesar Chavez St Austin TX 78702</td>\n",
       "      <td>4.0</td>\n",
       "      <td>$40</td>\n",
       "      <td>38</td>\n",
       "    </tr>\n",
       "    <tr>\n",
       "      <th>162</th>\n",
       "      <td>162</td>\n",
       "      <td>6</td>\n",
       "      <td>1009</td>\n",
       "      <td>list</td>\n",
       "      <td>2226 1st Ave Seattle WA 98121</td>\n",
       "      <td>4.5</td>\n",
       "      <td>$20</td>\n",
       "      <td>1210</td>\n",
       "      <td>list</td>\n",
       "      <td>2226 1st Avenue Seattle WA 98121</td>\n",
       "      <td>4.1</td>\n",
       "      <td>$45</td>\n",
       "      <td>32</td>\n",
       "    </tr>\n",
       "  </tbody>\n",
       "</table>\n",
       "</div>"
      ],
      "text/plain": [
       "     _id  ltable_ID  rtable_ID ltable_name  \\\n",
       "0      0          0         29     dee dee   \n",
       "162  162          6       1009        list   \n",
       "\n",
       "                             ltable_address ltable_ratingValue  \\\n",
       "0    1906 E Cesar Chavez St Austin TX 78702                5.0   \n",
       "162           2226 1st Ave Seattle WA 98121                4.5   \n",
       "\n",
       "    ltable_price_range  ltable_number_of_reviews  rtable_name  \\\n",
       "0                  $20                       125  la barbecue   \n",
       "162                $20                      1210         list   \n",
       "\n",
       "                             rtable_address rtable_ratingValue  \\\n",
       "0    1906 E Cesar Chavez St Austin TX 78702                4.0   \n",
       "162        2226 1st Avenue Seattle WA 98121                4.1   \n",
       "\n",
       "    rtable_price_range  rtable_number_of_reviews  \n",
       "0                  $40                        38  \n",
       "162                $45                        32  "
      ]
     },
     "execution_count": 71,
     "metadata": {},
     "output_type": "execute_result"
    }
   ],
   "source": [
    "## Display first two rows of C3\n",
    "C3.head(2)"
   ]
  },
  {
   "cell_type": "code",
   "execution_count": 101,
   "metadata": {
    "collapsed": true,
    "deletable": true,
    "editable": true
   },
   "outputs": [],
   "source": [
    "## Combine blocker outputs\n",
    "C4 = em.combine_blocker_outputs_via_union([C2, C3])"
   ]
  },
  {
   "cell_type": "code",
   "execution_count": 102,
   "metadata": {
    "collapsed": false
   },
   "outputs": [
    {
     "data": {
      "text/plain": [
       "2048"
      ]
     },
     "execution_count": 102,
     "metadata": {},
     "output_type": "execute_result"
    }
   ],
   "source": [
    "len(C4)"
   ]
  },
  {
   "cell_type": "markdown",
   "metadata": {},
   "source": [
    "We observe that the number of tuple pairs considered for matching is increased to 2048 (from 953). \n",
    "Now let us debug the blocker output again to check if the current blocker sequence is dropping any potential matches."
   ]
  },
  {
   "cell_type": "code",
   "execution_count": 103,
   "metadata": {
    "collapsed": false,
    "deletable": true,
    "editable": true,
    "scrolled": true
   },
   "outputs": [],
   "source": [
    "# Debug again\n",
    "dbg = em.debug_blocker(C4, A, B)"
   ]
  },
  {
   "cell_type": "code",
   "execution_count": 104,
   "metadata": {
    "collapsed": false
   },
   "outputs": [
    {
     "data": {
      "text/html": [
       "<div>\n",
       "<table border=\"1\" class=\"dataframe\">\n",
       "  <thead>\n",
       "    <tr style=\"text-align: right;\">\n",
       "      <th></th>\n",
       "      <th>_id</th>\n",
       "      <th>similarity</th>\n",
       "      <th>ltable_ID</th>\n",
       "      <th>rtable_ID</th>\n",
       "      <th>ltable_price_range</th>\n",
       "      <th>ltable_ratingValue</th>\n",
       "      <th>ltable_name</th>\n",
       "      <th>ltable_address</th>\n",
       "      <th>rtable_price_range</th>\n",
       "      <th>rtable_ratingValue</th>\n",
       "      <th>rtable_name</th>\n",
       "      <th>rtable_address</th>\n",
       "    </tr>\n",
       "  </thead>\n",
       "  <tbody>\n",
       "    <tr>\n",
       "      <th>0</th>\n",
       "      <td>0</td>\n",
       "      <td>0.666667</td>\n",
       "      <td>2876</td>\n",
       "      <td>461</td>\n",
       "      <td>$45</td>\n",
       "      <td>4.0</td>\n",
       "      <td>raymi</td>\n",
       "      <td>43 W 24th St New York NY 10010</td>\n",
       "      <td>$150</td>\n",
       "      <td>4.0</td>\n",
       "      <td>junoon</td>\n",
       "      <td>27 W 24th St New York NY 10010</td>\n",
       "    </tr>\n",
       "    <tr>\n",
       "      <th>1</th>\n",
       "      <td>1</td>\n",
       "      <td>0.666667</td>\n",
       "      <td>1679</td>\n",
       "      <td>851</td>\n",
       "      <td>$20</td>\n",
       "      <td>4.0</td>\n",
       "      <td>galaxy cafe</td>\n",
       "      <td>1000 W Lynn St Austin TX 78703</td>\n",
       "      <td>$40</td>\n",
       "      <td>4.0</td>\n",
       "      <td>zocalo cafe</td>\n",
       "      <td>1110 W Lynn St Austin TX 78703</td>\n",
       "    </tr>\n",
       "    <tr>\n",
       "      <th>2</th>\n",
       "      <td>2</td>\n",
       "      <td>0.666667</td>\n",
       "      <td>604</td>\n",
       "      <td>2218</td>\n",
       "      <td>$20</td>\n",
       "      <td>4.0</td>\n",
       "      <td>cafe habana</td>\n",
       "      <td>17 Prince St New York NY 10012</td>\n",
       "      <td>$55</td>\n",
       "      <td>4.0</td>\n",
       "      <td>fanelli's cafe</td>\n",
       "      <td>94 Prince St New York NY 10012</td>\n",
       "    </tr>\n",
       "  </tbody>\n",
       "</table>\n",
       "</div>"
      ],
      "text/plain": [
       "   _id  similarity  ltable_ID  rtable_ID ltable_price_range  \\\n",
       "0    0    0.666667       2876        461                $45   \n",
       "1    1    0.666667       1679        851                $20   \n",
       "2    2    0.666667        604       2218                $20   \n",
       "\n",
       "  ltable_ratingValue  ltable_name                  ltable_address  \\\n",
       "0                4.0        raymi  43 W 24th St New York NY 10010   \n",
       "1                4.0  galaxy cafe  1000 W Lynn St Austin TX 78703   \n",
       "2                4.0  cafe habana  17 Prince St New York NY 10012   \n",
       "\n",
       "  rtable_price_range rtable_ratingValue     rtable_name  \\\n",
       "0               $150                4.0          junoon   \n",
       "1                $40                4.0     zocalo cafe   \n",
       "2                $55                4.0  fanelli's cafe   \n",
       "\n",
       "                   rtable_address  \n",
       "0  27 W 24th St New York NY 10010  \n",
       "1  1110 W Lynn St Austin TX 78703  \n",
       "2  94 Prince St New York NY 10012  "
      ]
     },
     "execution_count": 104,
     "metadata": {},
     "output_type": "execute_result"
    }
   ],
   "source": [
    "# Display first few rows from the debugger output\n",
    "dbg.head(3)"
   ]
  },
  {
   "cell_type": "markdown",
   "metadata": {},
   "source": [
    "We observe that the current blocker sequence does not drop obvious potential matches, and we can proceed with the matching step now. "
   ]
  },
  {
   "cell_type": "markdown",
   "metadata": {},
   "source": [
    "<h1>  Matching tuple pairs in the candidate set"
   ]
  },
  {
   "cell_type": "markdown",
   "metadata": {},
   "source": [
    "\n",
    "\n",
    "In this step, we would want to match the tuple pairs in the candidate set. Specifically, we use learning-based method for matching purposes. This typically involves the following five steps:\n",
    "\n",
    "* Sampling and labeling the candidate set\n",
    "* Splitting the labeled data into development and evaluation set\n",
    "* Selecting the best learning based matcher using the development set\n",
    "* Evaluating the selected matcher using the evaluation set\n",
    "\n"
   ]
  },
  {
   "cell_type": "markdown",
   "metadata": {},
   "source": [
    "<h1> Sampling and labeling the candidate set"
   ]
  },
  {
   "cell_type": "markdown",
   "metadata": {},
   "source": [
    "First, we randomly sample 350 tuple pairs for labeling purposes."
   ]
  },
  {
   "cell_type": "code",
   "execution_count": 105,
   "metadata": {
    "collapsed": false,
    "deletable": true,
    "editable": true
   },
   "outputs": [],
   "source": [
    "##Sample candidate set\n",
    "S = em.sample_table(C4, 350)"
   ]
  },
  {
   "cell_type": "code",
   "execution_count": 23,
   "metadata": {
    "collapsed": false,
    "deletable": true,
    "editable": true
   },
   "outputs": [
    {
     "name": "stderr",
     "output_type": "stream",
     "text": [
      "WARNING:py_entitymatching.utils.catalog_helper:Column name (gold_labels) is not present in dataframe\n"
     ]
    }
   ],
   "source": [
    "##Label S \n",
    "G = em.label_table(S, 'gold_labels')"
   ]
  },
  {
   "cell_type": "markdown",
   "metadata": {},
   "source": [
    "Load labeled data fom previous session"
   ]
  },
  {
   "cell_type": "code",
   "execution_count": 105,
   "metadata": {
    "collapsed": false,
    "deletable": true,
    "editable": true
   },
   "outputs": [
    {
     "data": {
      "text/plain": [
       "350"
      ]
     },
     "execution_count": 105,
     "metadata": {},
     "output_type": "execute_result"
    }
   ],
   "source": [
    "G = em.load_object('./GoldenData.pkl')\n",
    "len(G)"
   ]
  },
  {
   "cell_type": "code",
   "execution_count": 106,
   "metadata": {
    "collapsed": false,
    "deletable": true,
    "editable": true
   },
   "outputs": [
    {
     "data": {
      "text/plain": [
       "True"
      ]
     },
     "execution_count": 106,
     "metadata": {},
     "output_type": "execute_result"
    }
   ],
   "source": [
    "## Loading G into em catalog\n",
    "\n",
    "em.set_fk_ltable(G, 'ltable_ID')\n",
    "em.set_fk_rtable(G, 'rtable_ID')\n",
    "em.set_key(G, '_id')\n",
    "em.set_ltable(G, A)\n",
    "em.set_rtable(G, B)"
   ]
  },
  {
   "cell_type": "code",
   "execution_count": 107,
   "metadata": {
    "collapsed": false
   },
   "outputs": [
    {
     "data": {
      "text/html": [
       "<div>\n",
       "<table border=\"1\" class=\"dataframe\">\n",
       "  <thead>\n",
       "    <tr style=\"text-align: right;\">\n",
       "      <th></th>\n",
       "      <th>_id</th>\n",
       "      <th>ltable_ID</th>\n",
       "      <th>rtable_ID</th>\n",
       "      <th>ltable_name</th>\n",
       "      <th>ltable_address</th>\n",
       "      <th>ltable_ratingValue</th>\n",
       "      <th>ltable_price_range</th>\n",
       "      <th>ltable_number_of_reviews</th>\n",
       "      <th>rtable_name</th>\n",
       "      <th>rtable_address</th>\n",
       "      <th>rtable_ratingValue</th>\n",
       "      <th>rtable_price_range</th>\n",
       "      <th>rtable_number_of_reviews</th>\n",
       "    </tr>\n",
       "    <tr>\n",
       "      <th>gold_labels</th>\n",
       "      <th></th>\n",
       "      <th></th>\n",
       "      <th></th>\n",
       "      <th></th>\n",
       "      <th></th>\n",
       "      <th></th>\n",
       "      <th></th>\n",
       "      <th></th>\n",
       "      <th></th>\n",
       "      <th></th>\n",
       "      <th></th>\n",
       "      <th></th>\n",
       "      <th></th>\n",
       "    </tr>\n",
       "  </thead>\n",
       "  <tbody>\n",
       "    <tr>\n",
       "      <th>0</th>\n",
       "      <td>179</td>\n",
       "      <td>179</td>\n",
       "      <td>179</td>\n",
       "      <td>179</td>\n",
       "      <td>179</td>\n",
       "      <td>179</td>\n",
       "      <td>179</td>\n",
       "      <td>179</td>\n",
       "      <td>179</td>\n",
       "      <td>179</td>\n",
       "      <td>179</td>\n",
       "      <td>179</td>\n",
       "      <td>179</td>\n",
       "    </tr>\n",
       "    <tr>\n",
       "      <th>1</th>\n",
       "      <td>171</td>\n",
       "      <td>171</td>\n",
       "      <td>171</td>\n",
       "      <td>171</td>\n",
       "      <td>171</td>\n",
       "      <td>171</td>\n",
       "      <td>171</td>\n",
       "      <td>171</td>\n",
       "      <td>171</td>\n",
       "      <td>171</td>\n",
       "      <td>171</td>\n",
       "      <td>171</td>\n",
       "      <td>171</td>\n",
       "    </tr>\n",
       "  </tbody>\n",
       "</table>\n",
       "</div>"
      ],
      "text/plain": [
       "             _id  ltable_ID  rtable_ID  ltable_name  ltable_address  \\\n",
       "gold_labels                                                           \n",
       "0            179        179        179          179             179   \n",
       "1            171        171        171          171             171   \n",
       "\n",
       "             ltable_ratingValue  ltable_price_range  ltable_number_of_reviews  \\\n",
       "gold_labels                                                                     \n",
       "0                           179                 179                       179   \n",
       "1                           171                 171                       171   \n",
       "\n",
       "             rtable_name  rtable_address  rtable_ratingValue  \\\n",
       "gold_labels                                                    \n",
       "0                    179             179                 179   \n",
       "1                    171             171                 171   \n",
       "\n",
       "             rtable_price_range  rtable_number_of_reviews  \n",
       "gold_labels                                                \n",
       "0                           179                       179  \n",
       "1                           171                       171  "
      ]
     },
     "execution_count": 107,
     "metadata": {},
     "output_type": "execute_result"
    }
   ],
   "source": [
    "## Find number of positive and negative examples \n",
    "G.groupby('gold_labels').count()"
   ]
  },
  {
   "cell_type": "markdown",
   "metadata": {},
   "source": [
    "<h1> Splitting the labeled data into development and evaluation set\n",
    "\n",
    "\n"
   ]
  },
  {
   "cell_type": "markdown",
   "metadata": {},
   "source": [
    "In this step, we split the labeled data into two sets: development (I) and evaluation (J). Specifically, the development set is used to come up with the best learning-based matcher and the evaluation set used to evaluate the selected matcher on unseen data."
   ]
  },
  {
   "cell_type": "code",
   "execution_count": 109,
   "metadata": {
    "collapsed": false,
    "deletable": true,
    "editable": true
   },
   "outputs": [],
   "source": [
    "# Split S into development set (I) and evaluation set (J)\n",
    "train_test = em.split_train_test(G, train_proportion=0.7)\n",
    "I = train_test['train']\n",
    "J = train_test['test']"
   ]
  },
  {
   "cell_type": "markdown",
   "metadata": {},
   "source": [
    "<h1>  Selecting the best learning-based matcher"
   ]
  },
  {
   "cell_type": "markdown",
   "metadata": {},
   "source": [
    "Selecting the best learning-based matcher typically involves the following steps:\n",
    "\n",
    "* Creating a set of learning-based matchers\n",
    "* Creating features\n",
    "* Converting the development set into feature vectors\n",
    "* Selecting the best learning-based matcher using k-fold cross validation\n"
   ]
  },
  {
   "cell_type": "markdown",
   "metadata": {},
   "source": [
    "Creating a set of learning-based matchers\n",
    "------------------"
   ]
  },
  {
   "cell_type": "code",
   "execution_count": 111,
   "metadata": {
    "collapsed": true
   },
   "outputs": [],
   "source": [
    "## Create a set of ML Matchers\n",
    "dt = em.DTMatcher()\n",
    "rf = em.RFMatcher()\n",
    "nb = em.NBMatcher()\n",
    "logreg = em.LogRegMatcher()\n",
    "linreg = em.LinRegMatcher()\n",
    "svm = em.SVMMatcher()"
   ]
  },
  {
   "cell_type": "markdown",
   "metadata": {},
   "source": [
    "Creating features\n",
    "------------------"
   ]
  },
  {
   "cell_type": "markdown",
   "metadata": {},
   "source": [
    "Next, we need to create a set of features for the development set. py_entitymatching provides a way to automatically generate features based on the attributes in the input tables. We drop the unwanted features from the feature table"
   ]
  },
  {
   "cell_type": "code",
   "execution_count": 113,
   "metadata": {
    "collapsed": false,
    "deletable": true,
    "editable": true
   },
   "outputs": [],
   "source": [
    "## Generate features\n",
    "match_f = em.get_features_for_matching(A, B)\n",
    "match_f.drop([13,14,15,16], inplace = True)"
   ]
  },
  {
   "cell_type": "code",
   "execution_count": 114,
   "metadata": {
    "collapsed": false
   },
   "outputs": [
    {
     "data": {
      "text/plain": [
       "0          number_of_reviews_number_of_reviews_exm\n",
       "1          number_of_reviews_number_of_reviews_anm\n",
       "2     number_of_reviews_number_of_reviews_lev_dist\n",
       "3      number_of_reviews_number_of_reviews_lev_sim\n",
       "4                 price_range_price_range_lev_dist\n",
       "5                  price_range_price_range_lev_sim\n",
       "6                      price_range_price_range_jar\n",
       "7                      price_range_price_range_jwn\n",
       "8                      price_range_price_range_exm\n",
       "9          price_range_price_range_jac_qgm_3_qgm_3\n",
       "10                ratingValue_ratingValue_lev_dist\n",
       "11                 ratingValue_ratingValue_lev_sim\n",
       "12                     ratingValue_ratingValue_jar\n",
       "17                   name_name_cos_dlm_dc0_dlm_dc0\n",
       "18                   name_name_jac_dlm_dc0_dlm_dc0\n",
       "19                                   name_name_mel\n",
       "20                              name_name_lev_dist\n",
       "21                               name_name_lev_sim\n",
       "22                                   name_name_nmw\n",
       "23                                    name_name_sw\n",
       "24                 address_address_jac_qgm_3_qgm_3\n",
       "25             address_address_cos_dlm_dc0_dlm_dc0\n",
       "26                             address_address_mel\n",
       "27                        address_address_lev_dist\n",
       "28                         address_address_lev_sim\n",
       "29                                       ID_ID_exm\n",
       "30                                       ID_ID_anm\n",
       "31                                  ID_ID_lev_dist\n",
       "32                                   ID_ID_lev_sim\n",
       "Name: feature_name, dtype: object"
      ]
     },
     "execution_count": 114,
     "metadata": {},
     "output_type": "execute_result"
    }
   ],
   "source": [
    "# List the names of the features generated\n",
    "match_f['feature_name']"
   ]
  },
  {
   "cell_type": "markdown",
   "metadata": {},
   "source": [
    "Converting the development set to feature vectors\n",
    "------------------"
   ]
  },
  {
   "cell_type": "code",
   "execution_count": 116,
   "metadata": {
    "collapsed": false,
    "deletable": true,
    "editable": true
   },
   "outputs": [
    {
     "name": "stderr",
     "output_type": "stream",
     "text": [
      "0%                          100%\n",
      "[##############################] | ETA: 00:00:01 | ETA: 00:00:00 | ETA: 00:00:00 | ETA: 00:00:00 | ETA: 00:00:00 | ETA: 00:00:00 | ETA: 00:00:00 | ETA: 00:00:00 | ETA: 00:00:00 | ETA: 00:00:00 | ETA: 00:00:00 | ETA: 00:00:00 | ETA: 00:00:00 | ETA: 00:00:00 | ETA: 00:00:00 | ETA: 00:00:00 | ETA: 00:00:00 | ETA: 00:00:00 | ETA: 00:00:00 | ETA: 00:00:00 | ETA: 00:00:00 | ETA: 00:00:00 | ETA: 00:00:00 | ETA: 00:00:00 | ETA: 00:00:00 | ETA: 00:00:00 | ETA: 00:00:00 | ETA: 00:00:00 | ETA: 00:00:00 | ETA: 00:00:00 | ETA: 00:00:00\n",
      "Total time elapsed: 00:00:01\n"
     ]
    }
   ],
   "source": [
    "# Convert the I into a set of feature vectors using F\n",
    "\n",
    "H = em.extract_feature_vecs(I, feature_table=match_f, attrs_after=['gold_labels'])"
   ]
  },
  {
   "cell_type": "code",
   "execution_count": 117,
   "metadata": {
    "collapsed": false,
    "deletable": true,
    "editable": true
   },
   "outputs": [
    {
     "data": {
      "text/html": [
       "<div>\n",
       "<table border=\"1\" class=\"dataframe\">\n",
       "  <thead>\n",
       "    <tr style=\"text-align: right;\">\n",
       "      <th></th>\n",
       "      <th>_id</th>\n",
       "      <th>ltable_ID</th>\n",
       "      <th>rtable_ID</th>\n",
       "      <th>number_of_reviews_number_of_reviews_exm</th>\n",
       "      <th>number_of_reviews_number_of_reviews_anm</th>\n",
       "      <th>number_of_reviews_number_of_reviews_lev_dist</th>\n",
       "      <th>number_of_reviews_number_of_reviews_lev_sim</th>\n",
       "      <th>price_range_price_range_lev_dist</th>\n",
       "      <th>price_range_price_range_lev_sim</th>\n",
       "      <th>price_range_price_range_jar</th>\n",
       "      <th>...</th>\n",
       "      <th>address_address_jac_qgm_3_qgm_3</th>\n",
       "      <th>address_address_cos_dlm_dc0_dlm_dc0</th>\n",
       "      <th>address_address_mel</th>\n",
       "      <th>address_address_lev_dist</th>\n",
       "      <th>address_address_lev_sim</th>\n",
       "      <th>ID_ID_exm</th>\n",
       "      <th>ID_ID_anm</th>\n",
       "      <th>ID_ID_lev_dist</th>\n",
       "      <th>ID_ID_lev_sim</th>\n",
       "      <th>gold_labels</th>\n",
       "    </tr>\n",
       "  </thead>\n",
       "  <tbody>\n",
       "    <tr>\n",
       "      <th>458</th>\n",
       "      <td>458</td>\n",
       "      <td>679</td>\n",
       "      <td>1205</td>\n",
       "      <td>0</td>\n",
       "      <td>0.003026</td>\n",
       "      <td>3.0</td>\n",
       "      <td>0.000000</td>\n",
       "      <td>2.0</td>\n",
       "      <td>0.333333</td>\n",
       "      <td>0.611111</td>\n",
       "      <td>...</td>\n",
       "      <td>1.000000</td>\n",
       "      <td>1.000</td>\n",
       "      <td>1.000000</td>\n",
       "      <td>0.0</td>\n",
       "      <td>1.000000</td>\n",
       "      <td>0</td>\n",
       "      <td>0.563485</td>\n",
       "      <td>4</td>\n",
       "      <td>0.00</td>\n",
       "      <td>1</td>\n",
       "    </tr>\n",
       "    <tr>\n",
       "      <th>1783</th>\n",
       "      <td>1783</td>\n",
       "      <td>2824</td>\n",
       "      <td>2655</td>\n",
       "      <td>0</td>\n",
       "      <td>0.010204</td>\n",
       "      <td>2.0</td>\n",
       "      <td>0.000000</td>\n",
       "      <td>1.0</td>\n",
       "      <td>0.666667</td>\n",
       "      <td>0.611111</td>\n",
       "      <td>...</td>\n",
       "      <td>0.833333</td>\n",
       "      <td>0.875</td>\n",
       "      <td>0.961818</td>\n",
       "      <td>4.0</td>\n",
       "      <td>0.909091</td>\n",
       "      <td>0</td>\n",
       "      <td>0.940156</td>\n",
       "      <td>3</td>\n",
       "      <td>0.25</td>\n",
       "      <td>1</td>\n",
       "    </tr>\n",
       "    <tr>\n",
       "      <th>120</th>\n",
       "      <td>120</td>\n",
       "      <td>197</td>\n",
       "      <td>1622</td>\n",
       "      <td>0</td>\n",
       "      <td>0.058824</td>\n",
       "      <td>2.0</td>\n",
       "      <td>0.333333</td>\n",
       "      <td>1.0</td>\n",
       "      <td>0.666667</td>\n",
       "      <td>0.777778</td>\n",
       "      <td>...</td>\n",
       "      <td>1.000000</td>\n",
       "      <td>1.000</td>\n",
       "      <td>1.000000</td>\n",
       "      <td>0.0</td>\n",
       "      <td>1.000000</td>\n",
       "      <td>0</td>\n",
       "      <td>0.121455</td>\n",
       "      <td>3</td>\n",
       "      <td>0.25</td>\n",
       "      <td>0</td>\n",
       "    </tr>\n",
       "  </tbody>\n",
       "</table>\n",
       "<p>3 rows × 33 columns</p>\n",
       "</div>"
      ],
      "text/plain": [
       "       _id  ltable_ID  rtable_ID  number_of_reviews_number_of_reviews_exm  \\\n",
       "458    458        679       1205                                        0   \n",
       "1783  1783       2824       2655                                        0   \n",
       "120    120        197       1622                                        0   \n",
       "\n",
       "      number_of_reviews_number_of_reviews_anm  \\\n",
       "458                                  0.003026   \n",
       "1783                                 0.010204   \n",
       "120                                  0.058824   \n",
       "\n",
       "      number_of_reviews_number_of_reviews_lev_dist  \\\n",
       "458                                            3.0   \n",
       "1783                                           2.0   \n",
       "120                                            2.0   \n",
       "\n",
       "      number_of_reviews_number_of_reviews_lev_sim  \\\n",
       "458                                      0.000000   \n",
       "1783                                     0.000000   \n",
       "120                                      0.333333   \n",
       "\n",
       "      price_range_price_range_lev_dist  price_range_price_range_lev_sim  \\\n",
       "458                                2.0                         0.333333   \n",
       "1783                               1.0                         0.666667   \n",
       "120                                1.0                         0.666667   \n",
       "\n",
       "      price_range_price_range_jar     ...       \\\n",
       "458                      0.611111     ...        \n",
       "1783                     0.611111     ...        \n",
       "120                      0.777778     ...        \n",
       "\n",
       "      address_address_jac_qgm_3_qgm_3  address_address_cos_dlm_dc0_dlm_dc0  \\\n",
       "458                          1.000000                                1.000   \n",
       "1783                         0.833333                                0.875   \n",
       "120                          1.000000                                1.000   \n",
       "\n",
       "      address_address_mel  address_address_lev_dist  address_address_lev_sim  \\\n",
       "458              1.000000                       0.0                 1.000000   \n",
       "1783             0.961818                       4.0                 0.909091   \n",
       "120              1.000000                       0.0                 1.000000   \n",
       "\n",
       "      ID_ID_exm  ID_ID_anm  ID_ID_lev_dist  ID_ID_lev_sim  gold_labels  \n",
       "458           0   0.563485               4           0.00            1  \n",
       "1783          0   0.940156               3           0.25            1  \n",
       "120           0   0.121455               3           0.25            0  \n",
       "\n",
       "[3 rows x 33 columns]"
      ]
     },
     "execution_count": 117,
     "metadata": {},
     "output_type": "execute_result"
    }
   ],
   "source": [
    "## Display first three rows\n",
    "H.head(3)"
   ]
  },
  {
   "cell_type": "markdown",
   "metadata": {},
   "source": [
    "Selecting the best matcher using cross-validation\n",
    "------------------"
   ]
  },
  {
   "cell_type": "markdown",
   "metadata": {
    "collapsed": false,
    "deletable": true,
    "editable": true
   },
   "source": [
    "Now, we select the best matcher using k-fold cross-validation.\n",
    "For the purposes of this guide, we use ten fold cross validation and use 'precision' and 'recall' metric to select the best matcher"
   ]
  },
  {
   "cell_type": "code",
   "execution_count": 120,
   "metadata": {
    "collapsed": false,
    "deletable": true,
    "editable": true
   },
   "outputs": [
    {
     "data": {
      "text/html": [
       "<div>\n",
       "<table border=\"1\" class=\"dataframe\">\n",
       "  <thead>\n",
       "    <tr style=\"text-align: right;\">\n",
       "      <th></th>\n",
       "      <th>Name</th>\n",
       "      <th>Matcher</th>\n",
       "      <th>Num folds</th>\n",
       "      <th>Fold 1</th>\n",
       "      <th>Fold 2</th>\n",
       "      <th>Fold 3</th>\n",
       "      <th>Fold 4</th>\n",
       "      <th>Fold 5</th>\n",
       "      <th>Fold 6</th>\n",
       "      <th>Fold 7</th>\n",
       "      <th>Fold 8</th>\n",
       "      <th>Fold 9</th>\n",
       "      <th>Fold 10</th>\n",
       "      <th>Mean score</th>\n",
       "    </tr>\n",
       "  </thead>\n",
       "  <tbody>\n",
       "    <tr>\n",
       "      <th>0</th>\n",
       "      <td>DecisionTree_06108321679779011941</td>\n",
       "      <td>&lt;py_entitymatching.matcher.dtmatcher.DTMatcher object at 0x7f50ec405cd0&gt;</td>\n",
       "      <td>10</td>\n",
       "      <td>0.937500</td>\n",
       "      <td>1.000000</td>\n",
       "      <td>1.000000</td>\n",
       "      <td>0.636364</td>\n",
       "      <td>0.933333</td>\n",
       "      <td>0.769231</td>\n",
       "      <td>1.000000</td>\n",
       "      <td>0.928571</td>\n",
       "      <td>1.000000</td>\n",
       "      <td>1.000000</td>\n",
       "      <td>0.920500</td>\n",
       "    </tr>\n",
       "    <tr>\n",
       "      <th>1</th>\n",
       "      <td>RandomForest_44318831679779011941</td>\n",
       "      <td>&lt;py_entitymatching.matcher.rfmatcher.RFMatcher object at 0x7f50ec405150&gt;</td>\n",
       "      <td>10</td>\n",
       "      <td>1.000000</td>\n",
       "      <td>0.937500</td>\n",
       "      <td>0.928571</td>\n",
       "      <td>0.928571</td>\n",
       "      <td>1.000000</td>\n",
       "      <td>0.888889</td>\n",
       "      <td>0.700000</td>\n",
       "      <td>1.000000</td>\n",
       "      <td>1.000000</td>\n",
       "      <td>1.000000</td>\n",
       "      <td>0.938353</td>\n",
       "    </tr>\n",
       "    <tr>\n",
       "      <th>2</th>\n",
       "      <td>NaiveBayes_88012351679779011941</td>\n",
       "      <td>&lt;py_entitymatching.matcher.nbmatcher.NBMatcher object at 0x7f50ec405a90&gt;</td>\n",
       "      <td>10</td>\n",
       "      <td>0.923077</td>\n",
       "      <td>0.916667</td>\n",
       "      <td>1.000000</td>\n",
       "      <td>0.923077</td>\n",
       "      <td>0.888889</td>\n",
       "      <td>0.923077</td>\n",
       "      <td>0.857143</td>\n",
       "      <td>1.000000</td>\n",
       "      <td>1.000000</td>\n",
       "      <td>0.846154</td>\n",
       "      <td>0.927808</td>\n",
       "    </tr>\n",
       "    <tr>\n",
       "      <th>3</th>\n",
       "      <td>LogisticRegression_23000361679779011941</td>\n",
       "      <td>&lt;py_entitymatching.matcher.logregmatcher.LogRegMatcher object at 0x7f50ec405fd0&gt;</td>\n",
       "      <td>10</td>\n",
       "      <td>0.714286</td>\n",
       "      <td>0.875000</td>\n",
       "      <td>0.800000</td>\n",
       "      <td>0.909091</td>\n",
       "      <td>1.000000</td>\n",
       "      <td>1.000000</td>\n",
       "      <td>0.923077</td>\n",
       "      <td>0.941176</td>\n",
       "      <td>1.000000</td>\n",
       "      <td>1.000000</td>\n",
       "      <td>0.916263</td>\n",
       "    </tr>\n",
       "    <tr>\n",
       "      <th>4</th>\n",
       "      <td>LinearRegression_86704471679779011941</td>\n",
       "      <td>&lt;py_entitymatching.matcher.linregmatcher.LinRegMatcher object at 0x7f50ec46b110&gt;</td>\n",
       "      <td>10</td>\n",
       "      <td>0.928571</td>\n",
       "      <td>0.909091</td>\n",
       "      <td>0.909091</td>\n",
       "      <td>1.000000</td>\n",
       "      <td>1.000000</td>\n",
       "      <td>0.916667</td>\n",
       "      <td>0.916667</td>\n",
       "      <td>1.000000</td>\n",
       "      <td>0.785714</td>\n",
       "      <td>0.888889</td>\n",
       "      <td>0.925469</td>\n",
       "    </tr>\n",
       "    <tr>\n",
       "      <th>5</th>\n",
       "      <td>SVM_27606481679779011941</td>\n",
       "      <td>&lt;py_entitymatching.matcher.svmmatcher.SVMMatcher object at 0x7f50ec1ffb50&gt;</td>\n",
       "      <td>10</td>\n",
       "      <td>0.360000</td>\n",
       "      <td>0.440000</td>\n",
       "      <td>0.000000</td>\n",
       "      <td>0.440000</td>\n",
       "      <td>0.416667</td>\n",
       "      <td>0.000000</td>\n",
       "      <td>0.000000</td>\n",
       "      <td>0.458333</td>\n",
       "      <td>0.000000</td>\n",
       "      <td>0.000000</td>\n",
       "      <td>0.211500</td>\n",
       "    </tr>\n",
       "  </tbody>\n",
       "</table>\n",
       "</div>"
      ],
      "text/plain": [
       "                                      Name  \\\n",
       "0        DecisionTree_06108321679779011941   \n",
       "1        RandomForest_44318831679779011941   \n",
       "2          NaiveBayes_88012351679779011941   \n",
       "3  LogisticRegression_23000361679779011941   \n",
       "4    LinearRegression_86704471679779011941   \n",
       "5                 SVM_27606481679779011941   \n",
       "\n",
       "                                                                            Matcher  \\\n",
       "0          <py_entitymatching.matcher.dtmatcher.DTMatcher object at 0x7f50ec405cd0>   \n",
       "1          <py_entitymatching.matcher.rfmatcher.RFMatcher object at 0x7f50ec405150>   \n",
       "2          <py_entitymatching.matcher.nbmatcher.NBMatcher object at 0x7f50ec405a90>   \n",
       "3  <py_entitymatching.matcher.logregmatcher.LogRegMatcher object at 0x7f50ec405fd0>   \n",
       "4  <py_entitymatching.matcher.linregmatcher.LinRegMatcher object at 0x7f50ec46b110>   \n",
       "5        <py_entitymatching.matcher.svmmatcher.SVMMatcher object at 0x7f50ec1ffb50>   \n",
       "\n",
       "   Num folds    Fold 1    Fold 2    Fold 3    Fold 4    Fold 5    Fold 6  \\\n",
       "0         10  0.937500  1.000000  1.000000  0.636364  0.933333  0.769231   \n",
       "1         10  1.000000  0.937500  0.928571  0.928571  1.000000  0.888889   \n",
       "2         10  0.923077  0.916667  1.000000  0.923077  0.888889  0.923077   \n",
       "3         10  0.714286  0.875000  0.800000  0.909091  1.000000  1.000000   \n",
       "4         10  0.928571  0.909091  0.909091  1.000000  1.000000  0.916667   \n",
       "5         10  0.360000  0.440000  0.000000  0.440000  0.416667  0.000000   \n",
       "\n",
       "     Fold 7    Fold 8    Fold 9   Fold 10  Mean score  \n",
       "0  1.000000  0.928571  1.000000  1.000000    0.920500  \n",
       "1  0.700000  1.000000  1.000000  1.000000    0.938353  \n",
       "2  0.857143  1.000000  1.000000  0.846154    0.927808  \n",
       "3  0.923077  0.941176  1.000000  1.000000    0.916263  \n",
       "4  0.916667  1.000000  0.785714  0.888889    0.925469  \n",
       "5  0.000000  0.458333  0.000000  0.000000    0.211500  "
      ]
     },
     "execution_count": 120,
     "metadata": {},
     "output_type": "execute_result"
    }
   ],
   "source": [
    "## Select the best ML matcher using CV\n",
    "\n",
    "result_precision = em.select_matcher(matchers=[dt, rf, nb, logreg, linreg, svm], table=H, exclude_attrs=[], target_attr='gold_labels', metric='precision', k=10)\n",
    "result_precision['cv_stats']"
   ]
  },
  {
   "cell_type": "code",
   "execution_count": 121,
   "metadata": {
    "collapsed": false,
    "deletable": true,
    "editable": true,
    "scrolled": true
   },
   "outputs": [
    {
     "data": {
      "text/html": [
       "<div>\n",
       "<table border=\"1\" class=\"dataframe\">\n",
       "  <thead>\n",
       "    <tr style=\"text-align: right;\">\n",
       "      <th></th>\n",
       "      <th>Name</th>\n",
       "      <th>Matcher</th>\n",
       "      <th>Num folds</th>\n",
       "      <th>Fold 1</th>\n",
       "      <th>Fold 2</th>\n",
       "      <th>Fold 3</th>\n",
       "      <th>Fold 4</th>\n",
       "      <th>Fold 5</th>\n",
       "      <th>Fold 6</th>\n",
       "      <th>Fold 7</th>\n",
       "      <th>Fold 8</th>\n",
       "      <th>Fold 9</th>\n",
       "      <th>Fold 10</th>\n",
       "      <th>Mean score</th>\n",
       "    </tr>\n",
       "  </thead>\n",
       "  <tbody>\n",
       "    <tr>\n",
       "      <th>0</th>\n",
       "      <td>DecisionTree_06108321679779011941</td>\n",
       "      <td>&lt;py_entitymatching.matcher.dtmatcher.DTMatcher object at 0x7f50ec405cd0&gt;</td>\n",
       "      <td>10</td>\n",
       "      <td>0.800000</td>\n",
       "      <td>1.000000</td>\n",
       "      <td>0.777778</td>\n",
       "      <td>1.000000</td>\n",
       "      <td>0.916667</td>\n",
       "      <td>0.777778</td>\n",
       "      <td>1.000000</td>\n",
       "      <td>0.909091</td>\n",
       "      <td>0.692308</td>\n",
       "      <td>0.937500</td>\n",
       "      <td>0.881112</td>\n",
       "    </tr>\n",
       "    <tr>\n",
       "      <th>1</th>\n",
       "      <td>RandomForest_44318831679779011941</td>\n",
       "      <td>&lt;py_entitymatching.matcher.rfmatcher.RFMatcher object at 0x7f50ec405150&gt;</td>\n",
       "      <td>10</td>\n",
       "      <td>0.846154</td>\n",
       "      <td>0.666667</td>\n",
       "      <td>1.000000</td>\n",
       "      <td>0.846154</td>\n",
       "      <td>0.846154</td>\n",
       "      <td>1.000000</td>\n",
       "      <td>1.000000</td>\n",
       "      <td>1.000000</td>\n",
       "      <td>0.857143</td>\n",
       "      <td>0.923077</td>\n",
       "      <td>0.898535</td>\n",
       "    </tr>\n",
       "    <tr>\n",
       "      <th>2</th>\n",
       "      <td>NaiveBayes_88012351679779011941</td>\n",
       "      <td>&lt;py_entitymatching.matcher.nbmatcher.NBMatcher object at 0x7f50ec405a90&gt;</td>\n",
       "      <td>10</td>\n",
       "      <td>1.000000</td>\n",
       "      <td>1.000000</td>\n",
       "      <td>0.866667</td>\n",
       "      <td>0.900000</td>\n",
       "      <td>0.937500</td>\n",
       "      <td>0.692308</td>\n",
       "      <td>0.785714</td>\n",
       "      <td>1.000000</td>\n",
       "      <td>0.900000</td>\n",
       "      <td>0.900000</td>\n",
       "      <td>0.898219</td>\n",
       "    </tr>\n",
       "    <tr>\n",
       "      <th>3</th>\n",
       "      <td>LogisticRegression_23000361679779011941</td>\n",
       "      <td>&lt;py_entitymatching.matcher.logregmatcher.LogRegMatcher object at 0x7f50ec405fd0&gt;</td>\n",
       "      <td>10</td>\n",
       "      <td>1.000000</td>\n",
       "      <td>0.916667</td>\n",
       "      <td>0.923077</td>\n",
       "      <td>0.818182</td>\n",
       "      <td>0.933333</td>\n",
       "      <td>0.916667</td>\n",
       "      <td>0.928571</td>\n",
       "      <td>0.916667</td>\n",
       "      <td>0.916667</td>\n",
       "      <td>0.909091</td>\n",
       "      <td>0.917892</td>\n",
       "    </tr>\n",
       "    <tr>\n",
       "      <th>4</th>\n",
       "      <td>LinearRegression_86704471679779011941</td>\n",
       "      <td>&lt;py_entitymatching.matcher.linregmatcher.LinRegMatcher object at 0x7f50ec46b110&gt;</td>\n",
       "      <td>10</td>\n",
       "      <td>0.833333</td>\n",
       "      <td>0.900000</td>\n",
       "      <td>0.928571</td>\n",
       "      <td>0.818182</td>\n",
       "      <td>1.000000</td>\n",
       "      <td>0.818182</td>\n",
       "      <td>1.000000</td>\n",
       "      <td>0.933333</td>\n",
       "      <td>0.937500</td>\n",
       "      <td>0.888889</td>\n",
       "      <td>0.905799</td>\n",
       "    </tr>\n",
       "    <tr>\n",
       "      <th>5</th>\n",
       "      <td>SVM_27606481679779011941</td>\n",
       "      <td>&lt;py_entitymatching.matcher.svmmatcher.SVMMatcher object at 0x7f50ec1ffb50&gt;</td>\n",
       "      <td>10</td>\n",
       "      <td>1.000000</td>\n",
       "      <td>0.000000</td>\n",
       "      <td>1.000000</td>\n",
       "      <td>1.000000</td>\n",
       "      <td>1.000000</td>\n",
       "      <td>0.000000</td>\n",
       "      <td>1.000000</td>\n",
       "      <td>0.000000</td>\n",
       "      <td>0.000000</td>\n",
       "      <td>1.000000</td>\n",
       "      <td>0.600000</td>\n",
       "    </tr>\n",
       "  </tbody>\n",
       "</table>\n",
       "</div>"
      ],
      "text/plain": [
       "                                      Name  \\\n",
       "0        DecisionTree_06108321679779011941   \n",
       "1        RandomForest_44318831679779011941   \n",
       "2          NaiveBayes_88012351679779011941   \n",
       "3  LogisticRegression_23000361679779011941   \n",
       "4    LinearRegression_86704471679779011941   \n",
       "5                 SVM_27606481679779011941   \n",
       "\n",
       "                                                                            Matcher  \\\n",
       "0          <py_entitymatching.matcher.dtmatcher.DTMatcher object at 0x7f50ec405cd0>   \n",
       "1          <py_entitymatching.matcher.rfmatcher.RFMatcher object at 0x7f50ec405150>   \n",
       "2          <py_entitymatching.matcher.nbmatcher.NBMatcher object at 0x7f50ec405a90>   \n",
       "3  <py_entitymatching.matcher.logregmatcher.LogRegMatcher object at 0x7f50ec405fd0>   \n",
       "4  <py_entitymatching.matcher.linregmatcher.LinRegMatcher object at 0x7f50ec46b110>   \n",
       "5        <py_entitymatching.matcher.svmmatcher.SVMMatcher object at 0x7f50ec1ffb50>   \n",
       "\n",
       "   Num folds    Fold 1    Fold 2    Fold 3    Fold 4    Fold 5    Fold 6  \\\n",
       "0         10  0.800000  1.000000  0.777778  1.000000  0.916667  0.777778   \n",
       "1         10  0.846154  0.666667  1.000000  0.846154  0.846154  1.000000   \n",
       "2         10  1.000000  1.000000  0.866667  0.900000  0.937500  0.692308   \n",
       "3         10  1.000000  0.916667  0.923077  0.818182  0.933333  0.916667   \n",
       "4         10  0.833333  0.900000  0.928571  0.818182  1.000000  0.818182   \n",
       "5         10  1.000000  0.000000  1.000000  1.000000  1.000000  0.000000   \n",
       "\n",
       "     Fold 7    Fold 8    Fold 9   Fold 10  Mean score  \n",
       "0  1.000000  0.909091  0.692308  0.937500    0.881112  \n",
       "1  1.000000  1.000000  0.857143  0.923077    0.898535  \n",
       "2  0.785714  1.000000  0.900000  0.900000    0.898219  \n",
       "3  0.928571  0.916667  0.916667  0.909091    0.917892  \n",
       "4  1.000000  0.933333  0.937500  0.888889    0.905799  \n",
       "5  1.000000  0.000000  0.000000  1.000000    0.600000  "
      ]
     },
     "execution_count": 121,
     "metadata": {},
     "output_type": "execute_result"
    }
   ],
   "source": [
    "# Measuring recall\n",
    "result_recall = em.select_matcher(matchers=[dt, rf, nb, logreg, linreg, svm], table=H, exclude_attrs=[], target_attr='gold_labels', metric='recall', k=10)\n",
    "result_recall['cv_stats']"
   ]
  },
  {
   "cell_type": "markdown",
   "metadata": {
    "deletable": true,
    "editable": true
   },
   "source": [
    "Debugging Matcher\n",
    "------------------"
   ]
  },
  {
   "cell_type": "markdown",
   "metadata": {},
   "source": [
    "We observe that the best matcher is either Linear Regression or Random Forest.\n",
    "We debug the RandomForest matcher to see what might be wrong( since it easier to debug). \n",
    "To do this, first we split the feature vectors into train and test."
   ]
  },
  {
   "cell_type": "code",
   "execution_count": 126,
   "metadata": {
    "collapsed": false,
    "deletable": true,
    "editable": true
   },
   "outputs": [],
   "source": [
    "## Split feature vectors (H) into train and test\n",
    "rf = em.RFMatcher()\n",
    "UV = em.split_train_test(H, train_proportion=0.5)\n",
    "U = UV['train']\n",
    "V = UV['test']"
   ]
  },
  {
   "cell_type": "markdown",
   "metadata": {},
   "source": [
    "Next, we debug the matcher using GUI. "
   ]
  },
  {
   "cell_type": "code",
   "execution_count": 85,
   "metadata": {
    "collapsed": false,
    "deletable": true,
    "editable": true
   },
   "outputs": [],
   "source": [
    "# Debug random forest using GUI\n",
    "\n",
    "em.vis_debug_rf(rf,U,V,\n",
    "               exclude_attrs=['_id','ltable_ID','rtable_ID','gold_labels'],\n",
    "               target_attr='gold_labels')"
   ]
  },
  {
   "cell_type": "markdown",
   "metadata": {},
   "source": [
    "From the debugger we notice there are many false negatives due to incorrect labeling"
   ]
  },
  {
   "cell_type": "code",
   "execution_count": 106,
   "metadata": {
    "collapsed": false,
    "deletable": true,
    "editable": true
   },
   "outputs": [
    {
     "name": "stderr",
     "output_type": "stream",
     "text": [
      "WARNING:py_entitymatching.utils.catalog_helper:Column name (gold_labels) is not present in dataframe\n"
     ]
    }
   ],
   "source": [
    "## Relabel the sample\n",
    "G2 = em.label_table(S, 'gold_labels')"
   ]
  },
  {
   "cell_type": "code",
   "execution_count": 128,
   "metadata": {
    "collapsed": false,
    "deletable": true,
    "editable": true
   },
   "outputs": [
    {
     "data": {
      "text/plain": [
       "350"
      ]
     },
     "execution_count": 128,
     "metadata": {},
     "output_type": "execute_result"
    }
   ],
   "source": [
    "#load labeled data from previous session\n",
    "G2 = em.load_object('./GoldenData2.pkl')\n",
    "len(G2)"
   ]
  },
  {
   "cell_type": "code",
   "execution_count": 129,
   "metadata": {
    "collapsed": false
   },
   "outputs": [
    {
     "data": {
      "text/plain": [
       "True"
      ]
     },
     "execution_count": 129,
     "metadata": {},
     "output_type": "execute_result"
    }
   ],
   "source": [
    "## Load G2 into em catalog\n",
    "em.set_fk_ltable(G2, 'ltable_ID')\n",
    "em.set_fk_rtable(G2, 'rtable_ID')\n",
    "em.set_key(G2, '_id')\n",
    "em.set_ltable(G2, A)\n",
    "em.set_rtable(G2, B)"
   ]
  },
  {
   "cell_type": "code",
   "execution_count": 130,
   "metadata": {
    "collapsed": false,
    "deletable": true,
    "editable": true
   },
   "outputs": [],
   "source": [
    "## Split into train and test set\n",
    "train_test = em.split_train_test(G2, train_proportion=0.7)\n",
    "I2 = train_test['train']\n",
    "J2 = train_test['test']"
   ]
  },
  {
   "cell_type": "code",
   "execution_count": 131,
   "metadata": {
    "collapsed": false,
    "deletable": true,
    "editable": true
   },
   "outputs": [
    {
     "name": "stderr",
     "output_type": "stream",
     "text": [
      "0%                          100%\n",
      "[##############################] | ETA: 00:00:00 | ETA: 00:00:00 | ETA: 00:00:00 | ETA: 00:00:00 | ETA: 00:00:01 | ETA: 00:00:01 | ETA: 00:00:01 | ETA: 00:00:00 | ETA: 00:00:00 | ETA: 00:00:00 | ETA: 00:00:00 | ETA: 00:00:00 | ETA: 00:00:00 | ETA: 00:00:00 | ETA: 00:00:00 | ETA: 00:00:00 | ETA: 00:00:00 | ETA: 00:00:00 | ETA: 00:00:00 | ETA: 00:00:00 | ETA: 00:00:00 | ETA: 00:00:00 | ETA: 00:00:00 | ETA: 00:00:00 | ETA: 00:00:00 | ETA: 00:00:00 | ETA: 00:00:00 | ETA: 00:00:00 | ETA: 00:00:00 | ETA: 00:00:00 | ETA: 00:00:00\n",
      "Total time elapsed: 00:00:01\n"
     ]
    }
   ],
   "source": [
    "## Extract features\n",
    "H2 = em.extract_feature_vecs(I2, feature_table=match_f, attrs_after=['gold_labels'])"
   ]
  },
  {
   "cell_type": "code",
   "execution_count": 132,
   "metadata": {
    "collapsed": false,
    "deletable": true,
    "editable": true
   },
   "outputs": [
    {
     "data": {
      "text/html": [
       "<div>\n",
       "<table border=\"1\" class=\"dataframe\">\n",
       "  <thead>\n",
       "    <tr style=\"text-align: right;\">\n",
       "      <th></th>\n",
       "      <th>Name</th>\n",
       "      <th>Matcher</th>\n",
       "      <th>Num folds</th>\n",
       "      <th>Fold 1</th>\n",
       "      <th>Fold 2</th>\n",
       "      <th>Fold 3</th>\n",
       "      <th>Fold 4</th>\n",
       "      <th>Fold 5</th>\n",
       "      <th>Fold 6</th>\n",
       "      <th>Fold 7</th>\n",
       "      <th>Fold 8</th>\n",
       "      <th>Fold 9</th>\n",
       "      <th>Fold 10</th>\n",
       "      <th>Mean score</th>\n",
       "    </tr>\n",
       "  </thead>\n",
       "  <tbody>\n",
       "    <tr>\n",
       "      <th>0</th>\n",
       "      <td>DecisionTree_06108321679779011941</td>\n",
       "      <td>&lt;py_entitymatching.matcher.dtmatcher.DTMatcher object at 0x7f50ec405cd0&gt;</td>\n",
       "      <td>10</td>\n",
       "      <td>0.888889</td>\n",
       "      <td>0.846154</td>\n",
       "      <td>1.000000</td>\n",
       "      <td>1.000000</td>\n",
       "      <td>0.888889</td>\n",
       "      <td>1.000000</td>\n",
       "      <td>1.000000</td>\n",
       "      <td>1.000000</td>\n",
       "      <td>0.818182</td>\n",
       "      <td>1.000000</td>\n",
       "      <td>0.944211</td>\n",
       "    </tr>\n",
       "    <tr>\n",
       "      <th>1</th>\n",
       "      <td>RandomForest_80209948978290111941</td>\n",
       "      <td>&lt;py_entitymatching.matcher.rfmatcher.RFMatcher object at 0x7f50ec018350&gt;</td>\n",
       "      <td>10</td>\n",
       "      <td>0.823529</td>\n",
       "      <td>0.818182</td>\n",
       "      <td>1.000000</td>\n",
       "      <td>0.900000</td>\n",
       "      <td>1.000000</td>\n",
       "      <td>1.000000</td>\n",
       "      <td>0.916667</td>\n",
       "      <td>0.833333</td>\n",
       "      <td>1.000000</td>\n",
       "      <td>0.937500</td>\n",
       "      <td>0.922921</td>\n",
       "    </tr>\n",
       "    <tr>\n",
       "      <th>2</th>\n",
       "      <td>NaiveBayes_88012351679779011941</td>\n",
       "      <td>&lt;py_entitymatching.matcher.nbmatcher.NBMatcher object at 0x7f50ec405a90&gt;</td>\n",
       "      <td>10</td>\n",
       "      <td>1.000000</td>\n",
       "      <td>0.785714</td>\n",
       "      <td>0.909091</td>\n",
       "      <td>0.875000</td>\n",
       "      <td>0.916667</td>\n",
       "      <td>0.909091</td>\n",
       "      <td>1.000000</td>\n",
       "      <td>0.937500</td>\n",
       "      <td>0.916667</td>\n",
       "      <td>0.733333</td>\n",
       "      <td>0.898306</td>\n",
       "    </tr>\n",
       "    <tr>\n",
       "      <th>3</th>\n",
       "      <td>LogisticRegression_23000361679779011941</td>\n",
       "      <td>&lt;py_entitymatching.matcher.logregmatcher.LogRegMatcher object at 0x7f50ec405fd0&gt;</td>\n",
       "      <td>10</td>\n",
       "      <td>0.916667</td>\n",
       "      <td>0.916667</td>\n",
       "      <td>0.928571</td>\n",
       "      <td>1.000000</td>\n",
       "      <td>1.000000</td>\n",
       "      <td>1.000000</td>\n",
       "      <td>0.750000</td>\n",
       "      <td>1.000000</td>\n",
       "      <td>1.000000</td>\n",
       "      <td>1.000000</td>\n",
       "      <td>0.951190</td>\n",
       "    </tr>\n",
       "    <tr>\n",
       "      <th>4</th>\n",
       "      <td>LinearRegression_86704471679779011941</td>\n",
       "      <td>&lt;py_entitymatching.matcher.linregmatcher.LinRegMatcher object at 0x7f50ec46b110&gt;</td>\n",
       "      <td>10</td>\n",
       "      <td>0.833333</td>\n",
       "      <td>1.000000</td>\n",
       "      <td>1.000000</td>\n",
       "      <td>0.909091</td>\n",
       "      <td>1.000000</td>\n",
       "      <td>1.000000</td>\n",
       "      <td>1.000000</td>\n",
       "      <td>0.833333</td>\n",
       "      <td>1.000000</td>\n",
       "      <td>0.866667</td>\n",
       "      <td>0.944242</td>\n",
       "    </tr>\n",
       "    <tr>\n",
       "      <th>5</th>\n",
       "      <td>SVM_27606481679779011941</td>\n",
       "      <td>&lt;py_entitymatching.matcher.svmmatcher.SVMMatcher object at 0x7f50ec1ffb50&gt;</td>\n",
       "      <td>10</td>\n",
       "      <td>0.000000</td>\n",
       "      <td>0.000000</td>\n",
       "      <td>0.000000</td>\n",
       "      <td>0.000000</td>\n",
       "      <td>0.000000</td>\n",
       "      <td>0.000000</td>\n",
       "      <td>0.000000</td>\n",
       "      <td>0.000000</td>\n",
       "      <td>0.000000</td>\n",
       "      <td>0.000000</td>\n",
       "      <td>0.000000</td>\n",
       "    </tr>\n",
       "  </tbody>\n",
       "</table>\n",
       "</div>"
      ],
      "text/plain": [
       "                                      Name  \\\n",
       "0        DecisionTree_06108321679779011941   \n",
       "1        RandomForest_80209948978290111941   \n",
       "2          NaiveBayes_88012351679779011941   \n",
       "3  LogisticRegression_23000361679779011941   \n",
       "4    LinearRegression_86704471679779011941   \n",
       "5                 SVM_27606481679779011941   \n",
       "\n",
       "                                                                            Matcher  \\\n",
       "0          <py_entitymatching.matcher.dtmatcher.DTMatcher object at 0x7f50ec405cd0>   \n",
       "1          <py_entitymatching.matcher.rfmatcher.RFMatcher object at 0x7f50ec018350>   \n",
       "2          <py_entitymatching.matcher.nbmatcher.NBMatcher object at 0x7f50ec405a90>   \n",
       "3  <py_entitymatching.matcher.logregmatcher.LogRegMatcher object at 0x7f50ec405fd0>   \n",
       "4  <py_entitymatching.matcher.linregmatcher.LinRegMatcher object at 0x7f50ec46b110>   \n",
       "5        <py_entitymatching.matcher.svmmatcher.SVMMatcher object at 0x7f50ec1ffb50>   \n",
       "\n",
       "   Num folds    Fold 1    Fold 2    Fold 3    Fold 4    Fold 5    Fold 6  \\\n",
       "0         10  0.888889  0.846154  1.000000  1.000000  0.888889  1.000000   \n",
       "1         10  0.823529  0.818182  1.000000  0.900000  1.000000  1.000000   \n",
       "2         10  1.000000  0.785714  0.909091  0.875000  0.916667  0.909091   \n",
       "3         10  0.916667  0.916667  0.928571  1.000000  1.000000  1.000000   \n",
       "4         10  0.833333  1.000000  1.000000  0.909091  1.000000  1.000000   \n",
       "5         10  0.000000  0.000000  0.000000  0.000000  0.000000  0.000000   \n",
       "\n",
       "     Fold 7    Fold 8    Fold 9   Fold 10  Mean score  \n",
       "0  1.000000  1.000000  0.818182  1.000000    0.944211  \n",
       "1  0.916667  0.833333  1.000000  0.937500    0.922921  \n",
       "2  1.000000  0.937500  0.916667  0.733333    0.898306  \n",
       "3  0.750000  1.000000  1.000000  1.000000    0.951190  \n",
       "4  1.000000  0.833333  1.000000  0.866667    0.944242  \n",
       "5  0.000000  0.000000  0.000000  0.000000    0.000000  "
      ]
     },
     "execution_count": 132,
     "metadata": {},
     "output_type": "execute_result"
    }
   ],
   "source": [
    "## Cross validation score\n",
    "result = em.select_matcher(matchers=[dt, rf, nb, logreg, linreg, svm], table=H2, exclude_attrs=[], target_attr='gold_labels', metric='precision', k=10)\n",
    "result['cv_stats']"
   ]
  },
  {
   "cell_type": "code",
   "execution_count": 133,
   "metadata": {
    "collapsed": false,
    "deletable": true,
    "editable": true
   },
   "outputs": [
    {
     "data": {
      "text/html": [
       "<div>\n",
       "<table border=\"1\" class=\"dataframe\">\n",
       "  <thead>\n",
       "    <tr style=\"text-align: right;\">\n",
       "      <th></th>\n",
       "      <th>Name</th>\n",
       "      <th>Matcher</th>\n",
       "      <th>Num folds</th>\n",
       "      <th>Fold 1</th>\n",
       "      <th>Fold 2</th>\n",
       "      <th>Fold 3</th>\n",
       "      <th>Fold 4</th>\n",
       "      <th>Fold 5</th>\n",
       "      <th>Fold 6</th>\n",
       "      <th>Fold 7</th>\n",
       "      <th>Fold 8</th>\n",
       "      <th>Fold 9</th>\n",
       "      <th>Fold 10</th>\n",
       "      <th>Mean score</th>\n",
       "    </tr>\n",
       "  </thead>\n",
       "  <tbody>\n",
       "    <tr>\n",
       "      <th>0</th>\n",
       "      <td>DecisionTree_06108321679779011941</td>\n",
       "      <td>&lt;py_entitymatching.matcher.dtmatcher.DTMatcher object at 0x7f50ec405cd0&gt;</td>\n",
       "      <td>10</td>\n",
       "      <td>0.882353</td>\n",
       "      <td>0.900000</td>\n",
       "      <td>0.916667</td>\n",
       "      <td>1.000000</td>\n",
       "      <td>0.750000</td>\n",
       "      <td>1.000000</td>\n",
       "      <td>1.000000</td>\n",
       "      <td>0.846154</td>\n",
       "      <td>0.900000</td>\n",
       "      <td>0.714286</td>\n",
       "      <td>0.890946</td>\n",
       "    </tr>\n",
       "    <tr>\n",
       "      <th>1</th>\n",
       "      <td>RandomForest_80209948978290111941</td>\n",
       "      <td>&lt;py_entitymatching.matcher.rfmatcher.RFMatcher object at 0x7f50ec018350&gt;</td>\n",
       "      <td>10</td>\n",
       "      <td>0.888889</td>\n",
       "      <td>1.000000</td>\n",
       "      <td>0.928571</td>\n",
       "      <td>1.000000</td>\n",
       "      <td>0.833333</td>\n",
       "      <td>1.000000</td>\n",
       "      <td>0.846154</td>\n",
       "      <td>0.800000</td>\n",
       "      <td>0.933333</td>\n",
       "      <td>0.923077</td>\n",
       "      <td>0.915336</td>\n",
       "    </tr>\n",
       "    <tr>\n",
       "      <th>2</th>\n",
       "      <td>NaiveBayes_88012351679779011941</td>\n",
       "      <td>&lt;py_entitymatching.matcher.nbmatcher.NBMatcher object at 0x7f50ec405a90&gt;</td>\n",
       "      <td>10</td>\n",
       "      <td>0.933333</td>\n",
       "      <td>0.937500</td>\n",
       "      <td>0.875000</td>\n",
       "      <td>0.875000</td>\n",
       "      <td>0.833333</td>\n",
       "      <td>0.857143</td>\n",
       "      <td>1.000000</td>\n",
       "      <td>1.000000</td>\n",
       "      <td>0.875000</td>\n",
       "      <td>0.846154</td>\n",
       "      <td>0.903246</td>\n",
       "    </tr>\n",
       "    <tr>\n",
       "      <th>3</th>\n",
       "      <td>LogisticRegression_23000361679779011941</td>\n",
       "      <td>&lt;py_entitymatching.matcher.logregmatcher.LogRegMatcher object at 0x7f50ec405fd0&gt;</td>\n",
       "      <td>10</td>\n",
       "      <td>0.900000</td>\n",
       "      <td>0.777778</td>\n",
       "      <td>0.923077</td>\n",
       "      <td>1.000000</td>\n",
       "      <td>0.923077</td>\n",
       "      <td>0.846154</td>\n",
       "      <td>1.000000</td>\n",
       "      <td>1.000000</td>\n",
       "      <td>0.928571</td>\n",
       "      <td>0.846154</td>\n",
       "      <td>0.914481</td>\n",
       "    </tr>\n",
       "    <tr>\n",
       "      <th>4</th>\n",
       "      <td>LinearRegression_86704471679779011941</td>\n",
       "      <td>&lt;py_entitymatching.matcher.linregmatcher.LinRegMatcher object at 0x7f50ec46b110&gt;</td>\n",
       "      <td>10</td>\n",
       "      <td>0.857143</td>\n",
       "      <td>0.909091</td>\n",
       "      <td>0.769231</td>\n",
       "      <td>0.866667</td>\n",
       "      <td>0.909091</td>\n",
       "      <td>0.941176</td>\n",
       "      <td>1.000000</td>\n",
       "      <td>0.900000</td>\n",
       "      <td>1.000000</td>\n",
       "      <td>0.916667</td>\n",
       "      <td>0.906907</td>\n",
       "    </tr>\n",
       "    <tr>\n",
       "      <th>5</th>\n",
       "      <td>SVM_27606481679779011941</td>\n",
       "      <td>&lt;py_entitymatching.matcher.svmmatcher.SVMMatcher object at 0x7f50ec1ffb50&gt;</td>\n",
       "      <td>10</td>\n",
       "      <td>1.000000</td>\n",
       "      <td>1.000000</td>\n",
       "      <td>0.000000</td>\n",
       "      <td>1.000000</td>\n",
       "      <td>1.000000</td>\n",
       "      <td>0.000000</td>\n",
       "      <td>0.000000</td>\n",
       "      <td>1.000000</td>\n",
       "      <td>0.000000</td>\n",
       "      <td>1.000000</td>\n",
       "      <td>0.600000</td>\n",
       "    </tr>\n",
       "  </tbody>\n",
       "</table>\n",
       "</div>"
      ],
      "text/plain": [
       "                                      Name  \\\n",
       "0        DecisionTree_06108321679779011941   \n",
       "1        RandomForest_80209948978290111941   \n",
       "2          NaiveBayes_88012351679779011941   \n",
       "3  LogisticRegression_23000361679779011941   \n",
       "4    LinearRegression_86704471679779011941   \n",
       "5                 SVM_27606481679779011941   \n",
       "\n",
       "                                                                            Matcher  \\\n",
       "0          <py_entitymatching.matcher.dtmatcher.DTMatcher object at 0x7f50ec405cd0>   \n",
       "1          <py_entitymatching.matcher.rfmatcher.RFMatcher object at 0x7f50ec018350>   \n",
       "2          <py_entitymatching.matcher.nbmatcher.NBMatcher object at 0x7f50ec405a90>   \n",
       "3  <py_entitymatching.matcher.logregmatcher.LogRegMatcher object at 0x7f50ec405fd0>   \n",
       "4  <py_entitymatching.matcher.linregmatcher.LinRegMatcher object at 0x7f50ec46b110>   \n",
       "5        <py_entitymatching.matcher.svmmatcher.SVMMatcher object at 0x7f50ec1ffb50>   \n",
       "\n",
       "   Num folds    Fold 1    Fold 2    Fold 3    Fold 4    Fold 5    Fold 6  \\\n",
       "0         10  0.882353  0.900000  0.916667  1.000000  0.750000  1.000000   \n",
       "1         10  0.888889  1.000000  0.928571  1.000000  0.833333  1.000000   \n",
       "2         10  0.933333  0.937500  0.875000  0.875000  0.833333  0.857143   \n",
       "3         10  0.900000  0.777778  0.923077  1.000000  0.923077  0.846154   \n",
       "4         10  0.857143  0.909091  0.769231  0.866667  0.909091  0.941176   \n",
       "5         10  1.000000  1.000000  0.000000  1.000000  1.000000  0.000000   \n",
       "\n",
       "     Fold 7    Fold 8    Fold 9   Fold 10  Mean score  \n",
       "0  1.000000  0.846154  0.900000  0.714286    0.890946  \n",
       "1  0.846154  0.800000  0.933333  0.923077    0.915336  \n",
       "2  1.000000  1.000000  0.875000  0.846154    0.903246  \n",
       "3  1.000000  1.000000  0.928571  0.846154    0.914481  \n",
       "4  1.000000  0.900000  1.000000  0.916667    0.906907  \n",
       "5  0.000000  1.000000  0.000000  1.000000    0.600000  "
      ]
     },
     "execution_count": 133,
     "metadata": {},
     "output_type": "execute_result"
    }
   ],
   "source": [
    "## Cross validation score for recall\n",
    "result_recall_2 = em.select_matcher(matchers=[dt, rf, nb, logreg, linreg, svm], table=H, exclude_attrs=[], target_attr='gold_labels', metric='recall', k=10)\n",
    "result_recall_2['cv_stats']"
   ]
  },
  {
   "cell_type": "markdown",
   "metadata": {},
   "source": [
    "We observe that due to relabeling both precision and recall have improved.Now we can further debug and look for improvements"
   ]
  },
  {
   "cell_type": "markdown",
   "metadata": {},
   "source": [
    "Debugging Matcher\n",
    "------------------"
   ]
  },
  {
   "cell_type": "markdown",
   "metadata": {},
   "source": [
    "We debug the RandomForest matcher to see what might be wrong(since it easier to debug). To do this, first we split the feature vectors into train and test."
   ]
  },
  {
   "cell_type": "code",
   "execution_count": 135,
   "metadata": {
    "collapsed": false,
    "deletable": true,
    "editable": true
   },
   "outputs": [],
   "source": [
    "## Split feature vectors (H) into train and test\n",
    "UV2 = em.split_train_test(H, train_proportion=0.5)\n",
    "U2 = UV2['train']\n",
    "V2 = UV2['test']"
   ]
  },
  {
   "cell_type": "markdown",
   "metadata": {},
   "source": [
    "Next, we debug the matcher using GUI. "
   ]
  },
  {
   "cell_type": "code",
   "execution_count": 116,
   "metadata": {
    "collapsed": true,
    "deletable": true,
    "editable": true
   },
   "outputs": [],
   "source": [
    "# Debug random forest using GUI\n",
    "\n",
    "em.vis_debug_rf(rf,U2,V2,\n",
    "               exclude_attrs=['_id','ltable_ID','rtable_ID','gold_labels'],\n",
    "               target_attr='gold_labels')"
   ]
  },
  {
   "cell_type": "markdown",
   "metadata": {},
   "source": [
    "From the GUI, we observe that there are just few false positives and negatives. We can proceed for evaluation.\n"
   ]
  },
  {
   "cell_type": "markdown",
   "metadata": {},
   "source": [
    "<h1> Evaluating the matching output"
   ]
  },
  {
   "cell_type": "markdown",
   "metadata": {},
   "source": [
    "Form feature vectors for the test set J"
   ]
  },
  {
   "cell_type": "code",
   "execution_count": 136,
   "metadata": {
    "collapsed": false
   },
   "outputs": [
    {
     "name": "stderr",
     "output_type": "stream",
     "text": [
      "0%                          100%\n",
      "[##############################] | ETA: 00:00:00 | ETA: 00:00:00 | ETA: 00:00:00 | ETA: 00:00:00 | ETA: 00:00:00 | ETA: 00:00:00 | ETA: 00:00:00 | ETA: 00:00:00 | ETA: 00:00:00 | ETA: 00:00:00 | ETA: 00:00:00 | ETA: 00:00:00 | ETA: 00:00:00 | ETA: 00:00:00 | ETA: 00:00:00 | ETA: 00:00:00 | ETA: 00:00:00 | ETA: 00:00:00 | ETA: 00:00:00 | ETA: 00:00:00 | ETA: 00:00:00 | ETA: 00:00:00 | ETA: 00:00:00 | ETA: 00:00:00 | ETA: 00:00:00 | ETA: 00:00:00 | ETA: 00:00:00 | ETA: 00:00:00 | ETA: 00:00:00 | ETA: 00:00:00 | ETA: 00:00:00\n",
      "Total time elapsed: 00:00:00\n"
     ]
    }
   ],
   "source": [
    "L2 = em.extract_feature_vecs(J2, feature_table=match_f, attrs_after=['gold_labels'])"
   ]
  },
  {
   "cell_type": "markdown",
   "metadata": {},
   "source": [
    "Here we train the machine learning classifiers on the train set I"
   ]
  },
  {
   "cell_type": "code",
   "execution_count": 147,
   "metadata": {
    "collapsed": false,
    "deletable": true,
    "editable": true
   },
   "outputs": [],
   "source": [
    "# Train random forest using feature vectors from I\n",
    "rf.fit(table = H2,\n",
    "        exclude_attrs=['_id','ltable_ID','rtable_ID','gold_labels'],\n",
    "        target_attr='gold_labels')"
   ]
  },
  {
   "cell_type": "code",
   "execution_count": 146,
   "metadata": {
    "collapsed": true
   },
   "outputs": [],
   "source": [
    "# Train decision tree using feature vectors from I\n",
    "dt.fit(table = H2,\n",
    "        exclude_attrs=['_id','ltable_ID','rtable_ID','gold_labels'],\n",
    "        target_attr='gold_labels')"
   ]
  },
  {
   "cell_type": "code",
   "execution_count": 145,
   "metadata": {
    "collapsed": true
   },
   "outputs": [],
   "source": [
    "# Train Naive Bayesian\n",
    "nb.fit(table = H2,\n",
    "        exclude_attrs=['_id','ltable_ID','rtable_ID','gold_labels'],\n",
    "        target_attr='gold_labels')"
   ]
  },
  {
   "cell_type": "code",
   "execution_count": 149,
   "metadata": {
    "collapsed": true
   },
   "outputs": [],
   "source": [
    "# Train linear regression\n",
    "linreg.fit(table = H2,\n",
    "        exclude_attrs=['_id','ltable_ID','rtable_ID','gold_labels'],\n",
    "        target_attr='gold_labels')"
   ]
  },
  {
   "cell_type": "code",
   "execution_count": 150,
   "metadata": {
    "collapsed": true
   },
   "outputs": [],
   "source": [
    "# Train logistic regression\n",
    "logreg.fit(table = H2,\n",
    "        exclude_attrs=['_id','ltable_ID','rtable_ID','gold_labels'],\n",
    "        target_attr='gold_labels')"
   ]
  },
  {
   "cell_type": "code",
   "execution_count": 151,
   "metadata": {
    "collapsed": true
   },
   "outputs": [],
   "source": [
    "# Train SVM\n",
    "svm.fit(table = H2,\n",
    "        exclude_attrs=['_id','ltable_ID','rtable_ID','gold_labels'],\n",
    "        target_attr='gold_labels')"
   ]
  },
  {
   "cell_type": "markdown",
   "metadata": {},
   "source": [
    "Here we use the above trained machine learning algorithms to predict the label for the test set J"
   ]
  },
  {
   "cell_type": "code",
   "execution_count": 153,
   "metadata": {
    "collapsed": false,
    "deletable": true,
    "editable": true
   },
   "outputs": [],
   "source": [
    "# Evaluate Random Forest\n",
    "predictions_rf = rf.predict(table = L2,\n",
    "                        exclude_attrs=['_id','ltable_ID','rtable_ID','gold_labels'],\n",
    "                        append = True, target_attr='predicted', inplace=False)"
   ]
  },
  {
   "cell_type": "code",
   "execution_count": 154,
   "metadata": {
    "collapsed": false,
    "deletable": true,
    "editable": true
   },
   "outputs": [
    {
     "name": "stdout",
     "output_type": "stream",
     "text": [
      "Precision : 95.92% (47/49)\n",
      "Recall : 90.38% (47/52)\n",
      "F1 : 93.07%\n",
      "False positives : 2 (out of 49 positive predictions)\n",
      "False negatives : 5 (out of 57 negative predictions)\n"
     ]
    }
   ],
   "source": [
    "eval_result = em.eval_matches(predictions_rf, 'gold_labels', 'predicted')\n",
    "em.print_eval_summary(eval_result)"
   ]
  },
  {
   "cell_type": "code",
   "execution_count": 157,
   "metadata": {
    "collapsed": true
   },
   "outputs": [],
   "source": [
    "# Evaluate Linear Regression\n",
    "predictions_linreg = linreg.predict(table = L2,\n",
    "                        exclude_attrs=['_id','ltable_ID','rtable_ID','gold_labels'],\n",
    "                        append = True, target_attr='predicted', inplace=False)"
   ]
  },
  {
   "cell_type": "code",
   "execution_count": 158,
   "metadata": {
    "collapsed": false,
    "deletable": true,
    "editable": true
   },
   "outputs": [
    {
     "name": "stdout",
     "output_type": "stream",
     "text": [
      "Precision : 98.04% (50/51)\n",
      "Recall : 96.15% (50/52)\n",
      "F1 : 97.09%\n",
      "False positives : 1 (out of 51 positive predictions)\n",
      "False negatives : 2 (out of 55 negative predictions)\n"
     ]
    }
   ],
   "source": [
    "eval_result = em.eval_matches(predictions_linreg, 'gold_labels', 'predicted')\n",
    "em.print_eval_summary(eval_result)"
   ]
  },
  {
   "cell_type": "code",
   "execution_count": 159,
   "metadata": {
    "collapsed": true,
    "deletable": true,
    "editable": true
   },
   "outputs": [],
   "source": [
    "# Evaluate Logistic Regression\n",
    "predictions_logreg = logreg.predict(table = L2,\n",
    "                        exclude_attrs=['_id','ltable_ID','rtable_ID','gold_labels'],\n",
    "                        append = True, target_attr='predicted', inplace=False)"
   ]
  },
  {
   "cell_type": "code",
   "execution_count": 160,
   "metadata": {
    "collapsed": false
   },
   "outputs": [
    {
     "name": "stdout",
     "output_type": "stream",
     "text": [
      "Precision : 98.0% (49/50)\n",
      "Recall : 94.23% (49/52)\n",
      "F1 : 96.08%\n",
      "False positives : 1 (out of 50 positive predictions)\n",
      "False negatives : 3 (out of 56 negative predictions)\n"
     ]
    }
   ],
   "source": [
    "eval_result = em.eval_matches(predictions_logreg, 'gold_labels', 'predicted')\n",
    "em.print_eval_summary(eval_result)"
   ]
  },
  {
   "cell_type": "code",
   "execution_count": 161,
   "metadata": {
    "collapsed": true
   },
   "outputs": [],
   "source": [
    "# Evaluate Decision Tree\n",
    "predictions_dt = dt.predict(table = L2,\n",
    "                        exclude_attrs=['_id','ltable_ID','rtable_ID','gold_labels'],\n",
    "                        append = True, target_attr='predicted', inplace=False)"
   ]
  },
  {
   "cell_type": "code",
   "execution_count": 162,
   "metadata": {
    "collapsed": false
   },
   "outputs": [
    {
     "name": "stdout",
     "output_type": "stream",
     "text": [
      "Precision : 87.04% (47/54)\n",
      "Recall : 90.38% (47/52)\n",
      "F1 : 88.68%\n",
      "False positives : 7 (out of 54 positive predictions)\n",
      "False negatives : 5 (out of 52 negative predictions)\n"
     ]
    }
   ],
   "source": [
    "eval_result = em.eval_matches(predictions_dt, 'gold_labels', 'predicted')\n",
    "em.print_eval_summary(eval_result)"
   ]
  },
  {
   "cell_type": "code",
   "execution_count": 164,
   "metadata": {
    "collapsed": true
   },
   "outputs": [],
   "source": [
    "# Evaluate Naive Bayesian\n",
    "predictions_nb = nb.predict(table = L2,\n",
    "                        exclude_attrs=['_id','ltable_ID','rtable_ID','gold_labels'],\n",
    "                        append = True, target_attr='predicted', inplace=False)"
   ]
  },
  {
   "cell_type": "code",
   "execution_count": 165,
   "metadata": {
    "collapsed": false
   },
   "outputs": [
    {
     "name": "stdout",
     "output_type": "stream",
     "text": [
      "Precision : 94.23% (49/52)\n",
      "Recall : 94.23% (49/52)\n",
      "F1 : 94.23%\n",
      "False positives : 3 (out of 52 positive predictions)\n",
      "False negatives : 3 (out of 54 negative predictions)\n"
     ]
    }
   ],
   "source": [
    "eval_result = em.eval_matches(predictions_nb, 'gold_labels', 'predicted')\n",
    "em.print_eval_summary(eval_result)"
   ]
  },
  {
   "cell_type": "code",
   "execution_count": 166,
   "metadata": {
    "collapsed": true
   },
   "outputs": [],
   "source": [
    "# Evaluate SVM\n",
    "predictions_svm = svm.predict(table = L2,\n",
    "                        exclude_attrs=['_id','ltable_ID','rtable_ID','gold_labels'],\n",
    "                        append = True, target_attr='predicted', inplace=False)"
   ]
  },
  {
   "cell_type": "code",
   "execution_count": 169,
   "metadata": {
    "collapsed": false
   },
   "outputs": [
    {
     "name": "stdout",
     "output_type": "stream",
     "text": [
      "Precision : 87.5% (49/56)\n",
      "Recall : 94.23% (49/52)\n",
      "F1 : 90.74%\n",
      "False positives : 7 (out of 56 positive predictions)\n",
      "False negatives : 3 (out of 50 negative predictions)\n"
     ]
    }
   ],
   "source": [
    "eval_result = em.eval_matches(predictions_svm, 'gold_labels', 'predicted')\n",
    "em.print_eval_summary(eval_result)"
   ]
  },
  {
   "cell_type": "markdown",
   "metadata": {},
   "source": [
    "From the results, we observe that Linear Regression is the best classifier. Below are the P, R, F1 scores for the same."
   ]
  },
  {
   "cell_type": "code",
   "execution_count": 170,
   "metadata": {
    "collapsed": false
   },
   "outputs": [
    {
     "name": "stdout",
     "output_type": "stream",
     "text": [
      "Precision : 98.04% (50/51)\n",
      "Recall : 96.15% (50/52)\n",
      "F1 : 97.09%\n",
      "False positives : 1 (out of 51 positive predictions)\n",
      "False negatives : 2 (out of 55 negative predictions)\n"
     ]
    }
   ],
   "source": [
    "## Thus the best matcher is linear regression based with precision,recall and F1 scores given below\n",
    "eval_result = em.eval_matches(predictions_linreg, 'gold_labels', 'predicted')\n",
    "em.print_eval_summary(eval_result)"
   ]
  }
 ],
 "metadata": {
  "kernelspec": {
   "display_name": "Python 2",
   "language": "python",
   "name": "python2"
  },
  "language_info": {
   "codemirror_mode": {
    "name": "ipython",
    "version": 2.0
   },
   "file_extension": ".py",
   "mimetype": "text/x-python",
   "name": "python",
   "nbconvert_exporter": "python",
   "pygments_lexer": "ipython2",
   "version": "2.7.13"
  }
 },
 "nbformat": 4,
 "nbformat_minor": 0
}